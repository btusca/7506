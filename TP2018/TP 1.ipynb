{
 "cells": [
  {
   "cell_type": "markdown",
   "metadata": {},
   "source": [
    "## TP 1\n",
    "### Objetivo\n",
    "El objetivo del primer TP es realizar un análisis exploratorio del set de datos del TP. Queremos ver qué cosas podemos descubrir sobre los datos que puedan resultar interesantes. Los requisitos de la primera entrega son los siguientes:\n",
    "\n",
    " - El análisis debe estar hecho en Python Pandas o R.\n",
    " - El análisis debe entregarse en formato papel en una carpeta en donde se incluya el reporte completo y todas las visualizaciones generadas. Es altamente recomendable que las visualizaciones se impriman en color.\n",
    " - Informar el link a un repositorio Github en donde pueda bajarse el código completo para generar el análisis.\n",
    " - Agregar en Kaggle un kernel con el análisis exploratorio realizado.\n",
    " \n",
    "### Evaluación\n",
    "\n",
    " - Originalidad del análisis exploratorio. \n",
    " - Calidad del reporte. ¿Está bien escrito? ¿Es claro y preciso? \n",
    " - Calidad del análisis exploratorio: qué tipo de preguntas se hacen y de qué forma se responden, ¿es la respuesta clara y concisa con respecto a la pregunta formulada? \n",
    " #### Calidad de las visualizaciones presentadas.\n",
    " - ¿Tienen todos los ejes su rótulo?\n",
    " - ¿Tiene cada visualización un título?\n",
    " - ¿Es entendible la visualización sin tener que leer la explicación?\n",
    " - ¿El tipo de plot elegido es adecuado para lo que se quiere visualizar?\n",
    " - ¿Es una visualización interesante?\n",
    " - ¿El uso del color es adecuado?\n",
    " - ¿Hay un exceso o falta de elementos visuales en la visualización elegida?\n",
    " - ¿La visualización es consistente con los datos?\n",
    "#### Conclusiones presentadas.\n",
    " - ¿Presenta el grupo un listado de \"insights\" aprendidos sobre los datos en base al análisis realizado? ¿Es interesante?\n",
    " - ¿Pudieron descubrir features en el campo ‘model’? ¿Cuales fueron?\n",
    " - ¿Identificaron patrones o funnels de usuarios que realizan checkouts/conversiones en Trocafone? \n",
    " - ¿Se comportan de forma distinta dependiendo del tipo de dispositivo desde el cual acceden?\n",
    " - ¿Se comportan de forma distinta dependiendo del tipo de fuente de tráfico al que pertenecen?\n",
    " - ¿Realizaron algún análisis sobre búsquedas que realizan los usuarios y las keywords que utilizan apoyándose en algún tipo de visualización?\n",
    " - ¿Realizaron algún análisis de lugar donde se originan las visitas de los usuarios de Trocafone (a nivel país, regiones más importantes o ciudades más importantes) apoyándose en algún tipo de visualización?\n",
    " - ¿Pudieron descubrir features jerarquizando información de alguno de los campos (por ejemplo “screen_resolution”)?\n",
    " - ¿El análisis realiza un aporte a Trocafone?\n",
    "\n",
    "\n"
   ]
  },
  {
   "cell_type": "code",
   "execution_count": 1,
   "metadata": {
    "collapsed": true
   },
   "outputs": [],
   "source": [
    "%matplotlib inline\n",
    "\n",
    "import datetime as datetime\n",
    "import pandas as pd\n",
    "import numpy as np\n",
    "import matplotlib.pyplot as plt\n",
    "import seaborn as sns\n",
    "\n",
    "plt.style.use('seaborn-darkgrid')\n",
    "sns.set(rc={'figure.figsize':(15.7,10.27)})"
   ]
  },
  {
   "cell_type": "code",
   "execution_count": 2,
   "metadata": {
    "collapsed": true
   },
   "outputs": [],
   "source": [
    "#Cargo los datos en memoria\n",
    "eventos = pd.read_csv('fiuba-trocafone-tp1-final-set/events.csv', low_memory=False)\n"
   ]
  },
  {
   "cell_type": "code",
   "execution_count": 3,
   "metadata": {},
   "outputs": [
    {
     "data": {
      "text/html": [
       "<div>\n",
       "<style>\n",
       "    .dataframe thead tr:only-child th {\n",
       "        text-align: right;\n",
       "    }\n",
       "\n",
       "    .dataframe thead th {\n",
       "        text-align: left;\n",
       "    }\n",
       "\n",
       "    .dataframe tbody tr th {\n",
       "        vertical-align: top;\n",
       "    }\n",
       "</style>\n",
       "<table border=\"1\" class=\"dataframe\">\n",
       "  <thead>\n",
       "    <tr style=\"text-align: right;\">\n",
       "      <th></th>\n",
       "      <th>timestamp</th>\n",
       "      <th>event</th>\n",
       "      <th>person</th>\n",
       "      <th>url</th>\n",
       "      <th>sku</th>\n",
       "      <th>model</th>\n",
       "      <th>condition</th>\n",
       "      <th>storage</th>\n",
       "      <th>color</th>\n",
       "      <th>skus</th>\n",
       "      <th>...</th>\n",
       "      <th>search_engine</th>\n",
       "      <th>channel</th>\n",
       "      <th>new_vs_returning</th>\n",
       "      <th>city</th>\n",
       "      <th>region</th>\n",
       "      <th>country</th>\n",
       "      <th>device_type</th>\n",
       "      <th>screen_resolution</th>\n",
       "      <th>operating_system_version</th>\n",
       "      <th>browser_version</th>\n",
       "    </tr>\n",
       "  </thead>\n",
       "  <tbody>\n",
       "    <tr>\n",
       "      <th>0</th>\n",
       "      <td>2018-05-31 23:38:05</td>\n",
       "      <td>ad campaign hit</td>\n",
       "      <td>0004b0a2</td>\n",
       "      <td>/comprar/iphone/iphone-5s</td>\n",
       "      <td>NaN</td>\n",
       "      <td>NaN</td>\n",
       "      <td>NaN</td>\n",
       "      <td>NaN</td>\n",
       "      <td>NaN</td>\n",
       "      <td>NaN</td>\n",
       "      <td>...</td>\n",
       "      <td>NaN</td>\n",
       "      <td>NaN</td>\n",
       "      <td>NaN</td>\n",
       "      <td>NaN</td>\n",
       "      <td>NaN</td>\n",
       "      <td>NaN</td>\n",
       "      <td>NaN</td>\n",
       "      <td>NaN</td>\n",
       "      <td>NaN</td>\n",
       "      <td>NaN</td>\n",
       "    </tr>\n",
       "    <tr>\n",
       "      <th>1</th>\n",
       "      <td>2018-05-31 23:38:05</td>\n",
       "      <td>visited site</td>\n",
       "      <td>0004b0a2</td>\n",
       "      <td>NaN</td>\n",
       "      <td>NaN</td>\n",
       "      <td>NaN</td>\n",
       "      <td>NaN</td>\n",
       "      <td>NaN</td>\n",
       "      <td>NaN</td>\n",
       "      <td>NaN</td>\n",
       "      <td>...</td>\n",
       "      <td>NaN</td>\n",
       "      <td>Paid</td>\n",
       "      <td>New</td>\n",
       "      <td>Camaragibe</td>\n",
       "      <td>Pernambuco</td>\n",
       "      <td>Brazil</td>\n",
       "      <td>Smartphone</td>\n",
       "      <td>360x640</td>\n",
       "      <td>Android 6</td>\n",
       "      <td>Chrome Mobile 39</td>\n",
       "    </tr>\n",
       "    <tr>\n",
       "      <th>2</th>\n",
       "      <td>2018-05-31 23:38:09</td>\n",
       "      <td>viewed product</td>\n",
       "      <td>0004b0a2</td>\n",
       "      <td>NaN</td>\n",
       "      <td>2694.0</td>\n",
       "      <td>iPhone 5s</td>\n",
       "      <td>Bom</td>\n",
       "      <td>32GB</td>\n",
       "      <td>Cinza espacial</td>\n",
       "      <td>NaN</td>\n",
       "      <td>...</td>\n",
       "      <td>NaN</td>\n",
       "      <td>NaN</td>\n",
       "      <td>NaN</td>\n",
       "      <td>NaN</td>\n",
       "      <td>NaN</td>\n",
       "      <td>NaN</td>\n",
       "      <td>NaN</td>\n",
       "      <td>NaN</td>\n",
       "      <td>NaN</td>\n",
       "      <td>NaN</td>\n",
       "    </tr>\n",
       "    <tr>\n",
       "      <th>3</th>\n",
       "      <td>2018-05-31 23:38:40</td>\n",
       "      <td>checkout</td>\n",
       "      <td>0004b0a2</td>\n",
       "      <td>NaN</td>\n",
       "      <td>2694.0</td>\n",
       "      <td>iPhone 5s</td>\n",
       "      <td>Bom</td>\n",
       "      <td>32GB</td>\n",
       "      <td>Cinza espacial</td>\n",
       "      <td>NaN</td>\n",
       "      <td>...</td>\n",
       "      <td>NaN</td>\n",
       "      <td>NaN</td>\n",
       "      <td>NaN</td>\n",
       "      <td>NaN</td>\n",
       "      <td>NaN</td>\n",
       "      <td>NaN</td>\n",
       "      <td>NaN</td>\n",
       "      <td>NaN</td>\n",
       "      <td>NaN</td>\n",
       "      <td>NaN</td>\n",
       "    </tr>\n",
       "    <tr>\n",
       "      <th>4</th>\n",
       "      <td>2018-05-29 13:29:25</td>\n",
       "      <td>viewed product</td>\n",
       "      <td>0006a21a</td>\n",
       "      <td>NaN</td>\n",
       "      <td>15338.0</td>\n",
       "      <td>Samsung Galaxy S8</td>\n",
       "      <td>Bom</td>\n",
       "      <td>64GB</td>\n",
       "      <td>Dourado</td>\n",
       "      <td>NaN</td>\n",
       "      <td>...</td>\n",
       "      <td>NaN</td>\n",
       "      <td>NaN</td>\n",
       "      <td>NaN</td>\n",
       "      <td>NaN</td>\n",
       "      <td>NaN</td>\n",
       "      <td>NaN</td>\n",
       "      <td>NaN</td>\n",
       "      <td>NaN</td>\n",
       "      <td>NaN</td>\n",
       "      <td>NaN</td>\n",
       "    </tr>\n",
       "  </tbody>\n",
       "</table>\n",
       "<p>5 rows × 23 columns</p>\n",
       "</div>"
      ],
      "text/plain": [
       "             timestamp            event    person                        url  \\\n",
       "0  2018-05-31 23:38:05  ad campaign hit  0004b0a2  /comprar/iphone/iphone-5s   \n",
       "1  2018-05-31 23:38:05     visited site  0004b0a2                        NaN   \n",
       "2  2018-05-31 23:38:09   viewed product  0004b0a2                        NaN   \n",
       "3  2018-05-31 23:38:40         checkout  0004b0a2                        NaN   \n",
       "4  2018-05-29 13:29:25   viewed product  0006a21a                        NaN   \n",
       "\n",
       "       sku              model condition storage           color skus  \\\n",
       "0      NaN                NaN       NaN     NaN             NaN  NaN   \n",
       "1      NaN                NaN       NaN     NaN             NaN  NaN   \n",
       "2   2694.0          iPhone 5s       Bom    32GB  Cinza espacial  NaN   \n",
       "3   2694.0          iPhone 5s       Bom    32GB  Cinza espacial  NaN   \n",
       "4  15338.0  Samsung Galaxy S8       Bom    64GB         Dourado  NaN   \n",
       "\n",
       "         ...        search_engine channel new_vs_returning        city  \\\n",
       "0        ...                  NaN     NaN              NaN         NaN   \n",
       "1        ...                  NaN    Paid              New  Camaragibe   \n",
       "2        ...                  NaN     NaN              NaN         NaN   \n",
       "3        ...                  NaN     NaN              NaN         NaN   \n",
       "4        ...                  NaN     NaN              NaN         NaN   \n",
       "\n",
       "       region country device_type screen_resolution operating_system_version  \\\n",
       "0         NaN     NaN         NaN               NaN                      NaN   \n",
       "1  Pernambuco  Brazil  Smartphone           360x640                Android 6   \n",
       "2         NaN     NaN         NaN               NaN                      NaN   \n",
       "3         NaN     NaN         NaN               NaN                      NaN   \n",
       "4         NaN     NaN         NaN               NaN                      NaN   \n",
       "\n",
       "    browser_version  \n",
       "0               NaN  \n",
       "1  Chrome Mobile 39  \n",
       "2               NaN  \n",
       "3               NaN  \n",
       "4               NaN  \n",
       "\n",
       "[5 rows x 23 columns]"
      ]
     },
     "execution_count": 3,
     "metadata": {},
     "output_type": "execute_result"
    }
   ],
   "source": [
    "eventos.head()"
   ]
  },
  {
   "cell_type": "code",
   "execution_count": 4,
   "metadata": {},
   "outputs": [
    {
     "data": {
      "text/plain": [
       "timestamp                   False\n",
       "event                       False\n",
       "person                      False\n",
       "url                          True\n",
       "sku                          True\n",
       "model                        True\n",
       "condition                    True\n",
       "storage                      True\n",
       "color                        True\n",
       "skus                         True\n",
       "search_term                  True\n",
       "staticpage                   True\n",
       "campaign_source              True\n",
       "search_engine                True\n",
       "channel                      True\n",
       "new_vs_returning             True\n",
       "city                         True\n",
       "region                       True\n",
       "country                      True\n",
       "device_type                  True\n",
       "screen_resolution            True\n",
       "operating_system_version     True\n",
       "browser_version              True\n",
       "dtype: bool"
      ]
     },
     "execution_count": 4,
     "metadata": {},
     "output_type": "execute_result"
    }
   ],
   "source": [
    "#Hay algun dato nulo?\n",
    "eventos.isnull().any()"
   ]
  },
  {
   "cell_type": "code",
   "execution_count": 5,
   "metadata": {},
   "outputs": [
    {
     "data": {
      "text/plain": [
       "timestamp                   False\n",
       "event                       False\n",
       "person                      False\n",
       "url                         False\n",
       "sku                         False\n",
       "model                       False\n",
       "condition                   False\n",
       "storage                     False\n",
       "color                       False\n",
       "skus                        False\n",
       "search_term                 False\n",
       "staticpage                  False\n",
       "campaign_source             False\n",
       "search_engine               False\n",
       "channel                     False\n",
       "new_vs_returning            False\n",
       "city                        False\n",
       "region                      False\n",
       "country                     False\n",
       "device_type                 False\n",
       "screen_resolution           False\n",
       "operating_system_version    False\n",
       "browser_version             False\n",
       "dtype: bool"
      ]
     },
     "execution_count": 5,
     "metadata": {},
     "output_type": "execute_result"
    }
   ],
   "source": [
    "#hay alguna columna completamente nula?\n",
    "eventos.isnull().all()"
   ]
  },
  {
   "cell_type": "code",
   "execution_count": 6,
   "metadata": {},
   "outputs": [
    {
     "data": {
      "text/html": [
       "<div>\n",
       "<style>\n",
       "    .dataframe thead tr:only-child th {\n",
       "        text-align: right;\n",
       "    }\n",
       "\n",
       "    .dataframe thead th {\n",
       "        text-align: left;\n",
       "    }\n",
       "\n",
       "    .dataframe tbody tr th {\n",
       "        vertical-align: top;\n",
       "    }\n",
       "</style>\n",
       "<table border=\"1\" class=\"dataframe\">\n",
       "  <thead>\n",
       "    <tr style=\"text-align: right;\">\n",
       "      <th></th>\n",
       "      <th>timestamp</th>\n",
       "      <th>event</th>\n",
       "      <th>person</th>\n",
       "      <th>url</th>\n",
       "      <th>sku</th>\n",
       "      <th>model</th>\n",
       "      <th>condition</th>\n",
       "      <th>storage</th>\n",
       "      <th>color</th>\n",
       "      <th>skus</th>\n",
       "      <th>...</th>\n",
       "      <th>search_engine</th>\n",
       "      <th>channel</th>\n",
       "      <th>new_vs_returning</th>\n",
       "      <th>city</th>\n",
       "      <th>region</th>\n",
       "      <th>country</th>\n",
       "      <th>device_type</th>\n",
       "      <th>screen_resolution</th>\n",
       "      <th>operating_system_version</th>\n",
       "      <th>browser_version</th>\n",
       "    </tr>\n",
       "  </thead>\n",
       "  <tbody>\n",
       "    <tr>\n",
       "      <th>count</th>\n",
       "      <td>1011288</td>\n",
       "      <td>1011288</td>\n",
       "      <td>1011288</td>\n",
       "      <td>82756</td>\n",
       "      <td>563838</td>\n",
       "      <td>564284</td>\n",
       "      <td>563836</td>\n",
       "      <td>563836</td>\n",
       "      <td>563836</td>\n",
       "      <td>221699</td>\n",
       "      <td>...</td>\n",
       "      <td>50957</td>\n",
       "      <td>87378</td>\n",
       "      <td>87378</td>\n",
       "      <td>87378</td>\n",
       "      <td>87378</td>\n",
       "      <td>87378</td>\n",
       "      <td>87378</td>\n",
       "      <td>87378</td>\n",
       "      <td>87378</td>\n",
       "      <td>87378</td>\n",
       "    </tr>\n",
       "    <tr>\n",
       "      <th>unique</th>\n",
       "      <td>793805</td>\n",
       "      <td>11</td>\n",
       "      <td>27624</td>\n",
       "      <td>227</td>\n",
       "      <td>3574</td>\n",
       "      <td>202</td>\n",
       "      <td>5</td>\n",
       "      <td>8</td>\n",
       "      <td>63</td>\n",
       "      <td>35310</td>\n",
       "      <td>...</td>\n",
       "      <td>4</td>\n",
       "      <td>7</td>\n",
       "      <td>2</td>\n",
       "      <td>1939</td>\n",
       "      <td>93</td>\n",
       "      <td>46</td>\n",
       "      <td>4</td>\n",
       "      <td>282</td>\n",
       "      <td>121</td>\n",
       "      <td>343</td>\n",
       "    </tr>\n",
       "    <tr>\n",
       "      <th>top</th>\n",
       "      <td>2018-05-15 15:56:06</td>\n",
       "      <td>viewed product</td>\n",
       "      <td>71492f2b</td>\n",
       "      <td>/</td>\n",
       "      <td>2830.0</td>\n",
       "      <td>iPhone 6</td>\n",
       "      <td>Bom</td>\n",
       "      <td>16GB</td>\n",
       "      <td>Preto</td>\n",
       "      <td>2820,6706,6720,2750,6649,7251,6663,12604,7224,...</td>\n",
       "      <td>...</td>\n",
       "      <td>Google</td>\n",
       "      <td>Paid</td>\n",
       "      <td>Returning</td>\n",
       "      <td>Unknown</td>\n",
       "      <td>Sao Paulo</td>\n",
       "      <td>Brazil</td>\n",
       "      <td>Smartphone</td>\n",
       "      <td>360x640</td>\n",
       "      <td>Windows 7</td>\n",
       "      <td>Chrome 66.0</td>\n",
       "    </tr>\n",
       "    <tr>\n",
       "      <th>freq</th>\n",
       "      <td>11</td>\n",
       "      <td>528931</td>\n",
       "      <td>2771</td>\n",
       "      <td>28323</td>\n",
       "      <td>4282</td>\n",
       "      <td>50916</td>\n",
       "      <td>243014</td>\n",
       "      <td>190833</td>\n",
       "      <td>132960</td>\n",
       "      <td>594</td>\n",
       "      <td>...</td>\n",
       "      <td>50240</td>\n",
       "      <td>44193</td>\n",
       "      <td>60480</td>\n",
       "      <td>15819</td>\n",
       "      <td>24996</td>\n",
       "      <td>84308</td>\n",
       "      <td>44239</td>\n",
       "      <td>30009</td>\n",
       "      <td>19675</td>\n",
       "      <td>22611</td>\n",
       "    </tr>\n",
       "  </tbody>\n",
       "</table>\n",
       "<p>4 rows × 23 columns</p>\n",
       "</div>"
      ],
      "text/plain": [
       "                  timestamp           event    person    url     sku  \\\n",
       "count               1011288         1011288   1011288  82756  563838   \n",
       "unique               793805              11     27624    227    3574   \n",
       "top     2018-05-15 15:56:06  viewed product  71492f2b      /  2830.0   \n",
       "freq                     11          528931      2771  28323    4282   \n",
       "\n",
       "           model condition storage   color  \\\n",
       "count     564284    563836  563836  563836   \n",
       "unique       202         5       8      63   \n",
       "top     iPhone 6       Bom    16GB   Preto   \n",
       "freq       50916    243014  190833  132960   \n",
       "\n",
       "                                                     skus       ...        \\\n",
       "count                                              221699       ...         \n",
       "unique                                              35310       ...         \n",
       "top     2820,6706,6720,2750,6649,7251,6663,12604,7224,...       ...         \n",
       "freq                                                  594       ...         \n",
       "\n",
       "       search_engine channel new_vs_returning     city     region country  \\\n",
       "count          50957   87378            87378    87378      87378   87378   \n",
       "unique             4       7                2     1939         93      46   \n",
       "top           Google    Paid        Returning  Unknown  Sao Paulo  Brazil   \n",
       "freq           50240   44193            60480    15819      24996   84308   \n",
       "\n",
       "       device_type screen_resolution operating_system_version browser_version  \n",
       "count        87378             87378                    87378           87378  \n",
       "unique           4               282                      121             343  \n",
       "top     Smartphone           360x640               Windows 7      Chrome 66.0  \n",
       "freq         44239             30009                    19675           22611  \n",
       "\n",
       "[4 rows x 23 columns]"
      ]
     },
     "execution_count": 6,
     "metadata": {},
     "output_type": "execute_result"
    }
   ],
   "source": [
    "#Vamos a analizar algunas características de las columnas\n",
    "eventos.describe()"
   ]
  },
  {
   "cell_type": "code",
   "execution_count": 7,
   "metadata": {},
   "outputs": [
    {
     "name": "stdout",
     "output_type": "stream",
     "text": [
      "Cantidad de usuarios total:  27624\n"
     ]
    }
   ],
   "source": [
    "#Existen 27624 usuarios únicos\n",
    "\n",
    "cantidadDeUsuarios = eventos['person'].value_counts().count()\n",
    "print('Cantidad de usuarios total: ', cantidadDeUsuarios)"
   ]
  },
  {
   "cell_type": "code",
   "execution_count": 8,
   "metadata": {},
   "outputs": [
    {
     "data": {
      "text/plain": [
       "11"
      ]
     },
     "execution_count": 8,
     "metadata": {},
     "output_type": "execute_result"
    }
   ],
   "source": [
    "#Existen 11 tipos de eventos distintos\n",
    "eventos['event'].value_counts().count()"
   ]
  },
  {
   "cell_type": "code",
   "execution_count": 9,
   "metadata": {},
   "outputs": [
    {
     "data": {
      "text/plain": [
       "viewed product       528931\n",
       "brand listing         98635\n",
       "visited site          87378\n",
       "ad campaign hit       82827\n",
       "generic listing       67534\n",
       "searched products     56073\n",
       "search engine hit     50957\n",
       "checkout              33735\n",
       "staticpage             3598\n",
       "conversion             1172\n",
       "lead                    448\n",
       "Name: event, dtype: int64"
      ]
     },
     "execution_count": 9,
     "metadata": {},
     "output_type": "execute_result"
    }
   ],
   "source": [
    "eventos['event'].value_counts()"
   ]
  },
  {
   "cell_type": "code",
   "execution_count": 10,
   "metadata": {},
   "outputs": [
    {
     "name": "stdout",
     "output_type": "stream",
     "text": [
      "27624  realizaron al menos un checkout, de un total de  27624  usuarios\n"
     ]
    }
   ],
   "source": [
    "#De los 33.735 de checkout, queremos saber si todos los usuarios únicos (27.624) hicieron al menos un checkout.\n",
    "\n",
    "eventosCheckout = eventos.loc[eventos['event'] == 'checkout','person']\n",
    "cantidadDeCheckout = eventosCheckout.count()\n",
    "cantidadDeUsuariosCheckout = eventosCheckout.value_counts().count()\n",
    "print(cantidadDeUsuariosCheckout,' realizaron al menos un checkout, de un total de ',cantidadDeUsuarios,' usuarios')"
   ]
  },
  {
   "cell_type": "code",
   "execution_count": 11,
   "metadata": {},
   "outputs": [
    {
     "name": "stdout",
     "output_type": "stream",
     "text": [
      "Se realizaron 1172 conversiones entre 716 clientes\n"
     ]
    }
   ],
   "source": [
    "#Viendo que todos hicieron checkout al menos una vez, vemos cuántos realizaron la compra. \n",
    "#Puede inferirse que los datos suministrados fueron de usuarios que al menos hicieron un checkout\n",
    "conversiones = eventos.loc[eventos['event'] == 'conversion','person']\n",
    "cantidadDeConversiones = conversiones.count()\n",
    "cantidadDePersonasQueConvierten = conversiones.value_counts().count()\n",
    "print('Se realizaron',cantidadDeConversiones,'conversiones entre',cantidadDePersonasQueConvierten,'clientes')"
   ]
  },
  {
   "cell_type": "code",
   "execution_count": 13,
   "metadata": {},
   "outputs": [
    {
     "name": "stdout",
     "output_type": "stream",
     "text": [
      "De 33735 checkouts se realizaron 1172 conversiones\n",
      "La tasa de conversion por checkout es de 3.47413665333 %\n",
      "El porcentaje de usuarios que concreta una compra es de 2.59194902983 %\n"
     ]
    }
   ],
   "source": [
    "#De los 27.624 usuarios, 716 hicieron compras\n",
    "print('De',cantidadDeCheckout,'checkouts se realizaron',cantidadDeConversiones,'conversiones')\n",
    "print('La tasa de conversion por checkout es de',(cantidadDeConversiones * 100 / cantidadDeCheckout),'%')\n",
    "print('El porcentaje de usuarios que concreta una compra es de',\\\n",
    "      (cantidadDePersonasQueConvierten * 100 / cantidadDeUsuariosCheckout),'%')"
   ]
  },
  {
   "cell_type": "markdown",
   "metadata": {
    "collapsed": true
   },
   "source": [
    "#### ¿Cuáles son los modelos que no estaban en stock y los clientes pidieron recibir notificación de disponibilidad?\n",
    "#### ¿Cuántos clientes se registraron para recibir notificaciones?\n",
    "#### ¿De cuantos modelos pidieron recibir notificaciones los que más lo solicitaron?"
   ]
  },
  {
   "cell_type": "code",
   "execution_count": 14,
   "metadata": {},
   "outputs": [
    {
     "name": "stdout",
     "output_type": "stream",
     "text": [
      "Se registraron para recibir notificaciones 291 personas\n"
     ]
    }
   ],
   "source": [
    "notificacionesDeStock = eventos.loc[eventos['event'] == 'lead',['person','model']]\n",
    "cantPersonasQueSeRegistraron = notificacionesDeStock['person'].value_counts().count()\n",
    "print('Se registraron para recibir notificaciones',cantPersonasQueSeRegistraron,'personas')"
   ]
  },
  {
   "cell_type": "code",
   "execution_count": 15,
   "metadata": {},
   "outputs": [
    {
     "data": {
      "text/plain": [
       "97e0bcf2    16\n",
       "52a4edd3    11\n",
       "58692743     8\n",
       "8dd8c1b4     6\n",
       "f21b8696     5\n",
       "d5661793     5\n",
       "aaf00dd9     5\n",
       "d3e5d92b     4\n",
       "ef4778b7     4\n",
       "1ac00500     4\n",
       "Name: person, dtype: int64"
      ]
     },
     "execution_count": 15,
     "metadata": {},
     "output_type": "execute_result"
    }
   ],
   "source": [
    "#¿La gente se anotaba para recibir notificaciones de muchos modelos?\n",
    "notificacionesDeStock['person'].value_counts().head(10)"
   ]
  },
  {
   "cell_type": "code",
   "execution_count": 16,
   "metadata": {},
   "outputs": [
    {
     "data": {
      "text/plain": [
       "iPhone 6 Plus                 35\n",
       "iPhone 6S Plus                31\n",
       "Samsung Galaxy J7 Prime       26\n",
       "iPhone 6S                     21\n",
       "Motorola Moto G4 Plus         20\n",
       "iPhone 8                      20\n",
       "Samsung Galaxy On 7           15\n",
       "Samsung Galaxy A9 Pro 2016    15\n",
       "Motorola Moto G5 Plus         15\n",
       "iPhone 6                      12\n",
       "Name: model, dtype: int64"
      ]
     },
     "execution_count": 16,
     "metadata": {},
     "output_type": "execute_result"
    }
   ],
   "source": [
    "#Modelos más requeridos que no estaban en stock\n",
    "notificacionesDeStock['model'].value_counts().head(10)"
   ]
  },
  {
   "cell_type": "markdown",
   "metadata": {},
   "source": [
    "#### ¿Cuáles fueron las búsquedas más frecuentes en el buscador?"
   ]
  },
  {
   "cell_type": "code",
   "execution_count": 17,
   "metadata": {},
   "outputs": [
    {
     "data": {
      "text/plain": [
       "Iphone       1207\n",
       "Iphone 6     1057\n",
       "iPhone 6     1005\n",
       "iphone 6      932\n",
       "iphone        882\n",
       "iphone 6s     784\n",
       "Iphone 6s     736\n",
       "iPhone 6s     716\n",
       "Motorola      679\n",
       "iPhone        638\n",
       "J7            580\n",
       "J5            540\n",
       "Samsung       513\n",
       "S7            474\n",
       "iphone 7      428\n",
       "Name: search_term, dtype: int64"
      ]
     },
     "execution_count": 17,
     "metadata": {},
     "output_type": "execute_result"
    }
   ],
   "source": [
    "eventos['search_term'].value_counts().head(15)"
   ]
  },
  {
   "cell_type": "code",
   "execution_count": 21,
   "metadata": {},
   "outputs": [
    {
     "data": {
      "text/plain": [
       "iphone 6          3347\n",
       "iphone            2968\n",
       "iphone 6s         2576\n",
       "iphone 7          1354\n",
       "iphone 5s         1101\n",
       "j7                 950\n",
       "motorola           852\n",
       "j5                 850\n",
       "s7                 763\n",
       "iphone 6 plus      756\n",
       "s8                 700\n",
       "iphone se          661\n",
       "samsung            595\n",
       "iphone 6s plus     592\n",
       "iphone 5           577\n",
       "iphone 7 plus      528\n",
       "s6                 480\n",
       "j7 prime           436\n",
       "moto g5            415\n",
       "lg                 367\n",
       "Name: search_term, dtype: int64"
      ]
     },
     "execution_count": 21,
     "metadata": {},
     "output_type": "execute_result"
    }
   ],
   "source": [
    "#Tratando de depurar un poco lás búsquedas\n",
    "#eliminando diferencias por mayúsculas y minúsculas\n",
    "eventos['search_term'] = eventos['search_term'].str.lower()\n",
    "eventos['search_term'].value_counts().head(20)"
   ]
  },
  {
   "cell_type": "code",
   "execution_count": 45,
   "metadata": {},
   "outputs": [
    {
     "name": "stdout",
     "output_type": "stream",
     "text": [
      "Cantidad de busquedas total: 48967\n",
      "Cantidad de búsquedas de iPhones: 18508\n"
     ]
    },
    {
     "data": {
      "text/plain": [
       "False    0.622031\n",
       "True     0.377969\n",
       "Name: search_term, dtype: float64"
      ]
     },
     "execution_count": 45,
     "metadata": {},
     "output_type": "execute_result"
    }
   ],
   "source": [
    "#Se ve que lo que más se busca es iPhones. Del total de búsquedas, vamos a ver cuántas son de iPhones\n",
    "totalDeBusquedas = eventos['search_term'].count()\n",
    "busquedaIncluyeIphone = eventos['search_term'].str.contains('iphone').value_counts().to_frame('cantidad')\n",
    "busquedaIncluyeIphone.rename({0:'falso',1:'verdadero'},inplace=True)\n",
    "cantBusquedasIPhone = busquedaIncluyeIphone.loc['verdadero','cantidad']\n",
    "print('Cantidad de busquedas total:',totalDeBusquedas)\n",
    "print('Cantidad de búsquedas de iPhones:',cantBusquedasIPhone)\n",
    "eventos['search_term'].str.lower().str.contains('iphone').value_counts(normalize=True)"
   ]
  },
  {
   "cell_type": "code",
   "execution_count": 47,
   "metadata": {},
   "outputs": [
    {
     "data": {
      "text/plain": [
       "[<matplotlib.text.Text at 0x7f1783f11be0>,\n",
       " <matplotlib.text.Text at 0x7f1781a3e390>,\n",
       " <matplotlib.text.Text at 0x7f1784245390>]"
      ]
     },
     "execution_count": 47,
     "metadata": {},
     "output_type": "execute_result"
    },
    {
     "data": {
      "image/png": "[encoded data removed]",
      "text/plain": [
       "<matplotlib.figure.Figure at 0x7f1783ff79b0>"
      ]
     },
     "metadata": {},
     "output_type": "display_data"
    }
   ],
   "source": [
    "sns.set(style=\"whitegrid\")\n",
    "plotBusquedaIphone = sns.barplot(x=busquedaIncluyeIphone['cantidad'],y=busquedaIncluyeIphone.index,orient='horizontal')\n",
    "plotBusquedaIphone.set(title=\"Busquedas de Iphone\",xlabel=\"Cant. de búsquedas\",ylabel=\"Incluye palabra iphone\")"
   ]
  },
  {
   "cell_type": "code",
   "execution_count": 112,
   "metadata": {},
   "outputs": [
    {
     "data": {
      "text/html": [
       "<div>\n",
       "<style>\n",
       "    .dataframe thead tr:only-child th {\n",
       "        text-align: right;\n",
       "    }\n",
       "\n",
       "    .dataframe thead th {\n",
       "        text-align: left;\n",
       "    }\n",
       "\n",
       "    .dataframe tbody tr th {\n",
       "        vertical-align: top;\n",
       "    }\n",
       "</style>\n",
       "<table border=\"1\" class=\"dataframe\">\n",
       "  <thead>\n",
       "    <tr style=\"text-align: right;\">\n",
       "      <th></th>\n",
       "      <th>busqueda</th>\n",
       "      <th>cantidad</th>\n",
       "    </tr>\n",
       "  </thead>\n",
       "  <tbody>\n",
       "    <tr>\n",
       "      <th>0</th>\n",
       "      <td>j7</td>\n",
       "      <td>950</td>\n",
       "    </tr>\n",
       "    <tr>\n",
       "      <th>1</th>\n",
       "      <td>motorola</td>\n",
       "      <td>852</td>\n",
       "    </tr>\n",
       "    <tr>\n",
       "      <th>2</th>\n",
       "      <td>j5</td>\n",
       "      <td>850</td>\n",
       "    </tr>\n",
       "    <tr>\n",
       "      <th>3</th>\n",
       "      <td>s7</td>\n",
       "      <td>763</td>\n",
       "    </tr>\n",
       "    <tr>\n",
       "      <th>4</th>\n",
       "      <td>s8</td>\n",
       "      <td>700</td>\n",
       "    </tr>\n",
       "    <tr>\n",
       "      <th>5</th>\n",
       "      <td>samsung</td>\n",
       "      <td>595</td>\n",
       "    </tr>\n",
       "    <tr>\n",
       "      <th>6</th>\n",
       "      <td>s6</td>\n",
       "      <td>480</td>\n",
       "    </tr>\n",
       "    <tr>\n",
       "      <th>7</th>\n",
       "      <td>j7 prime</td>\n",
       "      <td>436</td>\n",
       "    </tr>\n",
       "    <tr>\n",
       "      <th>8</th>\n",
       "      <td>moto g5</td>\n",
       "      <td>415</td>\n",
       "    </tr>\n",
       "    <tr>\n",
       "      <th>9</th>\n",
       "      <td>lg</td>\n",
       "      <td>367</td>\n",
       "    </tr>\n",
       "    <tr>\n",
       "      <th>10</th>\n",
       "      <td>moto g</td>\n",
       "      <td>353</td>\n",
       "    </tr>\n",
       "    <tr>\n",
       "      <th>11</th>\n",
       "      <td>moto g4</td>\n",
       "      <td>328</td>\n",
       "    </tr>\n",
       "    <tr>\n",
       "      <th>12</th>\n",
       "      <td>s7 edge</td>\n",
       "      <td>327</td>\n",
       "    </tr>\n",
       "    <tr>\n",
       "      <th>13</th>\n",
       "      <td>a5</td>\n",
       "      <td>323</td>\n",
       "    </tr>\n",
       "    <tr>\n",
       "      <th>14</th>\n",
       "      <td>moto z</td>\n",
       "      <td>313</td>\n",
       "    </tr>\n",
       "    <tr>\n",
       "      <th>15</th>\n",
       "      <td>j2</td>\n",
       "      <td>301</td>\n",
       "    </tr>\n",
       "    <tr>\n",
       "      <th>16</th>\n",
       "      <td>6s</td>\n",
       "      <td>279</td>\n",
       "    </tr>\n",
       "    <tr>\n",
       "      <th>17</th>\n",
       "      <td>s5</td>\n",
       "      <td>276</td>\n",
       "    </tr>\n",
       "    <tr>\n",
       "      <th>18</th>\n",
       "      <td>galaxy s7</td>\n",
       "      <td>258</td>\n",
       "    </tr>\n",
       "    <tr>\n",
       "      <th>19</th>\n",
       "      <td>j7 pro</td>\n",
       "      <td>254</td>\n",
       "    </tr>\n",
       "    <tr>\n",
       "      <th>20</th>\n",
       "      <td>j5 prime</td>\n",
       "      <td>253</td>\n",
       "    </tr>\n",
       "    <tr>\n",
       "      <th>21</th>\n",
       "      <td>galaxy s8</td>\n",
       "      <td>244</td>\n",
       "    </tr>\n",
       "    <tr>\n",
       "      <th>22</th>\n",
       "      <td>lg k10</td>\n",
       "      <td>242</td>\n",
       "    </tr>\n",
       "    <tr>\n",
       "      <th>23</th>\n",
       "      <td>j5 pro</td>\n",
       "      <td>216</td>\n",
       "    </tr>\n",
       "    <tr>\n",
       "      <th>24</th>\n",
       "      <td>tablet</td>\n",
       "      <td>213</td>\n",
       "    </tr>\n",
       "    <tr>\n",
       "      <th>25</th>\n",
       "      <td>32gb</td>\n",
       "      <td>207</td>\n",
       "    </tr>\n",
       "    <tr>\n",
       "      <th>26</th>\n",
       "      <td>a7</td>\n",
       "      <td>201</td>\n",
       "    </tr>\n",
       "    <tr>\n",
       "      <th>27</th>\n",
       "      <td>asus</td>\n",
       "      <td>200</td>\n",
       "    </tr>\n",
       "    <tr>\n",
       "      <th>28</th>\n",
       "      <td>moto g4 plus</td>\n",
       "      <td>190</td>\n",
       "    </tr>\n",
       "    <tr>\n",
       "      <th>29</th>\n",
       "      <td>s6 edge</td>\n",
       "      <td>182</td>\n",
       "    </tr>\n",
       "  </tbody>\n",
       "</table>\n",
       "</div>"
      ],
      "text/plain": [
       "        busqueda  cantidad\n",
       "0             j7       950\n",
       "1       motorola       852\n",
       "2             j5       850\n",
       "3             s7       763\n",
       "4             s8       700\n",
       "5        samsung       595\n",
       "6             s6       480\n",
       "7       j7 prime       436\n",
       "8        moto g5       415\n",
       "9             lg       367\n",
       "10        moto g       353\n",
       "11       moto g4       328\n",
       "12       s7 edge       327\n",
       "13            a5       323\n",
       "14        moto z       313\n",
       "15            j2       301\n",
       "16            6s       279\n",
       "17            s5       276\n",
       "18     galaxy s7       258\n",
       "19        j7 pro       254\n",
       "20      j5 prime       253\n",
       "21     galaxy s8       244\n",
       "22        lg k10       242\n",
       "23        j5 pro       216\n",
       "24        tablet       213\n",
       "25          32gb       207\n",
       "26            a7       201\n",
       "27          asus       200\n",
       "28  moto g4 plus       190\n",
       "29       s6 edge       182"
      ]
     },
     "execution_count": 112,
     "metadata": {},
     "output_type": "execute_result"
    }
   ],
   "source": [
    "#De las búsquedas que no son iPhone veamos cuales son las más frecuentes:\n",
    "busquedaNoIncluyeIphone = eventos.loc[eventos['search_term'].str.contains('iphone') == False, 'search_term'].value_counts().to_frame('cantidad')\n",
    "busquedaNoIncluyeIphone = busquedaNoIncluyeIphone.loc[busquedaNoIncluyeIphone['cantidad'] >= 50,'cantidad'].to_frame()\n",
    "busquedaNoIncluyeIphone = busquedaNoIncluyeIphone.reset_index()\n",
    "busquedaNoIncluyeIphone.rename(index=str, columns={'index': \"busqueda\"},inplace=True)\n",
    "busquedaNoIncluyeIphone.head(30)"
   ]
  },
  {
   "cell_type": "code",
   "execution_count": 158,
   "metadata": {},
   "outputs": [
    {
     "data": {
      "text/plain": [
       "[<matplotlib.text.Text at 0x7f1784053a20>,\n",
       " <matplotlib.text.Text at 0x7f1783fbfa20>,\n",
       " <matplotlib.text.Text at 0x7f1784070630>]"
      ]
     },
     "execution_count": 158,
     "metadata": {},
     "output_type": "execute_result"
    },
    {
     "data": {
      "image/png": "[encoded data removed]",
      "text/plain": [
       "<matplotlib.figure.Figure at 0x7f1784114ba8>"
      ]
     },
     "metadata": {},
     "output_type": "display_data"
    }
   ],
   "source": [
    "#Claves buscadas que no incluyen la palabra iPhone\n",
    "plotBusquedaNoIphone = sns.barplot(x=busquedaNoIncluyeIphone['cantidad'],y=busquedaNoIncluyeIphone['busqueda'].head(20),orient='horizontal')\n",
    "plotBusquedaNoIphone.set(title=\"Busquedas que no incluyen iPhone\",xlabel=\"Cant. de búsquedas\",ylabel=\"Clave buscada\")"
   ]
  },
  {
   "cell_type": "code",
   "execution_count": null,
   "metadata": {
    "collapsed": true
   },
   "outputs": [],
   "source": [
    "plotBusquedaNoIphone = sns.barplot(x=busquedaNoIncluyeIphone['cantidad'],y=busquedaNoIncluyeIphone['busqueda'].head(20),orient='horizontal')\n",
    "plotBusquedaNoIphone.set(title=\"Busquedas que no incluyen iPhone\",xlabel=\"Cant. de búsquedas\",ylabel=\"Clave buscada\")"
   ]
  },
  {
   "cell_type": "code",
   "execution_count": 111,
   "metadata": {},
   "outputs": [],
   "source": [
    "#Separo marcas y modelos, que puede llegar a ser útil\n",
    "#eventos[['marca','modelo']] = eventos['model'].dropna().str.lower().str.split(' ',n=1,expand=True)\n",
    "eventos[['marca','modelo']] = eventos['model'].dropna().str.split(' ',n=1,expand=True)"
   ]
  },
  {
   "cell_type": "code",
   "execution_count": 60,
   "metadata": {},
   "outputs": [
    {
     "data": {
      "text/html": [
       "<div>\n",
       "<style>\n",
       "    .dataframe thead tr:only-child th {\n",
       "        text-align: right;\n",
       "    }\n",
       "\n",
       "    .dataframe thead th {\n",
       "        text-align: left;\n",
       "    }\n",
       "\n",
       "    .dataframe tbody tr th {\n",
       "        vertical-align: top;\n",
       "    }\n",
       "</style>\n",
       "<table border=\"1\" class=\"dataframe\">\n",
       "  <thead>\n",
       "    <tr style=\"text-align: right;\">\n",
       "      <th></th>\n",
       "      <th>marca</th>\n",
       "      <th>modelo</th>\n",
       "    </tr>\n",
       "  </thead>\n",
       "  <tbody>\n",
       "    <tr>\n",
       "      <th>2</th>\n",
       "      <td>iPhone</td>\n",
       "      <td>5s</td>\n",
       "    </tr>\n",
       "    <tr>\n",
       "      <th>4</th>\n",
       "      <td>Samsung</td>\n",
       "      <td>Galaxy S8</td>\n",
       "    </tr>\n",
       "    <tr>\n",
       "      <th>13</th>\n",
       "      <td>Motorola</td>\n",
       "      <td>Moto Z Play</td>\n",
       "    </tr>\n",
       "    <tr>\n",
       "      <th>22</th>\n",
       "      <td>iPhone</td>\n",
       "      <td>7 Plus</td>\n",
       "    </tr>\n",
       "    <tr>\n",
       "      <th>26</th>\n",
       "      <td>iPhone</td>\n",
       "      <td>6S</td>\n",
       "    </tr>\n",
       "    <tr>\n",
       "      <th>48</th>\n",
       "      <td>iPhone</td>\n",
       "      <td>4G</td>\n",
       "    </tr>\n",
       "    <tr>\n",
       "      <th>65</th>\n",
       "      <td>iPhone</td>\n",
       "      <td>4S</td>\n",
       "    </tr>\n",
       "    <tr>\n",
       "      <th>84</th>\n",
       "      <td>Samsung</td>\n",
       "      <td>Galaxy J5</td>\n",
       "    </tr>\n",
       "    <tr>\n",
       "      <th>89</th>\n",
       "      <td>iPhone</td>\n",
       "      <td>5c</td>\n",
       "    </tr>\n",
       "    <tr>\n",
       "      <th>104</th>\n",
       "      <td>iPhone</td>\n",
       "      <td>7</td>\n",
       "    </tr>\n",
       "  </tbody>\n",
       "</table>\n",
       "</div>"
      ],
      "text/plain": [
       "        marca       modelo\n",
       "2      iPhone           5s\n",
       "4     Samsung    Galaxy S8\n",
       "13   Motorola  Moto Z Play\n",
       "22     iPhone       7 Plus\n",
       "26     iPhone           6S\n",
       "48     iPhone           4G\n",
       "65     iPhone           4S\n",
       "84    Samsung    Galaxy J5\n",
       "89     iPhone           5c\n",
       "104    iPhone            7"
      ]
     },
     "execution_count": 60,
     "metadata": {},
     "output_type": "execute_result"
    }
   ],
   "source": [
    "eventos.loc[:,['marca','modelo']].dropna().drop_duplicates().head(10)"
   ]
  },
  {
   "cell_type": "code",
   "execution_count": 74,
   "metadata": {},
   "outputs": [
    {
     "data": {
      "text/html": [
       "<div>\n",
       "<style>\n",
       "    .dataframe thead tr:only-child th {\n",
       "        text-align: right;\n",
       "    }\n",
       "\n",
       "    .dataframe thead th {\n",
       "        text-align: left;\n",
       "    }\n",
       "\n",
       "    .dataframe tbody tr th {\n",
       "        vertical-align: top;\n",
       "    }\n",
       "</style>\n",
       "<table border=\"1\" class=\"dataframe\">\n",
       "  <thead>\n",
       "    <tr style=\"text-align: right;\">\n",
       "      <th></th>\n",
       "      <th>model</th>\n",
       "      <th>marca</th>\n",
       "    </tr>\n",
       "  </thead>\n",
       "  <tbody>\n",
       "    <tr>\n",
       "      <th>2</th>\n",
       "      <td>iphone 5s</td>\n",
       "      <td>iPhone</td>\n",
       "    </tr>\n",
       "    <tr>\n",
       "      <th>4</th>\n",
       "      <td>samsung galaxy s8</td>\n",
       "      <td>Samsung</td>\n",
       "    </tr>\n",
       "    <tr>\n",
       "      <th>13</th>\n",
       "      <td>motorola moto z play</td>\n",
       "      <td>Motorola</td>\n",
       "    </tr>\n",
       "    <tr>\n",
       "      <th>22</th>\n",
       "      <td>iphone 7 plus</td>\n",
       "      <td>iPhone</td>\n",
       "    </tr>\n",
       "    <tr>\n",
       "      <th>26</th>\n",
       "      <td>iphone 6s</td>\n",
       "      <td>iPhone</td>\n",
       "    </tr>\n",
       "  </tbody>\n",
       "</table>\n",
       "</div>"
      ],
      "text/plain": [
       "                   model     marca\n",
       "2              iphone 5s    iPhone\n",
       "4      samsung galaxy s8   Samsung\n",
       "13  motorola moto z play  Motorola\n",
       "22         iphone 7 plus    iPhone\n",
       "26             iphone 6s    iPhone"
      ]
     },
     "execution_count": 74,
     "metadata": {},
     "output_type": "execute_result"
    }
   ],
   "source": [
    "modelos = eventos.loc[:,['model','marca']].dropna().drop_duplicates()\n",
    "modelos['model'] = modelos['model'].str.lower()\n",
    "modelos.head()"
   ]
  },
  {
   "cell_type": "code",
   "execution_count": null,
   "metadata": {},
   "outputs": [],
   "source": []
  },
  {
   "cell_type": "code",
   "execution_count": null,
   "metadata": {},
   "outputs": [],
   "source": []
  },
  {
   "cell_type": "code",
   "execution_count": null,
   "metadata": {},
   "outputs": [],
   "source": []
  },
  {
   "cell_type": "code",
   "execution_count": null,
   "metadata": {
    "collapsed": true
   },
   "outputs": [],
   "source": []
  },
  {
   "cell_type": "code",
   "execution_count": null,
   "metadata": {},
   "outputs": [],
   "source": []
  },
  {
   "cell_type": "code",
   "execution_count": null,
   "metadata": {},
   "outputs": [],
   "source": []
  },
  {
   "cell_type": "code",
   "execution_count": null,
   "metadata": {},
   "outputs": [],
   "source": []
  },
  {
   "cell_type": "code",
   "execution_count": null,
   "metadata": {
    "collapsed": true
   },
   "outputs": [],
   "source": []
  }
 ],
 "metadata": {
  "kernelspec": {
   "display_name": "Python 3",
   "language": "python",
   "name": "python3"
  },
  "language_info": {
   "codemirror_mode": {
    "name": "ipython",
    "version": 3
   },
   "file_extension": ".py",
   "mimetype": "text/x-python",
   "name": "python",
   "nbconvert_exporter": "python",
   "pygments_lexer": "ipython3",
   "version": "3.6.1"
  }
 },
 "nbformat": 4,
 "nbformat_minor": 2
}
