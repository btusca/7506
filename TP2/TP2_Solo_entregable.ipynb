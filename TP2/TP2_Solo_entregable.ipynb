{
 "cells": [
  {
   "cell_type": "code",
   "execution_count": 1,
   "metadata": {
    "collapsed": true
   },
   "outputs": [],
   "source": [
    "import numpy as np  # Librería para aplicar álgebra lineal\n",
    "import pandas as pd # Para manejar los datos (datasets)\n",
    "import matplotlib.pyplot as plt # Para las visualizaciones\n",
    "import seaborn as sns # Visualizaciones más fancy\n",
    "\n",
    "\n",
    "#Iremos agregando las bibliotecas a medida que las necesitemos"
   ]
  },
  {
   "cell_type": "code",
   "execution_count": 2,
   "metadata": {
    "collapsed": true
   },
   "outputs": [],
   "source": [
    "#Datos de entrada\n",
    "\n",
    "#Se especifican los tipo de datos para mejorar la performance\n",
    "eventos = pd.read_csv('../TP2018/fiuba-trocafone-tp2-final-set/events_up_to_01062018.csv', \n",
    "                      dtype={\"timestamp\": object,#intenté hacerla datetime y no anduvo \n",
    "                             \"event\": 'category',\n",
    "                             \"person\":object,\n",
    "                             \"url\":object,\n",
    "                             \"sku\":object,\n",
    "                             \"model\":object,\n",
    "                             \"condition\":'category',\n",
    "                             \"storage\":object,\n",
    "                             \"color\":'category',\n",
    "                             \"skus\":object,\n",
    "                             \"search_term\":object,\n",
    "                             \"staticpage\":object,\n",
    "                             \"campaign_source\":object,\n",
    "                             \"search_engine\":object,\n",
    "                             \"channel\":object,\n",
    "                             \"new_vs_returning\":'category',\n",
    "                             \"city\":object,\n",
    "                             \"region\":object,\n",
    "                             \"country\":object,\n",
    "                             \"device_type\":object,\n",
    "                             \"screen_resolution\":object,\n",
    "                             \"operating_system_version\":object,\n",
    "                             \"browser_version\":object})\n",
    "\n",
    "labels = pd.read_csv('../TP2018/fiuba-trocafone-tp2-final-set/labels_training_set.csv',\n",
    "                        dtype={\"person\":object, \"label\":bool})\n",
    "\n",
    "clientesAEvaluar = pd.read_csv('../TP2018/fiuba-trocafone-tp2-final-set/trocafone_kaggle_test.csv')"
   ]
  },
  {
   "cell_type": "code",
   "execution_count": 3,
   "metadata": {
    "collapsed": true
   },
   "outputs": [],
   "source": [
    "#Agregamos algunos features a los existentes\n",
    "eventos['timestamp'] =  pd.to_datetime(eventos['timestamp'])\n",
    "eventos[['marca','modelo']] = eventos['model'].dropna().str.split(' ',n=1,expand=True)\n",
    "eventos['weekday'] = eventos['timestamp'].dt.day_name()\n",
    "eventos['hour'] = eventos['timestamp'].dt.hour\n",
    "eventos['month'] = eventos['timestamp'].dt.month\n",
    "eventos['day'] = eventos['timestamp'].dt.day"
   ]
  },
  {
   "cell_type": "code",
   "execution_count": 4,
   "metadata": {
    "collapsed": true
   },
   "outputs": [],
   "source": [
    "#Creo períodos de tiempo donde ya asignamos a qué mes pertenecen\n",
    "eventos['principio_de_mes'] = ((eventos['day'] < 10) * eventos['month'])\n",
    "eventos['fin_de_mes'] = ((eventos['day'] > 20) * eventos['month'])\n",
    "eventos['mitad_de_mes'] = (((eventos['day'] > 10)  & (eventos['day'] < 21)) * eventos['month'])\n",
    "#eventos.loc[1:10,['principio_de_mes','mitad_de_mes','fin_de_mes']]"
   ]
  },
  {
   "cell_type": "markdown",
   "metadata": {},
   "source": [
    "### Vamos creando features: "
   ]
  },
  {
   "cell_type": "code",
   "execution_count": 5,
   "metadata": {
    "collapsed": true
   },
   "outputs": [],
   "source": [
    "#Features en base al total de cada evento\n",
    "totalEvento = eventos.groupby('person')['event'].value_counts().unstack().reset_index()\n",
    "totalEvento.rename(lambda x: x if x == 'person' else 'total ' + x, axis = 1, inplace=True)\n",
    "\n",
    "#Features en base a la frecuencia de cada evento sobre el total (frecuencia relativa)\n",
    "frecEvento = eventos.groupby('person')['event'].value_counts(normalize=True).unstack().reset_index()\n",
    "frecEvento.rename(lambda x: x if x == 'person' else 'frec ' + x, axis = 1, inplace=True)\n",
    "\n",
    "#features en base a la frecuencia relativa de la marca de los dispositivos consultados\n",
    "frecMarca = eventos.groupby('person')['marca'].value_counts(normalize=True).unstack().reset_index()\n",
    "frecMarca.rename(lambda x: x if x == 'person' else 'frec ' + x, axis = 1, inplace=True)\n",
    "\n",
    "#features en base a la cantidad (frecuencia total) de eventos por mes\n",
    "totalMes = eventos.groupby('person')['month'].value_counts().unstack().reset_index()\n",
    "totalMes.rename({1:'total_enero',2:'total_febrero',3:'total_marzo',4:'total_abril',5:'total_mayo'}, \n",
    "                inplace=True, axis=1)\n",
    "\n",
    "#features en base a la cantidad de eventos en períodos de aprox 10 días (principio, mitad y fin de mes)\n",
    "totalPrincipioMes = eventos.groupby('person')['principio_de_mes'].value_counts().unstack().reset_index().head().drop(0,axis=1)\n",
    "totalPrincipioMes.rename(lambda x: x if x == 'person' else 'total principio_de_mes ' + str(x), axis = 1, inplace=True)\n",
    "\n",
    "totalMitadMes = eventos.groupby('person')['mitad_de_mes'].value_counts().unstack().reset_index().head().drop(0,axis=1)\n",
    "totalMitadMes.rename(lambda x: x if x == 'person' else 'total mitad_de_mes ' + str(x), axis = 1, inplace=True)\n",
    "\n",
    "totalFinMes = eventos.groupby('person')['fin_de_mes'].value_counts().unstack().reset_index().head().drop(0,axis=1)\n",
    "totalFinMes.rename(lambda x: x if x == 'person' else 'total fin_de_mes ' + str(x), axis = 1, inplace=True)\n",
    "\n",
    "#features en base a la frecuencia relativa de los dispositivos desde los que se accede\n",
    "frecDispositivo = eventos.groupby('person')['device_type'].value_counts(normalize=True).unstack().reset_index()\n",
    "frecDispositivo.rename(lambda x: x if x == 'person' else 'frec ' + x, axis=1, inplace=True)\n",
    "\n",
    "#features en base a la frecuencia relativa de los colores de los teléfonos vistos\n",
    "frecColor = eventos.groupby('person')['color'].value_counts(normalize=True).unstack().reset_index()\n",
    "frecColor.rename(lambda x: x if x == 'person' else 'frec color ' + x, axis=1, inplace=True)\n",
    "\n",
    "#features en base a la frecuencia relativa de los estados de los teléfonos consultados\n",
    "frecCondicion = eventos.groupby('person')['condition'].value_counts(normalize=True).unstack().reset_index()\n",
    "frecCondicion.rename(lambda x: x if x == 'person' else 'frec ' + x, axis=1, inplace=True)\n",
    "\n",
    "#features en base al la frecuencia relativa del día de semana en que se consultó\n",
    "frecDiaSemana = eventos.groupby('person')['weekday'].value_counts(normalize=True).unstack().reset_index().fillna(0)\n",
    "frecDiaSemana.rename(lambda x: x if x == 'person' else 'frec ' + x, axis=1, inplace=True)\n",
    "\n",
    "#features en base al día (a revisar, capaz convenga hacer algo en base al més y al día, o separar en quincenas)\n",
    "frecNroDia = eventos.groupby('person')['day'].value_counts(normalize=True).unstack().reset_index()\n",
    "frecNroDia.rename(lambda x: x if str(x) == 'person' else 'frec dia ' + str(x), axis=1, inplace=True)\n",
    "\n",
    "#Creamos los features del almacenamiento interno de los dispositivos consultados\n",
    "frecAlmacenamiento = eventos.groupby('person')['storage'].value_counts(normalize=True).unstack().reset_index()\n",
    "frecAlmacenamiento.rename(lambda x: x if x == 'person' else 'frec ' + x, axis=1, inplace=True)\n"
   ]
  },
  {
   "cell_type": "code",
   "execution_count": 6,
   "metadata": {},
   "outputs": [
    {
     "data": {
      "text/html": [
       "<div>\n",
       "<style scoped>\n",
       "    .dataframe tbody tr th:only-of-type {\n",
       "        vertical-align: middle;\n",
       "    }\n",
       "\n",
       "    .dataframe tbody tr th {\n",
       "        vertical-align: top;\n",
       "    }\n",
       "\n",
       "    .dataframe thead th {\n",
       "        text-align: right;\n",
       "    }\n",
       "</style>\n",
       "<table border=\"1\" class=\"dataframe\">\n",
       "  <thead>\n",
       "    <tr style=\"text-align: right;\">\n",
       "      <th></th>\n",
       "      <th>person</th>\n",
       "      <th>frec ad campaign hit</th>\n",
       "      <th>frec brand listing</th>\n",
       "      <th>frec checkout</th>\n",
       "      <th>frec conversion</th>\n",
       "      <th>frec generic listing</th>\n",
       "      <th>frec lead</th>\n",
       "      <th>frec search engine hit</th>\n",
       "      <th>frec searched products</th>\n",
       "      <th>frec staticpage</th>\n",
       "      <th>...</th>\n",
       "      <th>frec dia 30</th>\n",
       "      <th>frec dia 31</th>\n",
       "      <th>frec 128GB</th>\n",
       "      <th>frec 16GB</th>\n",
       "      <th>frec 256GB</th>\n",
       "      <th>frec 32GB</th>\n",
       "      <th>frec 4GB</th>\n",
       "      <th>frec 512MB</th>\n",
       "      <th>frec 64GB</th>\n",
       "      <th>frec 8GB</th>\n",
       "    </tr>\n",
       "  </thead>\n",
       "  <tbody>\n",
       "    <tr>\n",
       "      <th>0</th>\n",
       "      <td>0008ed71</td>\n",
       "      <td>NaN</td>\n",
       "      <td>NaN</td>\n",
       "      <td>0.500000</td>\n",
       "      <td>NaN</td>\n",
       "      <td>0.166667</td>\n",
       "      <td>NaN</td>\n",
       "      <td>NaN</td>\n",
       "      <td>NaN</td>\n",
       "      <td>NaN</td>\n",
       "      <td>...</td>\n",
       "      <td>NaN</td>\n",
       "      <td>NaN</td>\n",
       "      <td>NaN</td>\n",
       "      <td>NaN</td>\n",
       "      <td>NaN</td>\n",
       "      <td>0.666667</td>\n",
       "      <td>NaN</td>\n",
       "      <td>NaN</td>\n",
       "      <td>0.333333</td>\n",
       "      <td>NaN</td>\n",
       "    </tr>\n",
       "    <tr>\n",
       "      <th>1</th>\n",
       "      <td>00091926</td>\n",
       "      <td>0.033482</td>\n",
       "      <td>0.055804</td>\n",
       "      <td>0.004464</td>\n",
       "      <td>NaN</td>\n",
       "      <td>NaN</td>\n",
       "      <td>NaN</td>\n",
       "      <td>NaN</td>\n",
       "      <td>NaN</td>\n",
       "      <td>NaN</td>\n",
       "      <td>...</td>\n",
       "      <td>NaN</td>\n",
       "      <td>0.035714</td>\n",
       "      <td>0.128342</td>\n",
       "      <td>0.278075</td>\n",
       "      <td>0.026738</td>\n",
       "      <td>0.352941</td>\n",
       "      <td>NaN</td>\n",
       "      <td>NaN</td>\n",
       "      <td>0.213904</td>\n",
       "      <td>NaN</td>\n",
       "    </tr>\n",
       "  </tbody>\n",
       "</table>\n",
       "<p>2 rows × 109 columns</p>\n",
       "</div>"
      ],
      "text/plain": [
       "     person  frec ad campaign hit  frec brand listing  frec checkout  \\\n",
       "0  0008ed71                   NaN                 NaN       0.500000   \n",
       "1  00091926              0.033482            0.055804       0.004464   \n",
       "\n",
       "   frec conversion  frec generic listing  frec lead  frec search engine hit  \\\n",
       "0              NaN              0.166667        NaN                     NaN   \n",
       "1              NaN                   NaN        NaN                     NaN   \n",
       "\n",
       "   frec searched products  frec staticpage    ...     frec dia 30  \\\n",
       "0                     NaN              NaN    ...             NaN   \n",
       "1                     NaN              NaN    ...             NaN   \n",
       "\n",
       "   frec dia 31  frec 128GB  frec 16GB  frec 256GB  frec 32GB  frec 4GB  \\\n",
       "0          NaN         NaN        NaN         NaN   0.666667       NaN   \n",
       "1     0.035714    0.128342   0.278075    0.026738   0.352941       NaN   \n",
       "\n",
       "   frec 512MB  frec 64GB  frec 8GB  \n",
       "0         NaN   0.333333       NaN  \n",
       "1         NaN   0.213904       NaN  \n",
       "\n",
       "[2 rows x 109 columns]"
      ]
     },
     "execution_count": 6,
     "metadata": {},
     "output_type": "execute_result"
    }
   ],
   "source": [
    "#Empezamos a hacer el merge\n",
    "#No hay que olvidarse de hacer outer left joins, si no se perderán filas\n",
    "#Empezamos con features con todas las filas (todos los clientes tienen eventos)\n",
    "features = frecEvento.merge(totalEvento, how='left', on='person')\n",
    "features = features.merge(frecMarca, how='left', on='person')\n",
    "features = features.merge(totalMes, how='left', on='person')\n",
    "features = features.merge(frecDispositivo, how='left', on='person')\n",
    "#features = features.merge(frecColor, how='left', on='person')\n",
    "features = features.merge(frecCondicion, how='left', on='person')\n",
    "features = features.merge(frecDiaSemana, how='left', on='person')\n",
    "features = features.merge(totalPrincipioMes, how='left', on='person')\n",
    "features = features.merge(totalMitadMes, how='left', on='person')\n",
    "features = features.merge(totalFinMes, how='left', on='person')\n",
    "features = features.merge(frecNroDia, how='left', on='person') #Lo reemplazo por los períodos en los meses?\n",
    "features = features.merge(frecAlmacenamiento, how='left', on='person')\n",
    "\n",
    "features.head(2)"
   ]
  },
  {
   "cell_type": "markdown",
   "metadata": {},
   "source": [
    "## Preparación de algoritmos clasificadores y otras yerbas"
   ]
  },
  {
   "cell_type": "code",
   "execution_count": 7,
   "metadata": {
    "collapsed": true
   },
   "outputs": [],
   "source": [
    "#Cargamos las bibliotecas para usar y validar Random Forest y XGBoost\n",
    "from sklearn.ensemble import RandomForestClassifier\n",
    "from sklearn.model_selection import cross_val_score\n",
    "import xgboost as xgb\n",
    "\n",
    "#Para preparar sets de entrenamiento y prueba\n",
    "from sklearn.model_selection import train_test_split  \n",
    "\n",
    "#Nos traemos bibliotecas para medir la performance\n",
    "from sklearn.metrics import classification_report\n",
    "from sklearn.metrics import accuracy_score"
   ]
  },
  {
   "cell_type": "code",
   "execution_count": 8,
   "metadata": {
    "collapsed": true
   },
   "outputs": [],
   "source": [
    "'''Tomamos \"prestada\" una función para presentar prolijamente los n features más importantes.\n",
    "La función fue tomada casi literal de:\n",
    "    https://github.com/Featuretools/predict-next-purchase/blob/master/utils.py\n",
    "'''\n",
    "def feature_importances(model, features, n=10):\n",
    "    importances = model.feature_importances_\n",
    "    zipped = sorted(zip(features, importances), key=lambda x: -x[1])\n",
    "    for i, f in enumerate(zipped[:n]):\n",
    "        print(\"%d: Feature: %s, %.3f\" % (i+1, f[0], f[1]))\n",
    "\n",
    "    return [f[0] for f in zipped[:n]]"
   ]
  },
  {
   "cell_type": "code",
   "execution_count": 9,
   "metadata": {
    "collapsed": true
   },
   "outputs": [],
   "source": [
    "#Reemplazamos NaNs por ceros\n",
    "features = features.fillna(0)\n",
    "\n",
    "#Cargamos X e y para trabajar con Random Forest (y otros algoritmos luego).\n",
    "X = pd.merge(features, labels, on='person')\n",
    "X.drop('person', axis=1, inplace=True)\n",
    "X = X.fillna(0)\n",
    "y = X.pop('label')\n",
    "\n",
    "#Ahora hacemos el split de los datos a testear\n",
    "#Hacemos una división de set de test y entrenamiento, y le ponemos una semilla arbitraria para poder replicarlo\n",
    "seed = 1234\n",
    "X_train, X_test, y_train, y_test = train_test_split(X, y, test_size=0.25, random_state=seed)"
   ]
  },
  {
   "cell_type": "markdown",
   "metadata": {},
   "source": [
    "### Creamos los clasificadores"
   ]
  },
  {
   "cell_type": "code",
   "execution_count": 10,
   "metadata": {},
   "outputs": [],
   "source": [
    "#XGBoost básico, sólo con la semilla para poder replicarlo\n",
    "xgbBasico = xgb.XGBClassifier(seed=seed)"
   ]
  },
  {
   "cell_type": "code",
   "execution_count": 11,
   "metadata": {
    "collapsed": true
   },
   "outputs": [],
   "source": [
    "#Random con la semilla para poder replicarlo\n",
    "clfRF1 = RandomForestClassifier(bootstrap=True, class_weight=None, criterion='gini', max_depth=None, \n",
    "                                max_features='auto', max_leaf_nodes=None, min_samples_leaf=1, \n",
    "                                min_samples_split=2,min_weight_fraction_leaf=0.0,n_estimators=500, \n",
    "                                n_jobs=-1, oob_score=False, random_state=seed, verbose=0, warm_start=False)"
   ]
  },
  {
   "cell_type": "markdown",
   "metadata": {},
   "source": [
    "## Preparamos la clasificación a subir"
   ]
  },
  {
   "cell_type": "code",
   "execution_count": 12,
   "metadata": {
    "collapsed": true
   },
   "outputs": [],
   "source": [
    "## Preparamos los datos que necesitamos clasificar\n",
    "datosTest = clientesAEvaluar.merge(features, on='person',how='inner')"
   ]
  },
  {
   "cell_type": "code",
   "execution_count": 13,
   "metadata": {
    "collapsed": true
   },
   "outputs": [],
   "source": [
    "#Hacemos predicciones con el modelo de Random Forest\n",
    "clfRF1.fit(X,y)\n",
    "prediccionRandomForest = clfRF1.predict_proba(X=datosTest.drop('person', axis=1).fillna(0))"
   ]
  },
  {
   "cell_type": "code",
   "execution_count": 14,
   "metadata": {
    "collapsed": true
   },
   "outputs": [],
   "source": [
    "#Predicciones con el modelo básico de XGBoost entrenado con los datos sin ordenar\n",
    "xgbBasico.fit(X,y)\n",
    "prediccionXGBoostBasico = xgbBasico.predict_proba(data=datosTest.drop('person', axis=1).fillna(0))"
   ]
  },
  {
   "cell_type": "code",
   "execution_count": 15,
   "metadata": {
    "collapsed": true
   },
   "outputs": [],
   "source": [
    "#ensamble, en lugar del promedio, asignarle pesos\n",
    "clientesAEvaluar['label'] = (prediccionXGBoostBasico[:,[1]] * 0.6 + prediccionRandomForest[:,[1]] * 0.4)\n",
    "clientesAEvaluar.to_csv('Entregas/entrega_XGBoostBasico y RF 2.csv',index=False)\n"
   ]
  },
  {
   "cell_type": "markdown",
   "metadata": {
    "collapsed": true
   },
   "source": [
    "### Con esta entrega generamos nuestro mejor resultado: 0.86189"
   ]
  }
 ],
 "metadata": {
  "kernelspec": {
   "display_name": "Python 3",
   "language": "python",
   "name": "python3"
  },
  "language_info": {
   "codemirror_mode": {
    "name": "ipython",
    "version": 3
   },
   "file_extension": ".py",
   "mimetype": "text/x-python",
   "name": "python",
   "nbconvert_exporter": "python",
   "pygments_lexer": "ipython3",
   "version": "3.6.1"
  }
 },
 "nbformat": 4,
 "nbformat_minor": 2
}
