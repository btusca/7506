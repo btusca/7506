{
 "cells": [
  {
   "cell_type": "code",
   "execution_count": 1,
   "metadata": {
    "collapsed": true
   },
   "outputs": [],
   "source": [
    "import numpy as np  # Librería para aplicar álgebra lineal\n",
    "import pandas as pd # Para manejar los datos (datasets)\n",
    "\n",
    "import matplotlib.pyplot as plt # Para las visualizaciones\n",
    "import seaborn as sns # Visualizaciones más fancy\n",
    "\n",
    "from sklearn import preprocessing # Para el procesador de los datos\n",
    "from sklearn.preprocessing import Imputer # Para adoptar una estrategia para los missing values\n",
    "from sklearn.preprocessing import LabelEncoder as Codificar # Para codificar variables categóricas\n",
    "from sklearn.preprocessing import OneHotEncoder # Para pasar el LaberEncoder vector a OneHot matriz\n",
    "from sklearn.preprocessing import MinMaxScaler # Para realizar el escalado en escala (0-1)\n",
    "from sklearn.model_selection import train_test_split as Separar # Para dividir en los 2 conjuntos\n",
    "#from statsmodels.tools.eval_measures import rmse # Para calcular el error\n",
    "from sklearn.metrics import confusion_matrix as CM # Para construir la matriz de confusión\n",
    "from matplotlib.colors import ListedColormap as Colors # Para pintar las regiones en Clasificación"
   ]
  },
  {
   "cell_type": "code",
   "execution_count": 2,
   "metadata": {
    "collapsed": true
   },
   "outputs": [],
   "source": [
    "#Se especifican los tipo de datos para mejorar la performance\n",
    "eventos = pd.read_csv('../TP2018/fiuba-trocafone-tp2-final-set/events_up_to_01062018.csv', \n",
    "                      dtype={\"timestamp\": object,#intenté hacerla datetime y no anduvo \n",
    "                             \"event\": 'category',\n",
    "                             \"person\":object,\n",
    "                             \"url\":object,\n",
    "                             \"sku\":object,\n",
    "                             \"model\":object,\n",
    "                             \"condition\":'category',\n",
    "                             \"storage\":object,\n",
    "                             \"color\":'category',\n",
    "                             \"skus\":object,\n",
    "                             \"search_term\":object,\n",
    "                             \"staticpage\":object,\n",
    "                             \"campaign_source\":object,\n",
    "                             \"search_engine\":object,\n",
    "                             \"channel\":object,\n",
    "                             \"new_vs_returning\":'category',\n",
    "                             \"city\":object,\n",
    "                             \"region\":object,\n",
    "                             \"country\":object,\n",
    "                             \"device_type\":object,\n",
    "                             \"screen_resolution\":object,\n",
    "                             \"operating_system_version\":object,\n",
    "                             \"browser_version\":object})\n",
    "etiquetas = pd.read_csv('../TP2018/fiuba-trocafone-tp2-final-set/labels_training_set.csv',\n",
    "                        dtype={\"person\":object, \"label\":bool})"
   ]
  },
  {
   "cell_type": "code",
   "execution_count": 3,
   "metadata": {},
   "outputs": [
    {
     "data": {
      "text/plain": [
       "False    18434\n",
       "True       980\n",
       "Name: label, dtype: int64"
      ]
     },
     "execution_count": 3,
     "metadata": {},
     "output_type": "execute_result"
    }
   ],
   "source": [
    "etiquetas['label'].value_counts()"
   ]
  },
  {
   "cell_type": "code",
   "execution_count": 4,
   "metadata": {},
   "outputs": [
    {
     "data": {
      "text/html": [
       "<div>\n",
       "<style scoped>\n",
       "    .dataframe tbody tr th:only-of-type {\n",
       "        vertical-align: middle;\n",
       "    }\n",
       "\n",
       "    .dataframe tbody tr th {\n",
       "        vertical-align: top;\n",
       "    }\n",
       "\n",
       "    .dataframe thead th {\n",
       "        text-align: right;\n",
       "    }\n",
       "</style>\n",
       "<table border=\"1\" class=\"dataframe\">\n",
       "  <thead>\n",
       "    <tr style=\"text-align: right;\">\n",
       "      <th></th>\n",
       "      <th>timestamp</th>\n",
       "      <th>event</th>\n",
       "      <th>person</th>\n",
       "      <th>url</th>\n",
       "      <th>sku</th>\n",
       "      <th>model</th>\n",
       "      <th>condition</th>\n",
       "      <th>storage</th>\n",
       "      <th>color</th>\n",
       "      <th>skus</th>\n",
       "      <th>...</th>\n",
       "      <th>search_engine</th>\n",
       "      <th>channel</th>\n",
       "      <th>new_vs_returning</th>\n",
       "      <th>city</th>\n",
       "      <th>region</th>\n",
       "      <th>country</th>\n",
       "      <th>device_type</th>\n",
       "      <th>screen_resolution</th>\n",
       "      <th>operating_system_version</th>\n",
       "      <th>browser_version</th>\n",
       "    </tr>\n",
       "  </thead>\n",
       "  <tbody>\n",
       "    <tr>\n",
       "      <th>0</th>\n",
       "      <td>2018-05-18 00:11:59</td>\n",
       "      <td>viewed product</td>\n",
       "      <td>4886f805</td>\n",
       "      <td>NaN</td>\n",
       "      <td>9288.0</td>\n",
       "      <td>Samsung Galaxy J7 Prime</td>\n",
       "      <td>Excelente</td>\n",
       "      <td>32GB</td>\n",
       "      <td>Dourado</td>\n",
       "      <td>NaN</td>\n",
       "      <td>...</td>\n",
       "      <td>NaN</td>\n",
       "      <td>NaN</td>\n",
       "      <td>NaN</td>\n",
       "      <td>NaN</td>\n",
       "      <td>NaN</td>\n",
       "      <td>NaN</td>\n",
       "      <td>NaN</td>\n",
       "      <td>NaN</td>\n",
       "      <td>NaN</td>\n",
       "      <td>NaN</td>\n",
       "    </tr>\n",
       "    <tr>\n",
       "      <th>1</th>\n",
       "      <td>2018-05-18 00:11:27</td>\n",
       "      <td>viewed product</td>\n",
       "      <td>ad93850f</td>\n",
       "      <td>NaN</td>\n",
       "      <td>304.0</td>\n",
       "      <td>iPhone 5s</td>\n",
       "      <td>Muito Bom</td>\n",
       "      <td>32GB</td>\n",
       "      <td>Cinza espacial</td>\n",
       "      <td>NaN</td>\n",
       "      <td>...</td>\n",
       "      <td>NaN</td>\n",
       "      <td>NaN</td>\n",
       "      <td>NaN</td>\n",
       "      <td>NaN</td>\n",
       "      <td>NaN</td>\n",
       "      <td>NaN</td>\n",
       "      <td>NaN</td>\n",
       "      <td>NaN</td>\n",
       "      <td>NaN</td>\n",
       "      <td>NaN</td>\n",
       "    </tr>\n",
       "    <tr>\n",
       "      <th>2</th>\n",
       "      <td>2018-05-18 00:11:16</td>\n",
       "      <td>viewed product</td>\n",
       "      <td>0297fc1e</td>\n",
       "      <td>NaN</td>\n",
       "      <td>6888.0</td>\n",
       "      <td>iPhone 6S</td>\n",
       "      <td>Muito Bom</td>\n",
       "      <td>64GB</td>\n",
       "      <td>Prateado</td>\n",
       "      <td>NaN</td>\n",
       "      <td>...</td>\n",
       "      <td>NaN</td>\n",
       "      <td>NaN</td>\n",
       "      <td>NaN</td>\n",
       "      <td>NaN</td>\n",
       "      <td>NaN</td>\n",
       "      <td>NaN</td>\n",
       "      <td>NaN</td>\n",
       "      <td>NaN</td>\n",
       "      <td>NaN</td>\n",
       "      <td>NaN</td>\n",
       "    </tr>\n",
       "  </tbody>\n",
       "</table>\n",
       "<p>3 rows × 23 columns</p>\n",
       "</div>"
      ],
      "text/plain": [
       "             timestamp           event    person  url     sku  \\\n",
       "0  2018-05-18 00:11:59  viewed product  4886f805  NaN  9288.0   \n",
       "1  2018-05-18 00:11:27  viewed product  ad93850f  NaN   304.0   \n",
       "2  2018-05-18 00:11:16  viewed product  0297fc1e  NaN  6888.0   \n",
       "\n",
       "                     model  condition storage           color skus  \\\n",
       "0  Samsung Galaxy J7 Prime  Excelente    32GB         Dourado  NaN   \n",
       "1                iPhone 5s  Muito Bom    32GB  Cinza espacial  NaN   \n",
       "2                iPhone 6S  Muito Bom    64GB        Prateado  NaN   \n",
       "\n",
       "        ...       search_engine channel new_vs_returning city region country  \\\n",
       "0       ...                 NaN     NaN              NaN  NaN    NaN     NaN   \n",
       "1       ...                 NaN     NaN              NaN  NaN    NaN     NaN   \n",
       "2       ...                 NaN     NaN              NaN  NaN    NaN     NaN   \n",
       "\n",
       "  device_type screen_resolution operating_system_version browser_version  \n",
       "0         NaN               NaN                      NaN             NaN  \n",
       "1         NaN               NaN                      NaN             NaN  \n",
       "2         NaN               NaN                      NaN             NaN  \n",
       "\n",
       "[3 rows x 23 columns]"
      ]
     },
     "execution_count": 4,
     "metadata": {},
     "output_type": "execute_result"
    }
   ],
   "source": [
    "eventos.head(3)"
   ]
  },
  {
   "cell_type": "code",
   "execution_count": 5,
   "metadata": {},
   "outputs": [
    {
     "data": {
      "text/plain": [
       "19415"
      ]
     },
     "execution_count": 5,
     "metadata": {},
     "output_type": "execute_result"
    }
   ],
   "source": [
    "len(eventos['person'].unique()) - len(etiquetas)"
   ]
  },
  {
   "cell_type": "code",
   "execution_count": 6,
   "metadata": {},
   "outputs": [
    {
     "name": "stdout",
     "output_type": "stream",
     "text": [
      "False    18434\n",
      "True       980\n",
      "Name: label, dtype: int64\n",
      "False    0.949521\n",
      "True     0.050479\n",
      "Name: label, dtype: float64\n"
     ]
    }
   ],
   "source": [
    "print(etiquetas['label'].value_counts())\n",
    "print(etiquetas['label'].value_counts(normalize=True))"
   ]
  },
  {
   "cell_type": "code",
   "execution_count": 7,
   "metadata": {
    "collapsed": true
   },
   "outputs": [],
   "source": [
    "eventos['timestamp'] =  pd.to_datetime(eventos['timestamp'])\n",
    "eventos[['marca','modelo']] = eventos['model'].dropna().str.split(' ',n=1,expand=True)\n",
    "eventos['weekday']=eventos['timestamp'].dt.day_name()\n",
    "eventos['hour']=eventos['timestamp'].dt.hour\n",
    "eventos['month']=eventos['timestamp'].dt.month\n",
    "eventos['day']=eventos['timestamp'].dt.day"
   ]
  },
  {
   "cell_type": "code",
   "execution_count": 8,
   "metadata": {},
   "outputs": [
    {
     "name": "stdout",
     "output_type": "stream",
     "text": [
      "Cantidad de meses distintos: 5\n"
     ]
    },
    {
     "data": {
      "text/plain": [
       "5    1713920\n",
       "4     309849\n",
       "3     193790\n",
       "2      73541\n",
       "1      50581\n",
       "Name: month, dtype: int64"
      ]
     },
     "execution_count": 8,
     "metadata": {},
     "output_type": "execute_result"
    }
   ],
   "source": [
    "print('Cantidad de meses distintos:',len(eventos['month'].value_counts()))\n",
    "eventos['month'].value_counts()"
   ]
  },
  {
   "cell_type": "code",
   "execution_count": 9,
   "metadata": {},
   "outputs": [
    {
     "data": {
      "text/html": [
       "<div>\n",
       "<style scoped>\n",
       "    .dataframe tbody tr th:only-of-type {\n",
       "        vertical-align: middle;\n",
       "    }\n",
       "\n",
       "    .dataframe tbody tr th {\n",
       "        vertical-align: top;\n",
       "    }\n",
       "\n",
       "    .dataframe thead th {\n",
       "        text-align: right;\n",
       "    }\n",
       "</style>\n",
       "<table border=\"1\" class=\"dataframe\">\n",
       "  <thead>\n",
       "    <tr style=\"text-align: right;\">\n",
       "      <th>month</th>\n",
       "      <th>person</th>\n",
       "      <th>1</th>\n",
       "      <th>2</th>\n",
       "      <th>3</th>\n",
       "      <th>4</th>\n",
       "      <th>5</th>\n",
       "    </tr>\n",
       "  </thead>\n",
       "  <tbody>\n",
       "    <tr>\n",
       "      <th>0</th>\n",
       "      <td>0008ed71</td>\n",
       "      <td>0.0</td>\n",
       "      <td>0.0</td>\n",
       "      <td>0.0</td>\n",
       "      <td>0.0</td>\n",
       "      <td>6.0</td>\n",
       "    </tr>\n",
       "    <tr>\n",
       "      <th>1</th>\n",
       "      <td>00091926</td>\n",
       "      <td>0.0</td>\n",
       "      <td>0.0</td>\n",
       "      <td>0.0</td>\n",
       "      <td>0.0</td>\n",
       "      <td>448.0</td>\n",
       "    </tr>\n",
       "    <tr>\n",
       "      <th>2</th>\n",
       "      <td>00091a7a</td>\n",
       "      <td>0.0</td>\n",
       "      <td>0.0</td>\n",
       "      <td>10.0</td>\n",
       "      <td>0.0</td>\n",
       "      <td>0.0</td>\n",
       "    </tr>\n",
       "    <tr>\n",
       "      <th>3</th>\n",
       "      <td>000ba417</td>\n",
       "      <td>0.0</td>\n",
       "      <td>0.0</td>\n",
       "      <td>0.0</td>\n",
       "      <td>0.0</td>\n",
       "      <td>206.0</td>\n",
       "    </tr>\n",
       "    <tr>\n",
       "      <th>4</th>\n",
       "      <td>000c79fe</td>\n",
       "      <td>0.0</td>\n",
       "      <td>0.0</td>\n",
       "      <td>0.0</td>\n",
       "      <td>0.0</td>\n",
       "      <td>17.0</td>\n",
       "    </tr>\n",
       "  </tbody>\n",
       "</table>\n",
       "</div>"
      ],
      "text/plain": [
       "month    person    1    2     3    4      5\n",
       "0      0008ed71  0.0  0.0   0.0  0.0    6.0\n",
       "1      00091926  0.0  0.0   0.0  0.0  448.0\n",
       "2      00091a7a  0.0  0.0  10.0  0.0    0.0\n",
       "3      000ba417  0.0  0.0   0.0  0.0  206.0\n",
       "4      000c79fe  0.0  0.0   0.0  0.0   17.0"
      ]
     },
     "execution_count": 9,
     "metadata": {},
     "output_type": "execute_result"
    }
   ],
   "source": [
    "eventos.groupby('person')['month'].value_counts().unstack().reset_index().fillna(0).head()"
   ]
  },
  {
   "cell_type": "code",
   "execution_count": 10,
   "metadata": {},
   "outputs": [
    {
     "name": "stdout",
     "output_type": "stream",
     "text": [
      "Cantidad de elementos de mesesGrp: 38829\n"
     ]
    },
    {
     "data": {
      "text/html": [
       "<div>\n",
       "<style scoped>\n",
       "    .dataframe tbody tr th:only-of-type {\n",
       "        vertical-align: middle;\n",
       "    }\n",
       "\n",
       "    .dataframe tbody tr th {\n",
       "        vertical-align: top;\n",
       "    }\n",
       "\n",
       "    .dataframe thead th {\n",
       "        text-align: right;\n",
       "    }\n",
       "</style>\n",
       "<table border=\"1\" class=\"dataframe\">\n",
       "  <thead>\n",
       "    <tr style=\"text-align: right;\">\n",
       "      <th>month</th>\n",
       "      <th>person</th>\n",
       "      <th>total_enero</th>\n",
       "      <th>total_febrero</th>\n",
       "      <th>total_marzo</th>\n",
       "      <th>total_abril</th>\n",
       "      <th>total_mayo</th>\n",
       "    </tr>\n",
       "  </thead>\n",
       "  <tbody>\n",
       "    <tr>\n",
       "      <th>0</th>\n",
       "      <td>0008ed71</td>\n",
       "      <td>NaN</td>\n",
       "      <td>NaN</td>\n",
       "      <td>NaN</td>\n",
       "      <td>NaN</td>\n",
       "      <td>6.0</td>\n",
       "    </tr>\n",
       "    <tr>\n",
       "      <th>1</th>\n",
       "      <td>00091926</td>\n",
       "      <td>NaN</td>\n",
       "      <td>NaN</td>\n",
       "      <td>NaN</td>\n",
       "      <td>NaN</td>\n",
       "      <td>448.0</td>\n",
       "    </tr>\n",
       "    <tr>\n",
       "      <th>2</th>\n",
       "      <td>00091a7a</td>\n",
       "      <td>NaN</td>\n",
       "      <td>NaN</td>\n",
       "      <td>10.0</td>\n",
       "      <td>NaN</td>\n",
       "      <td>NaN</td>\n",
       "    </tr>\n",
       "  </tbody>\n",
       "</table>\n",
       "</div>"
      ],
      "text/plain": [
       "month    person  total_enero  total_febrero  total_marzo  total_abril  \\\n",
       "0      0008ed71          NaN            NaN          NaN          NaN   \n",
       "1      00091926          NaN            NaN          NaN          NaN   \n",
       "2      00091a7a          NaN            NaN         10.0          NaN   \n",
       "\n",
       "month  total_mayo  \n",
       "0             6.0  \n",
       "1           448.0  \n",
       "2             NaN  "
      ]
     },
     "execution_count": 10,
     "metadata": {},
     "output_type": "execute_result"
    }
   ],
   "source": [
    "mesesGrp = eventos.groupby('person')['month'].value_counts().unstack().reset_index()\n",
    "mesesGrp.rename({1:'total_enero',2:'total_febrero',3:'total_marzo',4:'total_abril',5:'total_mayo'},inplace=True, axis=1)\n",
    "print('Cantidad de elementos de mesesGrp:',len(mesesGrp))\n",
    "mesesGrp.head(3)"
   ]
  },
  {
   "cell_type": "code",
   "execution_count": 11,
   "metadata": {},
   "outputs": [
    {
     "name": "stdout",
     "output_type": "stream",
     "text": [
      "Cantidad de elementos de eventosGrp: 38829\n"
     ]
    },
    {
     "data": {
      "text/html": [
       "<div>\n",
       "<style scoped>\n",
       "    .dataframe tbody tr th:only-of-type {\n",
       "        vertical-align: middle;\n",
       "    }\n",
       "\n",
       "    .dataframe tbody tr th {\n",
       "        vertical-align: top;\n",
       "    }\n",
       "\n",
       "    .dataframe thead th {\n",
       "        text-align: right;\n",
       "    }\n",
       "</style>\n",
       "<table border=\"1\" class=\"dataframe\">\n",
       "  <thead>\n",
       "    <tr style=\"text-align: right;\">\n",
       "      <th>event</th>\n",
       "      <th>person</th>\n",
       "      <th>total ad campaign hit</th>\n",
       "      <th>total brand listing</th>\n",
       "      <th>total checkout</th>\n",
       "      <th>total conversion</th>\n",
       "      <th>total generic listing</th>\n",
       "      <th>total lead</th>\n",
       "      <th>total search engine hit</th>\n",
       "      <th>total searched products</th>\n",
       "      <th>total staticpage</th>\n",
       "      <th>total viewed product</th>\n",
       "      <th>total visited site</th>\n",
       "    </tr>\n",
       "  </thead>\n",
       "  <tbody>\n",
       "    <tr>\n",
       "      <th>0</th>\n",
       "      <td>0008ed71</td>\n",
       "      <td>NaN</td>\n",
       "      <td>NaN</td>\n",
       "      <td>3.0</td>\n",
       "      <td>NaN</td>\n",
       "      <td>1.0</td>\n",
       "      <td>NaN</td>\n",
       "      <td>NaN</td>\n",
       "      <td>NaN</td>\n",
       "      <td>NaN</td>\n",
       "      <td>NaN</td>\n",
       "      <td>2.0</td>\n",
       "    </tr>\n",
       "    <tr>\n",
       "      <th>1</th>\n",
       "      <td>00091926</td>\n",
       "      <td>15.0</td>\n",
       "      <td>25.0</td>\n",
       "      <td>2.0</td>\n",
       "      <td>NaN</td>\n",
       "      <td>NaN</td>\n",
       "      <td>NaN</td>\n",
       "      <td>NaN</td>\n",
       "      <td>NaN</td>\n",
       "      <td>NaN</td>\n",
       "      <td>372.0</td>\n",
       "      <td>34.0</td>\n",
       "    </tr>\n",
       "    <tr>\n",
       "      <th>2</th>\n",
       "      <td>00091a7a</td>\n",
       "      <td>1.0</td>\n",
       "      <td>5.0</td>\n",
       "      <td>NaN</td>\n",
       "      <td>NaN</td>\n",
       "      <td>NaN</td>\n",
       "      <td>NaN</td>\n",
       "      <td>NaN</td>\n",
       "      <td>NaN</td>\n",
       "      <td>NaN</td>\n",
       "      <td>3.0</td>\n",
       "      <td>1.0</td>\n",
       "    </tr>\n",
       "  </tbody>\n",
       "</table>\n",
       "</div>"
      ],
      "text/plain": [
       "event    person  total ad campaign hit  total brand listing  total checkout  \\\n",
       "0      0008ed71                    NaN                  NaN             3.0   \n",
       "1      00091926                   15.0                 25.0             2.0   \n",
       "2      00091a7a                    1.0                  5.0             NaN   \n",
       "\n",
       "event  total conversion  total generic listing  total lead  \\\n",
       "0                   NaN                    1.0         NaN   \n",
       "1                   NaN                    NaN         NaN   \n",
       "2                   NaN                    NaN         NaN   \n",
       "\n",
       "event  total search engine hit  total searched products  total staticpage  \\\n",
       "0                          NaN                      NaN               NaN   \n",
       "1                          NaN                      NaN               NaN   \n",
       "2                          NaN                      NaN               NaN   \n",
       "\n",
       "event  total viewed product  total visited site  \n",
       "0                       NaN                 2.0  \n",
       "1                     372.0                34.0  \n",
       "2                       3.0                 1.0  "
      ]
     },
     "execution_count": 11,
     "metadata": {},
     "output_type": "execute_result"
    }
   ],
   "source": [
    "eventosGrp  = eventos.groupby('person')['event'].value_counts().unstack().reset_index()\n",
    "eventosGrp.columns = eventosGrp.columns.map(lambda x: x if x == 'person' else 'total ' + x)\n",
    "print('Cantidad de elementos de eventosGrp:',len(eventosGrp))\n",
    "eventosGrp.head(3)"
   ]
  },
  {
   "cell_type": "code",
   "execution_count": 12,
   "metadata": {},
   "outputs": [
    {
     "data": {
      "text/html": [
       "<div>\n",
       "<style scoped>\n",
       "    .dataframe tbody tr th:only-of-type {\n",
       "        vertical-align: middle;\n",
       "    }\n",
       "\n",
       "    .dataframe tbody tr th {\n",
       "        vertical-align: top;\n",
       "    }\n",
       "\n",
       "    .dataframe thead th {\n",
       "        text-align: right;\n",
       "    }\n",
       "</style>\n",
       "<table border=\"1\" class=\"dataframe\">\n",
       "  <thead>\n",
       "    <tr style=\"text-align: right;\">\n",
       "      <th>event</th>\n",
       "      <th>person</th>\n",
       "      <th>promedio ad campaign hit</th>\n",
       "      <th>promedio brand listing</th>\n",
       "      <th>promedio checkout</th>\n",
       "      <th>promedio conversion</th>\n",
       "      <th>promedio generic listing</th>\n",
       "      <th>promedio lead</th>\n",
       "      <th>promedio search engine hit</th>\n",
       "      <th>promedio searched products</th>\n",
       "      <th>promedio staticpage</th>\n",
       "      <th>promedio viewed product</th>\n",
       "      <th>promedio visited site</th>\n",
       "    </tr>\n",
       "  </thead>\n",
       "  <tbody>\n",
       "    <tr>\n",
       "      <th>0</th>\n",
       "      <td>0008ed71</td>\n",
       "      <td>NaN</td>\n",
       "      <td>NaN</td>\n",
       "      <td>0.500000</td>\n",
       "      <td>NaN</td>\n",
       "      <td>0.166667</td>\n",
       "      <td>NaN</td>\n",
       "      <td>NaN</td>\n",
       "      <td>NaN</td>\n",
       "      <td>NaN</td>\n",
       "      <td>NaN</td>\n",
       "      <td>0.333333</td>\n",
       "    </tr>\n",
       "    <tr>\n",
       "      <th>1</th>\n",
       "      <td>00091926</td>\n",
       "      <td>0.033482</td>\n",
       "      <td>0.055804</td>\n",
       "      <td>0.004464</td>\n",
       "      <td>NaN</td>\n",
       "      <td>NaN</td>\n",
       "      <td>NaN</td>\n",
       "      <td>NaN</td>\n",
       "      <td>NaN</td>\n",
       "      <td>NaN</td>\n",
       "      <td>0.830357</td>\n",
       "      <td>0.075893</td>\n",
       "    </tr>\n",
       "    <tr>\n",
       "      <th>2</th>\n",
       "      <td>00091a7a</td>\n",
       "      <td>0.100000</td>\n",
       "      <td>0.500000</td>\n",
       "      <td>NaN</td>\n",
       "      <td>NaN</td>\n",
       "      <td>NaN</td>\n",
       "      <td>NaN</td>\n",
       "      <td>NaN</td>\n",
       "      <td>NaN</td>\n",
       "      <td>NaN</td>\n",
       "      <td>0.300000</td>\n",
       "      <td>0.100000</td>\n",
       "    </tr>\n",
       "  </tbody>\n",
       "</table>\n",
       "</div>"
      ],
      "text/plain": [
       "event    person  promedio ad campaign hit  promedio brand listing  \\\n",
       "0      0008ed71                       NaN                     NaN   \n",
       "1      00091926                  0.033482                0.055804   \n",
       "2      00091a7a                  0.100000                0.500000   \n",
       "\n",
       "event  promedio checkout  promedio conversion  promedio generic listing  \\\n",
       "0               0.500000                  NaN                  0.166667   \n",
       "1               0.004464                  NaN                       NaN   \n",
       "2                    NaN                  NaN                       NaN   \n",
       "\n",
       "event  promedio lead  promedio search engine hit  promedio searched products  \\\n",
       "0                NaN                         NaN                         NaN   \n",
       "1                NaN                         NaN                         NaN   \n",
       "2                NaN                         NaN                         NaN   \n",
       "\n",
       "event  promedio staticpage  promedio viewed product  promedio visited site  \n",
       "0                      NaN                      NaN               0.333333  \n",
       "1                      NaN                 0.830357               0.075893  \n",
       "2                      NaN                 0.300000               0.100000  "
      ]
     },
     "execution_count": 12,
     "metadata": {},
     "output_type": "execute_result"
    }
   ],
   "source": [
    "eventosNormalizados  = eventos.groupby('person')['event'].value_counts(normalize=True).unstack().reset_index()\n",
    "eventosNormalizados.columns = eventosNormalizados.columns.map(lambda x: x if x == 'person' else 'promedio ' + x)\n",
    "eventosNormalizados.head(3)"
   ]
  },
  {
   "cell_type": "code",
   "execution_count": 13,
   "metadata": {},
   "outputs": [
    {
     "name": "stdout",
     "output_type": "stream",
     "text": [
      "Cantidad de elementos de clientesGrp: 38829\n"
     ]
    },
    {
     "data": {
      "text/html": [
       "<div>\n",
       "<style scoped>\n",
       "    .dataframe tbody tr th:only-of-type {\n",
       "        vertical-align: middle;\n",
       "    }\n",
       "\n",
       "    .dataframe tbody tr th {\n",
       "        vertical-align: top;\n",
       "    }\n",
       "\n",
       "    .dataframe thead th {\n",
       "        text-align: right;\n",
       "    }\n",
       "</style>\n",
       "<table border=\"1\" class=\"dataframe\">\n",
       "  <thead>\n",
       "    <tr style=\"text-align: right;\">\n",
       "      <th></th>\n",
       "      <th>person</th>\n",
       "      <th>total ad campaign hit</th>\n",
       "      <th>total brand listing</th>\n",
       "      <th>total checkout</th>\n",
       "      <th>total conversion</th>\n",
       "      <th>total generic listing</th>\n",
       "      <th>total lead</th>\n",
       "      <th>total search engine hit</th>\n",
       "      <th>total searched products</th>\n",
       "      <th>total staticpage</th>\n",
       "      <th>...</th>\n",
       "      <th>promedio brand listing</th>\n",
       "      <th>promedio checkout</th>\n",
       "      <th>promedio conversion</th>\n",
       "      <th>promedio generic listing</th>\n",
       "      <th>promedio lead</th>\n",
       "      <th>promedio search engine hit</th>\n",
       "      <th>promedio searched products</th>\n",
       "      <th>promedio staticpage</th>\n",
       "      <th>promedio viewed product</th>\n",
       "      <th>promedio visited site</th>\n",
       "    </tr>\n",
       "  </thead>\n",
       "  <tbody>\n",
       "    <tr>\n",
       "      <th>0</th>\n",
       "      <td>0008ed71</td>\n",
       "      <td>NaN</td>\n",
       "      <td>NaN</td>\n",
       "      <td>3.0</td>\n",
       "      <td>NaN</td>\n",
       "      <td>1.0</td>\n",
       "      <td>NaN</td>\n",
       "      <td>NaN</td>\n",
       "      <td>NaN</td>\n",
       "      <td>NaN</td>\n",
       "      <td>...</td>\n",
       "      <td>NaN</td>\n",
       "      <td>0.500000</td>\n",
       "      <td>NaN</td>\n",
       "      <td>0.166667</td>\n",
       "      <td>NaN</td>\n",
       "      <td>NaN</td>\n",
       "      <td>NaN</td>\n",
       "      <td>NaN</td>\n",
       "      <td>NaN</td>\n",
       "      <td>0.333333</td>\n",
       "    </tr>\n",
       "    <tr>\n",
       "      <th>1</th>\n",
       "      <td>00091926</td>\n",
       "      <td>15.0</td>\n",
       "      <td>25.0</td>\n",
       "      <td>2.0</td>\n",
       "      <td>NaN</td>\n",
       "      <td>NaN</td>\n",
       "      <td>NaN</td>\n",
       "      <td>NaN</td>\n",
       "      <td>NaN</td>\n",
       "      <td>NaN</td>\n",
       "      <td>...</td>\n",
       "      <td>0.055804</td>\n",
       "      <td>0.004464</td>\n",
       "      <td>NaN</td>\n",
       "      <td>NaN</td>\n",
       "      <td>NaN</td>\n",
       "      <td>NaN</td>\n",
       "      <td>NaN</td>\n",
       "      <td>NaN</td>\n",
       "      <td>0.830357</td>\n",
       "      <td>0.075893</td>\n",
       "    </tr>\n",
       "    <tr>\n",
       "      <th>2</th>\n",
       "      <td>00091a7a</td>\n",
       "      <td>1.0</td>\n",
       "      <td>5.0</td>\n",
       "      <td>NaN</td>\n",
       "      <td>NaN</td>\n",
       "      <td>NaN</td>\n",
       "      <td>NaN</td>\n",
       "      <td>NaN</td>\n",
       "      <td>NaN</td>\n",
       "      <td>NaN</td>\n",
       "      <td>...</td>\n",
       "      <td>0.500000</td>\n",
       "      <td>NaN</td>\n",
       "      <td>NaN</td>\n",
       "      <td>NaN</td>\n",
       "      <td>NaN</td>\n",
       "      <td>NaN</td>\n",
       "      <td>NaN</td>\n",
       "      <td>NaN</td>\n",
       "      <td>0.300000</td>\n",
       "      <td>0.100000</td>\n",
       "    </tr>\n",
       "  </tbody>\n",
       "</table>\n",
       "<p>3 rows × 28 columns</p>\n",
       "</div>"
      ],
      "text/plain": [
       "     person  total ad campaign hit  total brand listing  total checkout  \\\n",
       "0  0008ed71                    NaN                  NaN             3.0   \n",
       "1  00091926                   15.0                 25.0             2.0   \n",
       "2  00091a7a                    1.0                  5.0             NaN   \n",
       "\n",
       "   total conversion  total generic listing  total lead  \\\n",
       "0               NaN                    1.0         NaN   \n",
       "1               NaN                    NaN         NaN   \n",
       "2               NaN                    NaN         NaN   \n",
       "\n",
       "   total search engine hit  total searched products  total staticpage  \\\n",
       "0                      NaN                      NaN               NaN   \n",
       "1                      NaN                      NaN               NaN   \n",
       "2                      NaN                      NaN               NaN   \n",
       "\n",
       "           ...            promedio brand listing  promedio checkout  \\\n",
       "0          ...                               NaN           0.500000   \n",
       "1          ...                          0.055804           0.004464   \n",
       "2          ...                          0.500000                NaN   \n",
       "\n",
       "   promedio conversion  promedio generic listing  promedio lead  \\\n",
       "0                  NaN                  0.166667            NaN   \n",
       "1                  NaN                       NaN            NaN   \n",
       "2                  NaN                       NaN            NaN   \n",
       "\n",
       "   promedio search engine hit  promedio searched products  \\\n",
       "0                         NaN                         NaN   \n",
       "1                         NaN                         NaN   \n",
       "2                         NaN                         NaN   \n",
       "\n",
       "   promedio staticpage  promedio viewed product  promedio visited site  \n",
       "0                  NaN                      NaN               0.333333  \n",
       "1                  NaN                 0.830357               0.075893  \n",
       "2                  NaN                 0.300000               0.100000  \n",
       "\n",
       "[3 rows x 28 columns]"
      ]
     },
     "execution_count": 13,
     "metadata": {},
     "output_type": "execute_result"
    }
   ],
   "source": [
    "#Agrupamos los primeros features, de mes y evento\n",
    "clientesGrp = pd.merge(eventosGrp,mesesGrp,on='person')\n",
    "clientesGrp = clientesGrp.merge(eventosNormalizados,on='person',how='left')\n",
    "print('Cantidad de elementos de clientesGrp:',len(clientesGrp))\n",
    "clientesGrp.head(3)"
   ]
  },
  {
   "cell_type": "code",
   "execution_count": 14,
   "metadata": {},
   "outputs": [
    {
     "data": {
      "text/html": [
       "<div>\n",
       "<style scoped>\n",
       "    .dataframe tbody tr th:only-of-type {\n",
       "        vertical-align: middle;\n",
       "    }\n",
       "\n",
       "    .dataframe tbody tr th {\n",
       "        vertical-align: top;\n",
       "    }\n",
       "\n",
       "    .dataframe thead th {\n",
       "        text-align: right;\n",
       "    }\n",
       "</style>\n",
       "<table border=\"1\" class=\"dataframe\">\n",
       "  <thead>\n",
       "    <tr style=\"text-align: right;\">\n",
       "      <th>marca</th>\n",
       "      <th>person</th>\n",
       "      <th>total marca Asus</th>\n",
       "      <th>total marca LG</th>\n",
       "      <th>total marca Lenovo</th>\n",
       "      <th>total marca Motorola</th>\n",
       "      <th>total marca Outros</th>\n",
       "      <th>total marca Quantum</th>\n",
       "      <th>total marca Samsung</th>\n",
       "      <th>total marca Sony</th>\n",
       "      <th>total marca Xiaomi</th>\n",
       "      <th>total marca iPad</th>\n",
       "      <th>total marca iPhone</th>\n",
       "    </tr>\n",
       "  </thead>\n",
       "  <tbody>\n",
       "    <tr>\n",
       "      <th>0</th>\n",
       "      <td>0008ed71</td>\n",
       "      <td>NaN</td>\n",
       "      <td>1.0</td>\n",
       "      <td>NaN</td>\n",
       "      <td>NaN</td>\n",
       "      <td>NaN</td>\n",
       "      <td>NaN</td>\n",
       "      <td>1.0</td>\n",
       "      <td>NaN</td>\n",
       "      <td>NaN</td>\n",
       "      <td>NaN</td>\n",
       "      <td>1.0</td>\n",
       "    </tr>\n",
       "    <tr>\n",
       "      <th>1</th>\n",
       "      <td>00091926</td>\n",
       "      <td>NaN</td>\n",
       "      <td>2.0</td>\n",
       "      <td>1.0</td>\n",
       "      <td>55.0</td>\n",
       "      <td>NaN</td>\n",
       "      <td>NaN</td>\n",
       "      <td>61.0</td>\n",
       "      <td>1.0</td>\n",
       "      <td>NaN</td>\n",
       "      <td>1.0</td>\n",
       "      <td>253.0</td>\n",
       "    </tr>\n",
       "    <tr>\n",
       "      <th>2</th>\n",
       "      <td>00091a7a</td>\n",
       "      <td>NaN</td>\n",
       "      <td>NaN</td>\n",
       "      <td>NaN</td>\n",
       "      <td>NaN</td>\n",
       "      <td>NaN</td>\n",
       "      <td>NaN</td>\n",
       "      <td>NaN</td>\n",
       "      <td>NaN</td>\n",
       "      <td>NaN</td>\n",
       "      <td>NaN</td>\n",
       "      <td>3.0</td>\n",
       "    </tr>\n",
       "  </tbody>\n",
       "</table>\n",
       "</div>"
      ],
      "text/plain": [
       "marca    person  total marca Asus  total marca LG  total marca Lenovo  \\\n",
       "0      0008ed71               NaN             1.0                 NaN   \n",
       "1      00091926               NaN             2.0                 1.0   \n",
       "2      00091a7a               NaN             NaN                 NaN   \n",
       "\n",
       "marca  total marca Motorola  total marca Outros  total marca Quantum  \\\n",
       "0                       NaN                 NaN                  NaN   \n",
       "1                      55.0                 NaN                  NaN   \n",
       "2                       NaN                 NaN                  NaN   \n",
       "\n",
       "marca  total marca Samsung  total marca Sony  total marca Xiaomi  \\\n",
       "0                      1.0               NaN                 NaN   \n",
       "1                     61.0               1.0                 NaN   \n",
       "2                      NaN               NaN                 NaN   \n",
       "\n",
       "marca  total marca iPad  total marca iPhone  \n",
       "0                   NaN                 1.0  \n",
       "1                   1.0               253.0  \n",
       "2                   NaN                 3.0  "
      ]
     },
     "execution_count": 14,
     "metadata": {},
     "output_type": "execute_result"
    }
   ],
   "source": [
    "marcasGrp = eventos.groupby('person')['marca'].value_counts().unstack().reset_index()\n",
    "marcasGrp.columns = marcasGrp.columns.map(lambda x: x if x == 'person' else 'total marca ' + x)\n",
    "marcasGrp.head(3)"
   ]
  },
  {
   "cell_type": "code",
   "execution_count": 15,
   "metadata": {},
   "outputs": [
    {
     "data": {
      "text/html": [
       "<div>\n",
       "<style scoped>\n",
       "    .dataframe tbody tr th:only-of-type {\n",
       "        vertical-align: middle;\n",
       "    }\n",
       "\n",
       "    .dataframe tbody tr th {\n",
       "        vertical-align: top;\n",
       "    }\n",
       "\n",
       "    .dataframe thead th {\n",
       "        text-align: right;\n",
       "    }\n",
       "</style>\n",
       "<table border=\"1\" class=\"dataframe\">\n",
       "  <thead>\n",
       "    <tr style=\"text-align: right;\">\n",
       "      <th></th>\n",
       "      <th>person</th>\n",
       "      <th>total ad campaign hit</th>\n",
       "      <th>total brand listing</th>\n",
       "      <th>total checkout</th>\n",
       "      <th>total conversion</th>\n",
       "      <th>total generic listing</th>\n",
       "      <th>total lead</th>\n",
       "      <th>total search engine hit</th>\n",
       "      <th>total searched products</th>\n",
       "      <th>total staticpage</th>\n",
       "      <th>...</th>\n",
       "      <th>total marca LG</th>\n",
       "      <th>total marca Lenovo</th>\n",
       "      <th>total marca Motorola</th>\n",
       "      <th>total marca Outros</th>\n",
       "      <th>total marca Quantum</th>\n",
       "      <th>total marca Samsung</th>\n",
       "      <th>total marca Sony</th>\n",
       "      <th>total marca Xiaomi</th>\n",
       "      <th>total marca iPad</th>\n",
       "      <th>total marca iPhone</th>\n",
       "    </tr>\n",
       "  </thead>\n",
       "  <tbody>\n",
       "    <tr>\n",
       "      <th>0</th>\n",
       "      <td>0008ed71</td>\n",
       "      <td>NaN</td>\n",
       "      <td>NaN</td>\n",
       "      <td>3.0</td>\n",
       "      <td>NaN</td>\n",
       "      <td>1.0</td>\n",
       "      <td>NaN</td>\n",
       "      <td>NaN</td>\n",
       "      <td>NaN</td>\n",
       "      <td>NaN</td>\n",
       "      <td>...</td>\n",
       "      <td>1.0</td>\n",
       "      <td>NaN</td>\n",
       "      <td>NaN</td>\n",
       "      <td>NaN</td>\n",
       "      <td>NaN</td>\n",
       "      <td>1.0</td>\n",
       "      <td>NaN</td>\n",
       "      <td>NaN</td>\n",
       "      <td>NaN</td>\n",
       "      <td>1.0</td>\n",
       "    </tr>\n",
       "    <tr>\n",
       "      <th>1</th>\n",
       "      <td>00091926</td>\n",
       "      <td>15.0</td>\n",
       "      <td>25.0</td>\n",
       "      <td>2.0</td>\n",
       "      <td>NaN</td>\n",
       "      <td>NaN</td>\n",
       "      <td>NaN</td>\n",
       "      <td>NaN</td>\n",
       "      <td>NaN</td>\n",
       "      <td>NaN</td>\n",
       "      <td>...</td>\n",
       "      <td>2.0</td>\n",
       "      <td>1.0</td>\n",
       "      <td>55.0</td>\n",
       "      <td>NaN</td>\n",
       "      <td>NaN</td>\n",
       "      <td>61.0</td>\n",
       "      <td>1.0</td>\n",
       "      <td>NaN</td>\n",
       "      <td>1.0</td>\n",
       "      <td>253.0</td>\n",
       "    </tr>\n",
       "  </tbody>\n",
       "</table>\n",
       "<p>2 rows × 39 columns</p>\n",
       "</div>"
      ],
      "text/plain": [
       "     person  total ad campaign hit  total brand listing  total checkout  \\\n",
       "0  0008ed71                    NaN                  NaN             3.0   \n",
       "1  00091926                   15.0                 25.0             2.0   \n",
       "\n",
       "   total conversion  total generic listing  total lead  \\\n",
       "0               NaN                    1.0         NaN   \n",
       "1               NaN                    NaN         NaN   \n",
       "\n",
       "   total search engine hit  total searched products  total staticpage  \\\n",
       "0                      NaN                      NaN               NaN   \n",
       "1                      NaN                      NaN               NaN   \n",
       "\n",
       "          ...          total marca LG  total marca Lenovo  \\\n",
       "0         ...                     1.0                 NaN   \n",
       "1         ...                     2.0                 1.0   \n",
       "\n",
       "   total marca Motorola  total marca Outros  total marca Quantum  \\\n",
       "0                   NaN                 NaN                  NaN   \n",
       "1                  55.0                 NaN                  NaN   \n",
       "\n",
       "   total marca Samsung  total marca Sony  total marca Xiaomi  \\\n",
       "0                  1.0               NaN                 NaN   \n",
       "1                 61.0               1.0                 NaN   \n",
       "\n",
       "   total marca iPad  total marca iPhone  \n",
       "0               NaN                 1.0  \n",
       "1               1.0               253.0  \n",
       "\n",
       "[2 rows x 39 columns]"
      ]
     },
     "execution_count": 15,
     "metadata": {},
     "output_type": "execute_result"
    }
   ],
   "source": [
    "#A los features ya obtenidos le agregamos las marcas de los modelos consultados. Importante el left join!\n",
    "clientesGrp = clientesGrp.merge(marcasGrp,on='person',how='left')\n",
    "clientesGrp.head(2)"
   ]
  },
  {
   "cell_type": "code",
   "execution_count": 16,
   "metadata": {},
   "outputs": [
    {
     "data": {
      "text/plain": [
       "16GB     442096\n",
       "32GB     430283\n",
       "64GB     228413\n",
       "128GB     99345\n",
       "8GB       96019\n",
       "256GB     17623\n",
       "4GB        5409\n",
       "512MB      1342\n",
       "Name: storage, dtype: int64"
      ]
     },
     "execution_count": 16,
     "metadata": {},
     "output_type": "execute_result"
    }
   ],
   "source": [
    "eventos['storage'].value_counts()"
   ]
  },
  {
   "cell_type": "code",
   "execution_count": 17,
   "metadata": {},
   "outputs": [],
   "source": [
    "#Creamos los features del almacenamiento interno de los dispositivos consultados\n",
    "almacenamientoGrp = eventos.groupby('person')['storage'].value_counts().unstack().reset_index()\n",
    "almacenamientoGrp.columns = almacenamientoGrp.columns.map(lambda x: x if x == 'person' else 'total ' + x)\n",
    "#Agregamos estos features\n",
    "clientesGrp = clientesGrp.merge(almacenamientoGrp, how='left', on='person')"
   ]
  },
  {
   "cell_type": "code",
   "execution_count": 41,
   "metadata": {},
   "outputs": [
    {
     "name": "stdout",
     "output_type": "stream",
     "text": [
      "0                                     \n",
      "1                   Chrome Mobile 66.0\n",
      "2                           Firefox 57\n",
      "3                          Chrome 66.0\n",
      "4                   Chrome Mobile 34.0\n",
      "5                   Chrome Mobile 65.0\n",
      "6                         Facebook 172\n",
      "7                         Facebook 173\n",
      "8                     Mobile Safari 11\n",
      "9                          Chrome 65.0\n",
      "10                         Chrome 67.0\n",
      "11                         Safari 11.1\n",
      "12                          Firefox 60\n",
      "13                          Firefox 59\n",
      "14                               IE 11\n",
      "15                    Chrome Mobile 39\n",
      "16                  Chrome Mobile 56.0\n",
      "17                         Chrome 63.0\n",
      "18                         Chrome 64.0\n",
      "19                  Chrome Mobile 64.0\n",
      "20                     Mobile Safari 9\n",
      "21                         Chrome 62.0\n",
      "22                        Facebook 166\n",
      "23                        Facebook 163\n",
      "24                  Chrome Mobile 63.0\n",
      "25                         Chrome 61.0\n",
      "26                         Chrome 55.0\n",
      "27                         Chrome 51.0\n",
      "28                  Chrome Mobile 61.0\n",
      "29                  Chrome Mobile 55.0\n",
      "                    ...               \n",
      "337                     Opera Mini 4.5\n",
      "338                      Edge 17.17133\n",
      "339                    Opera Mini 32.0\n",
      "340    Mobile Safari UI/WKWebView 11.3\n",
      "341                           Safari 3\n",
      "342                       Firefox 15.0\n",
      "343                         Opera 41.0\n",
      "344                        Chrome 57.3\n",
      "345                  Opera Mobile 25.0\n",
      "346                  Mobile Safari 5.1\n",
      "347                 Chrome Mobile 37.0\n",
      "348                         Firefox 23\n",
      "349                        Chrome 57.7\n",
      "350               Samsung Internet 1.1\n",
      "351                       Chrome 57.21\n",
      "352                           Safari 4\n",
      "353                       Facebook 151\n",
      "354                Yandex Browser 18.1\n",
      "355                          Safari 10\n",
      "356                        Chrome 18.0\n",
      "357                   Chrome Mobile 34\n",
      "358                       Facebook 139\n",
      "359                      BingPreview 1\n",
      "360                         Firefox 28\n",
      "361                       Chrome 53.19\n",
      "362                        Facebook 97\n",
      "363                       Facebook 147\n",
      "364                    UC Browser 10.7\n",
      "365                  Firefox Mobile 57\n",
      "366                      Chromium 63.0\n",
      "Length: 367, dtype: object\n",
      "367\n"
     ]
    }
   ],
   "source": [
    "browser_versions = pd.Series(eventos.browser_version.fillna('').unique())\n",
    "print(browser_versions)\n",
    "print(len(browser_versions))"
   ]
  },
  {
   "cell_type": "code",
   "execution_count": 42,
   "metadata": {},
   "outputs": [
    {
     "name": "stdout",
     "output_type": "stream",
     "text": [
      "Chrome Mobile 66.0\n",
      "Chrome Mobile\n"
     ]
    },
    {
     "data": {
      "text/plain": [
       "'Chrome Mobile'"
      ]
     },
     "execution_count": 42,
     "metadata": {},
     "output_type": "execute_result"
    }
   ],
   "source": [
    "print (browser_versions[1])\n",
    "print (browser_versions[1].rsplit(' ', 1)[0])\n",
    "#eliminarUltimaPalabra(browser_versions[1])\n",
    "browser_versions[1].rsplit(' ', 1)[0]"
   ]
  },
  {
   "cell_type": "code",
   "execution_count": 32,
   "metadata": {},
   "outputs": [],
   "source": [
    "#Son muchos navegadores, pero mayormente cambia la versión utilizada. \n",
    "#Vamos a ver cuantos quedan sacando el número de versión, a ver si tiene sentido para usarlo luego como feature"
   ]
  },
  {
   "cell_type": "code",
   "execution_count": 47,
   "metadata": {},
   "outputs": [
    {
     "name": "stdout",
     "output_type": "stream",
     "text": [
      "31\n"
     ]
    },
    {
     "data": {
      "text/plain": [
       "Chrome                        69\n",
       "Facebook                      55\n",
       "Chrome Mobile                 45\n",
       "Firefox                       38\n",
       "Mobile Safari                 17\n",
       "Opera Mini                    17\n",
       "Samsung Internet              16\n",
       "Safari                        12\n",
       "Opera                         12\n",
       "UC Browser                     9\n",
       "Android                        9\n",
       "Chrome Mobile iOS              8\n",
       "Opera Mobile                   8\n",
       "Chromium                       7\n",
       "Edge                           7\n",
       "Mobile Safari UI/WKWebView     6\n",
       "Firefox Mobile                 6\n",
       "Edge Mobile                    4\n",
       "IE                             3\n",
       "Yandex Browser                 3\n",
       "Puffin                         3\n",
       "Maxthon                        2\n",
       "IE Mobile                      2\n",
       "Vivaldi                        2\n",
       "K-Meleon                       1\n",
       "Pinterest                      1\n",
       "BlackBerry WebKit              1\n",
       "BingPreview                    1\n",
       "Other                          1\n",
       "WebKit Nightly                 1\n",
       "                               1\n",
       "dtype: int64"
      ]
     },
     "execution_count": 47,
     "metadata": {},
     "output_type": "execute_result"
    }
   ],
   "source": [
    "browsers_sin_version = browser_versions.map(lambda x: x.rsplit(' ', 1)[0])\n",
    "print(len(browsers_sin_version.unique()))\n",
    "browsers_sin_version.value_counts()"
   ]
  },
  {
   "cell_type": "code",
   "execution_count": null,
   "metadata": {
    "collapsed": true
   },
   "outputs": [],
   "source": []
  },
  {
   "cell_type": "markdown",
   "metadata": {
    "collapsed": true
   },
   "source": [
    "#### Seguir con feature engeneering, agregando features. Algunas ideas: \n",
    "*    Modelo más consultado\n",
    "*    dividir el mes en 3 o 4 y ver cuantos eventos se generaron en determinadas epocas del mes\n",
    "*    Modelo mas consultado\n",
    "*    color ?\n",
    "*    navegador más usado (capaz ver los 3 o 5 más frecuentes y una columna otros)\n",
    "*    etc"
   ]
  },
  {
   "cell_type": "markdown",
   "metadata": {},
   "source": [
    "## Machine learning\n",
    "#### En principio, usaremos random forest, después vamos viendo"
   ]
  },
  {
   "cell_type": "code",
   "execution_count": 19,
   "metadata": {
    "collapsed": true
   },
   "outputs": [],
   "source": [
    "#Cargamos las bibliotecas para usar y validar Random Forest\n",
    "from sklearn.ensemble import RandomForestClassifier\n",
    "from sklearn.model_selection import cross_val_score"
   ]
  },
  {
   "cell_type": "code",
   "execution_count": 20,
   "metadata": {},
   "outputs": [
    {
     "data": {
      "text/html": [
       "<div>\n",
       "<style scoped>\n",
       "    .dataframe tbody tr th:only-of-type {\n",
       "        vertical-align: middle;\n",
       "    }\n",
       "\n",
       "    .dataframe tbody tr th {\n",
       "        vertical-align: top;\n",
       "    }\n",
       "\n",
       "    .dataframe thead th {\n",
       "        text-align: right;\n",
       "    }\n",
       "</style>\n",
       "<table border=\"1\" class=\"dataframe\">\n",
       "  <thead>\n",
       "    <tr style=\"text-align: right;\">\n",
       "      <th></th>\n",
       "      <th>total ad campaign hit</th>\n",
       "      <th>total brand listing</th>\n",
       "      <th>total checkout</th>\n",
       "      <th>total conversion</th>\n",
       "      <th>total generic listing</th>\n",
       "      <th>total lead</th>\n",
       "      <th>total search engine hit</th>\n",
       "      <th>total searched products</th>\n",
       "      <th>total staticpage</th>\n",
       "      <th>total viewed product</th>\n",
       "      <th>...</th>\n",
       "      <th>total marca iPad</th>\n",
       "      <th>total marca iPhone</th>\n",
       "      <th>total 128GB</th>\n",
       "      <th>total 16GB</th>\n",
       "      <th>total 256GB</th>\n",
       "      <th>total 32GB</th>\n",
       "      <th>total 4GB</th>\n",
       "      <th>total 512MB</th>\n",
       "      <th>total 64GB</th>\n",
       "      <th>total 8GB</th>\n",
       "    </tr>\n",
       "  </thead>\n",
       "  <tbody>\n",
       "    <tr>\n",
       "      <th>0</th>\n",
       "      <td>0.0</td>\n",
       "      <td>0.0</td>\n",
       "      <td>3.0</td>\n",
       "      <td>0.0</td>\n",
       "      <td>1.0</td>\n",
       "      <td>0.0</td>\n",
       "      <td>0.0</td>\n",
       "      <td>0.0</td>\n",
       "      <td>0.0</td>\n",
       "      <td>0.0</td>\n",
       "      <td>...</td>\n",
       "      <td>0.0</td>\n",
       "      <td>1.0</td>\n",
       "      <td>0.0</td>\n",
       "      <td>0.0</td>\n",
       "      <td>0.0</td>\n",
       "      <td>2.0</td>\n",
       "      <td>0.0</td>\n",
       "      <td>0.0</td>\n",
       "      <td>1.0</td>\n",
       "      <td>0.0</td>\n",
       "    </tr>\n",
       "  </tbody>\n",
       "</table>\n",
       "<p>1 rows × 46 columns</p>\n",
       "</div>"
      ],
      "text/plain": [
       "   total ad campaign hit  total brand listing  total checkout  \\\n",
       "0                    0.0                  0.0             3.0   \n",
       "\n",
       "   total conversion  total generic listing  total lead  \\\n",
       "0               0.0                    1.0         0.0   \n",
       "\n",
       "   total search engine hit  total searched products  total staticpage  \\\n",
       "0                      0.0                      0.0               0.0   \n",
       "\n",
       "   total viewed product    ...      total marca iPad  total marca iPhone  \\\n",
       "0                   0.0    ...                   0.0                 1.0   \n",
       "\n",
       "   total 128GB  total 16GB  total 256GB  total 32GB  total 4GB  total 512MB  \\\n",
       "0          0.0         0.0          0.0         2.0        0.0          0.0   \n",
       "\n",
       "   total 64GB  total 8GB  \n",
       "0         1.0        0.0  \n",
       "\n",
       "[1 rows x 46 columns]"
      ]
     },
     "execution_count": 20,
     "metadata": {},
     "output_type": "execute_result"
    }
   ],
   "source": [
    "#Reemplazo NaNs por ceros\n",
    "clientesGrp = clientesGrp.fillna(0)\n",
    "\n",
    "#Cargamos X e y para trabajar con Random Forest.\n",
    "X = pd.merge(clientesGrp,etiquetas,on='person')\n",
    "X.drop(\"person\", axis=1, inplace=True)\n",
    "X = X.fillna(0)\n",
    "y = X.pop(\"label\")\n",
    "X.head(1)"
   ]
  },
  {
   "cell_type": "code",
   "execution_count": 21,
   "metadata": {
    "collapsed": true
   },
   "outputs": [],
   "source": [
    "'''Tomamos \"prestada\" una función para presentar prolijamente los n features más importantes.\n",
    "La función (entre otras cosas) fue tomada casi literal de:\n",
    "https://github.com/Featuretools/predict-next-purchase/blob/master/utils.py\n",
    "'''\n",
    "def feature_importances(model, features, n=10):\n",
    "    importances = model.feature_importances_\n",
    "    zipped = sorted(zip(features, importances), key=lambda x: -x[1])\n",
    "    for i, f in enumerate(zipped[:n]):\n",
    "        print(\"%d: Feature: %s, %.3f\" % (i+1, f[0], f[1]))\n",
    "\n",
    "    return [f[0] for f in zipped[:n]]"
   ]
  },
  {
   "cell_type": "code",
   "execution_count": 22,
   "metadata": {},
   "outputs": [],
   "source": [
    "clf = RandomForestClassifier(bootstrap=True, class_weight=None, criterion='gini',\n",
    "            max_depth=None, max_features='auto', max_leaf_nodes=None,\n",
    "            min_samples_leaf=1, min_samples_split=2,\n",
    "            min_weight_fraction_leaf=0.0, n_estimators=400, n_jobs=1,\n",
    "            oob_score=False, random_state=None, verbose=0,\n",
    "            warm_start=False)\n",
    "#Otra version:\n",
    "#clf = RandomForestClassifier(n_estimators=400, n_jobs=-1)"
   ]
  },
  {
   "cell_type": "code",
   "execution_count": 23,
   "metadata": {},
   "outputs": [
    {
     "name": "stderr",
     "output_type": "stream",
     "text": [
      "[Parallel(n_jobs=1)]: Done   3 out of   3 | elapsed:   55.1s finished\n"
     ]
    },
    {
     "data": {
      "text/plain": [
       "'AUC 0.83 +/- 0.01'"
      ]
     },
     "execution_count": 23,
     "metadata": {},
     "output_type": "execute_result"
    }
   ],
   "source": [
    "#Probamos qué tan bien viene clasificando nuestro modelo\n",
    "\n",
    "scores = cross_val_score(estimator=clf,X=X, y=y, cv=3,\n",
    "                         scoring=\"roc_auc\", verbose=True)\n",
    "\n",
    "\"AUC %.2f +/- %.2f\" % (scores.mean(), scores.std())"
   ]
  },
  {
   "cell_type": "code",
   "execution_count": 24,
   "metadata": {},
   "outputs": [
    {
     "name": "stdout",
     "output_type": "stream",
     "text": [
      "1: Feature: total_mayo, 0.054\n",
      "2: Feature: promedio checkout, 0.054\n",
      "3: Feature: promedio viewed product, 0.046\n",
      "4: Feature: promedio visited site, 0.045\n",
      "5: Feature: promedio generic listing, 0.041\n",
      "6: Feature: total checkout, 0.040\n",
      "7: Feature: promedio search engine hit, 0.040\n",
      "8: Feature: total viewed product, 0.039\n",
      "9: Feature: promedio ad campaign hit, 0.039\n",
      "10: Feature: promedio brand listing, 0.037\n",
      "11: Feature: total 16GB, 0.036\n",
      "12: Feature: total marca Samsung, 0.035\n",
      "13: Feature: total 32GB, 0.034\n",
      "14: Feature: total marca iPhone, 0.032\n",
      "15: Feature: total brand listing, 0.028\n"
     ]
    }
   ],
   "source": [
    "#Vemos cuales fueron los 15 features más relevantes\n",
    "clf.fit(X,y)\n",
    "top_features = feature_importances(clf, X.columns, n=15)"
   ]
  },
  {
   "cell_type": "code",
   "execution_count": 25,
   "metadata": {},
   "outputs": [
    {
     "data": {
      "text/html": [
       "<div>\n",
       "<style scoped>\n",
       "    .dataframe tbody tr th:only-of-type {\n",
       "        vertical-align: middle;\n",
       "    }\n",
       "\n",
       "    .dataframe tbody tr th {\n",
       "        vertical-align: top;\n",
       "    }\n",
       "\n",
       "    .dataframe thead th {\n",
       "        text-align: right;\n",
       "    }\n",
       "</style>\n",
       "<table border=\"1\" class=\"dataframe\">\n",
       "  <thead>\n",
       "    <tr style=\"text-align: right;\">\n",
       "      <th></th>\n",
       "      <th>total_mayo</th>\n",
       "      <th>promedio checkout</th>\n",
       "      <th>promedio viewed product</th>\n",
       "      <th>promedio visited site</th>\n",
       "      <th>promedio generic listing</th>\n",
       "      <th>total checkout</th>\n",
       "      <th>promedio search engine hit</th>\n",
       "      <th>total viewed product</th>\n",
       "      <th>promedio ad campaign hit</th>\n",
       "      <th>promedio brand listing</th>\n",
       "      <th>total 16GB</th>\n",
       "      <th>total marca Samsung</th>\n",
       "      <th>total 32GB</th>\n",
       "      <th>total marca iPhone</th>\n",
       "      <th>total brand listing</th>\n",
       "    </tr>\n",
       "  </thead>\n",
       "  <tbody>\n",
       "    <tr>\n",
       "      <th>0</th>\n",
       "      <td>6.0</td>\n",
       "      <td>0.500000</td>\n",
       "      <td>0.000000</td>\n",
       "      <td>0.333333</td>\n",
       "      <td>0.166667</td>\n",
       "      <td>3.0</td>\n",
       "      <td>0.000000</td>\n",
       "      <td>0.0</td>\n",
       "      <td>0.000000</td>\n",
       "      <td>0.0</td>\n",
       "      <td>0.0</td>\n",
       "      <td>1.0</td>\n",
       "      <td>2.0</td>\n",
       "      <td>1.0</td>\n",
       "      <td>0.0</td>\n",
       "    </tr>\n",
       "    <tr>\n",
       "      <th>1</th>\n",
       "      <td>17.0</td>\n",
       "      <td>0.058824</td>\n",
       "      <td>0.176471</td>\n",
       "      <td>0.058824</td>\n",
       "      <td>0.058824</td>\n",
       "      <td>1.0</td>\n",
       "      <td>0.058824</td>\n",
       "      <td>3.0</td>\n",
       "      <td>0.058824</td>\n",
       "      <td>0.0</td>\n",
       "      <td>0.0</td>\n",
       "      <td>0.0</td>\n",
       "      <td>0.0</td>\n",
       "      <td>4.0</td>\n",
       "      <td>0.0</td>\n",
       "    </tr>\n",
       "  </tbody>\n",
       "</table>\n",
       "</div>"
      ],
      "text/plain": [
       "   total_mayo  promedio checkout  promedio viewed product  \\\n",
       "0         6.0           0.500000                 0.000000   \n",
       "1        17.0           0.058824                 0.176471   \n",
       "\n",
       "   promedio visited site  promedio generic listing  total checkout  \\\n",
       "0               0.333333                  0.166667             3.0   \n",
       "1               0.058824                  0.058824             1.0   \n",
       "\n",
       "   promedio search engine hit  total viewed product  promedio ad campaign hit  \\\n",
       "0                    0.000000                   0.0                  0.000000   \n",
       "1                    0.058824                   3.0                  0.058824   \n",
       "\n",
       "   promedio brand listing  total 16GB  total marca Samsung  total 32GB  \\\n",
       "0                     0.0         0.0                  1.0         2.0   \n",
       "1                     0.0         0.0                  0.0         0.0   \n",
       "\n",
       "   total marca iPhone  total brand listing  \n",
       "0                 1.0                  0.0  \n",
       "1                 4.0                  0.0  "
      ]
     },
     "execution_count": 25,
     "metadata": {},
     "output_type": "execute_result"
    }
   ],
   "source": [
    "#vemos cómo quedaría una pequeña muestra de la matriz de features con los más relevantes\n",
    "X.loc[:,top_features].head(2)"
   ]
  },
  {
   "cell_type": "code",
   "execution_count": 26,
   "metadata": {},
   "outputs": [
    {
     "name": "stderr",
     "output_type": "stream",
     "text": [
      "[Parallel(n_jobs=1)]: Done   3 out of   3 | elapsed:   43.3s finished\n"
     ]
    },
    {
     "data": {
      "text/plain": [
       "'AUC 0.81 +/- 0.02'"
      ]
     },
     "execution_count": 26,
     "metadata": {},
     "output_type": "execute_result"
    }
   ],
   "source": [
    "#Pruebo de nuevo los random forest con los resultados obtenidos de mejores clasificadores\n",
    "X_reducido = X.loc[:,top_features]\n",
    "scores = cross_val_score(estimator=clf,X=X_reducido, y=y, cv=3,\n",
    "                         scoring=\"roc_auc\", verbose=True)\n",
    "\n",
    "\"AUC %.2f +/- %.2f\" % (scores.mean(), scores.std())"
   ]
  },
  {
   "cell_type": "markdown",
   "metadata": {},
   "source": [
    "#### Con los features más relevantes aproxima mas o menos igual que con todos juntos"
   ]
  },
  {
   "cell_type": "code",
   "execution_count": 27,
   "metadata": {},
   "outputs": [
    {
     "name": "stdout",
     "output_type": "stream",
     "text": [
      "total del set de entrenamiento que convirtieron: 980\n",
      "total del set de entrenamiento que predice que convertirán: 988\n"
     ]
    }
   ],
   "source": [
    "#Prueba con los mismos datos de entrenamientos, a ver cuantos predice que convirtieron en los siguientes 15 días\n",
    "clf.fit(X,y)\n",
    "prediccionTest = clf.predict(X=clientesGrp.drop('person', axis=1))\n",
    "print('total del set de entrenamiento que convirtieron:', etiquetas['label'].sum())\n",
    "print('total del set de entrenamiento que predice que convertirán:',pd.Series(prediccionTest).sum())"
   ]
  },
  {
   "cell_type": "markdown",
   "metadata": {},
   "source": [
    "## Traemos los id de clientes que necesitamos clasificar"
   ]
  },
  {
   "cell_type": "code",
   "execution_count": 28,
   "metadata": {},
   "outputs": [
    {
     "name": "stdout",
     "output_type": "stream",
     "text": [
      "19415\n"
     ]
    },
    {
     "data": {
      "text/html": [
       "<div>\n",
       "<style scoped>\n",
       "    .dataframe tbody tr th:only-of-type {\n",
       "        vertical-align: middle;\n",
       "    }\n",
       "\n",
       "    .dataframe tbody tr th {\n",
       "        vertical-align: top;\n",
       "    }\n",
       "\n",
       "    .dataframe thead th {\n",
       "        text-align: right;\n",
       "    }\n",
       "</style>\n",
       "<table border=\"1\" class=\"dataframe\">\n",
       "  <thead>\n",
       "    <tr style=\"text-align: right;\">\n",
       "      <th></th>\n",
       "      <th>person</th>\n",
       "    </tr>\n",
       "  </thead>\n",
       "  <tbody>\n",
       "    <tr>\n",
       "      <th>0</th>\n",
       "      <td>4886f805</td>\n",
       "    </tr>\n",
       "    <tr>\n",
       "      <th>1</th>\n",
       "      <td>0297fc1e</td>\n",
       "    </tr>\n",
       "  </tbody>\n",
       "</table>\n",
       "</div>"
      ],
      "text/plain": [
       "     person\n",
       "0  4886f805\n",
       "1  0297fc1e"
      ]
     },
     "execution_count": 28,
     "metadata": {},
     "output_type": "execute_result"
    }
   ],
   "source": [
    "clientesAEvaluar = pd.read_csv('../TP2018/fiuba-trocafone-tp2-final-set/trocafone_kaggle_test.csv')\n",
    "print(len(clientesAEvaluar))\n",
    "clientesAEvaluar.head(2)"
   ]
  },
  {
   "cell_type": "code",
   "execution_count": 29,
   "metadata": {},
   "outputs": [
    {
     "name": "stdout",
     "output_type": "stream",
     "text": [
      "cantidad de datos: 19415\n"
     ]
    },
    {
     "data": {
      "text/html": [
       "<div>\n",
       "<style scoped>\n",
       "    .dataframe tbody tr th:only-of-type {\n",
       "        vertical-align: middle;\n",
       "    }\n",
       "\n",
       "    .dataframe tbody tr th {\n",
       "        vertical-align: top;\n",
       "    }\n",
       "\n",
       "    .dataframe thead th {\n",
       "        text-align: right;\n",
       "    }\n",
       "</style>\n",
       "<table border=\"1\" class=\"dataframe\">\n",
       "  <thead>\n",
       "    <tr style=\"text-align: right;\">\n",
       "      <th></th>\n",
       "      <th>person</th>\n",
       "      <th>total ad campaign hit</th>\n",
       "      <th>total brand listing</th>\n",
       "      <th>total checkout</th>\n",
       "      <th>total conversion</th>\n",
       "      <th>total generic listing</th>\n",
       "      <th>total lead</th>\n",
       "      <th>total search engine hit</th>\n",
       "      <th>total searched products</th>\n",
       "      <th>total staticpage</th>\n",
       "      <th>...</th>\n",
       "      <th>total marca iPad</th>\n",
       "      <th>total marca iPhone</th>\n",
       "      <th>total 128GB</th>\n",
       "      <th>total 16GB</th>\n",
       "      <th>total 256GB</th>\n",
       "      <th>total 32GB</th>\n",
       "      <th>total 4GB</th>\n",
       "      <th>total 512MB</th>\n",
       "      <th>total 64GB</th>\n",
       "      <th>total 8GB</th>\n",
       "    </tr>\n",
       "  </thead>\n",
       "  <tbody>\n",
       "    <tr>\n",
       "      <th>0</th>\n",
       "      <td>4886f805</td>\n",
       "      <td>0.0</td>\n",
       "      <td>0.0</td>\n",
       "      <td>1.0</td>\n",
       "      <td>0.0</td>\n",
       "      <td>1.0</td>\n",
       "      <td>0.0</td>\n",
       "      <td>1.0</td>\n",
       "      <td>1.0</td>\n",
       "      <td>0.0</td>\n",
       "      <td>...</td>\n",
       "      <td>0.0</td>\n",
       "      <td>0.0</td>\n",
       "      <td>0.0</td>\n",
       "      <td>0.0</td>\n",
       "      <td>0.0</td>\n",
       "      <td>5.0</td>\n",
       "      <td>0.0</td>\n",
       "      <td>0.0</td>\n",
       "      <td>0.0</td>\n",
       "      <td>0.0</td>\n",
       "    </tr>\n",
       "    <tr>\n",
       "      <th>1</th>\n",
       "      <td>0297fc1e</td>\n",
       "      <td>29.0</td>\n",
       "      <td>4.0</td>\n",
       "      <td>7.0</td>\n",
       "      <td>0.0</td>\n",
       "      <td>21.0</td>\n",
       "      <td>1.0</td>\n",
       "      <td>0.0</td>\n",
       "      <td>6.0</td>\n",
       "      <td>0.0</td>\n",
       "      <td>...</td>\n",
       "      <td>5.0</td>\n",
       "      <td>405.0</td>\n",
       "      <td>50.0</td>\n",
       "      <td>128.0</td>\n",
       "      <td>6.0</td>\n",
       "      <td>34.0</td>\n",
       "      <td>0.0</td>\n",
       "      <td>0.0</td>\n",
       "      <td>193.0</td>\n",
       "      <td>0.0</td>\n",
       "    </tr>\n",
       "  </tbody>\n",
       "</table>\n",
       "<p>2 rows × 47 columns</p>\n",
       "</div>"
      ],
      "text/plain": [
       "     person  total ad campaign hit  total brand listing  total checkout  \\\n",
       "0  4886f805                    0.0                  0.0             1.0   \n",
       "1  0297fc1e                   29.0                  4.0             7.0   \n",
       "\n",
       "   total conversion  total generic listing  total lead  \\\n",
       "0               0.0                    1.0         0.0   \n",
       "1               0.0                   21.0         1.0   \n",
       "\n",
       "   total search engine hit  total searched products  total staticpage  \\\n",
       "0                      1.0                      1.0               0.0   \n",
       "1                      0.0                      6.0               0.0   \n",
       "\n",
       "     ...      total marca iPad  total marca iPhone  total 128GB  total 16GB  \\\n",
       "0    ...                   0.0                 0.0          0.0         0.0   \n",
       "1    ...                   5.0               405.0         50.0       128.0   \n",
       "\n",
       "   total 256GB  total 32GB  total 4GB  total 512MB  total 64GB  total 8GB  \n",
       "0          0.0         5.0        0.0          0.0         0.0        0.0  \n",
       "1          6.0        34.0        0.0          0.0       193.0        0.0  \n",
       "\n",
       "[2 rows x 47 columns]"
      ]
     },
     "execution_count": 29,
     "metadata": {},
     "output_type": "execute_result"
    }
   ],
   "source": [
    "datosTest = clientesAEvaluar.merge(clientesGrp, on='person',how='inner')\n",
    "print('cantidad de datos:',len(datosTest))\n",
    "datosTest.head(2)"
   ]
  },
  {
   "cell_type": "code",
   "execution_count": 30,
   "metadata": {},
   "outputs": [
    {
     "name": "stdout",
     "output_type": "stream",
     "text": [
      "cantidad de personas en total: 38829\n",
      "cantidad de personas para training: 19414\n",
      "cantidad de personas para evaluar: 19415\n",
      "cantidad de personas en clientes agrupados: 38829\n"
     ]
    }
   ],
   "source": [
    "#Verifico que no se hayan \"perdido\" filas en el camino (un merge mal definido capaz?)\n",
    "print('cantidad de personas en total:',len(eventos['person'].unique()))\n",
    "print('cantidad de personas para training:',len(etiquetas))\n",
    "print('cantidad de personas para evaluar:',len(clientesAEvaluar))\n",
    "print('cantidad de personas en clientes agrupados:',len(clientesGrp))"
   ]
  },
  {
   "cell_type": "code",
   "execution_count": 31,
   "metadata": {
    "collapsed": true
   },
   "outputs": [],
   "source": [
    "'''Se toma una configuración de random forest encontrada en:\n",
    "https://www.datacamp.com/community/tutorials/random-forests-classifier-python\n",
    "clf = RandomForestClassifier(bootstrap=True, class_weight=None, criterion='gini',\n",
    "            max_depth=None, max_features='auto', max_leaf_nodes=None,\n",
    "            min_samples_leaf=1, min_samples_split=2,\n",
    "            min_weight_fraction_leaf=0.0, n_estimators=100, n_jobs=1,\n",
    "            oob_score=False, random_state=None, verbose=0,\n",
    "            warm_start=False)'''\n",
    "\n",
    "clf.fit(X,y)\n",
    "prediccionProbabilistica = clf.predict_proba(X=datosTest.drop('person', axis=1).fillna(0))"
   ]
  },
  {
   "cell_type": "code",
   "execution_count": 32,
   "metadata": {},
   "outputs": [
    {
     "name": "stdout",
     "output_type": "stream",
     "text": [
      "3745\tclientes con p > 0.10 de convertir\n",
      "1620\tclientes con p > 0.20 de convertir\n",
      "541\tclientes con p > 0.30 de convertir\n",
      "162\tclientes con p > 0.40 de convertir\n",
      "45\tclientes con p > 0.50 de convertir\n"
     ]
    }
   ],
   "source": [
    "for i in range(1,6):\n",
    "    print('%d\\tclientes con p > %.2f de convertir' % ((prediccionProbabilistica[:,[1]] > i/10).sum(),i/10))"
   ]
  },
  {
   "cell_type": "code",
   "execution_count": 33,
   "metadata": {},
   "outputs": [
    {
     "data": {
      "text/html": [
       "<div>\n",
       "<style scoped>\n",
       "    .dataframe tbody tr th:only-of-type {\n",
       "        vertical-align: middle;\n",
       "    }\n",
       "\n",
       "    .dataframe tbody tr th {\n",
       "        vertical-align: top;\n",
       "    }\n",
       "\n",
       "    .dataframe thead th {\n",
       "        text-align: right;\n",
       "    }\n",
       "</style>\n",
       "<table border=\"1\" class=\"dataframe\">\n",
       "  <thead>\n",
       "    <tr style=\"text-align: right;\">\n",
       "      <th></th>\n",
       "      <th>person</th>\n",
       "      <th>label</th>\n",
       "    </tr>\n",
       "  </thead>\n",
       "  <tbody>\n",
       "    <tr>\n",
       "      <th>0</th>\n",
       "      <td>4886f805</td>\n",
       "      <td>0.000</td>\n",
       "    </tr>\n",
       "    <tr>\n",
       "      <th>1</th>\n",
       "      <td>0297fc1e</td>\n",
       "      <td>0.145</td>\n",
       "    </tr>\n",
       "    <tr>\n",
       "      <th>2</th>\n",
       "      <td>2d681dd8</td>\n",
       "      <td>0.010</td>\n",
       "    </tr>\n",
       "    <tr>\n",
       "      <th>3</th>\n",
       "      <td>cccea85e</td>\n",
       "      <td>0.140</td>\n",
       "    </tr>\n",
       "    <tr>\n",
       "      <th>4</th>\n",
       "      <td>4c8a8b93</td>\n",
       "      <td>0.020</td>\n",
       "    </tr>\n",
       "  </tbody>\n",
       "</table>\n",
       "</div>"
      ],
      "text/plain": [
       "     person  label\n",
       "0  4886f805  0.000\n",
       "1  0297fc1e  0.145\n",
       "2  2d681dd8  0.010\n",
       "3  cccea85e  0.140\n",
       "4  4c8a8b93  0.020"
      ]
     },
     "execution_count": 33,
     "metadata": {},
     "output_type": "execute_result"
    }
   ],
   "source": [
    "clientesAEvaluar['label'] = prediccionProbabilistica[:,[1]]\n",
    "clientesAEvaluar.head()"
   ]
  },
  {
   "cell_type": "code",
   "execution_count": 66,
   "metadata": {
    "collapsed": true
   },
   "outputs": [],
   "source": [
    "#Exportamos el archivo a subir. De esta manera tiene el formato correcto. \n",
    "#Notar que así lo deja en el directorio de la notebook\n",
    "clientesAEvaluar.to_csv('entrega_3.csv',index=False)"
   ]
  },
  {
   "cell_type": "markdown",
   "metadata": {},
   "source": [
    "### Con Random Forest obtuvimos unos resultados modestos.\n",
    "#### Usando la suma de eventos, los eventos normalizados, las marcas, los meses y los almacenamientos, obtuvimos un 0.80894, habrá que probar de nuevo cambiando cosas. Ahora probar otra técnica, a ver si da algo más razonable"
   ]
  },
  {
   "cell_type": "code",
   "execution_count": 35,
   "metadata": {
    "collapsed": true
   },
   "outputs": [],
   "source": [
    "#Probaremos con SVM. Vamos importando las bibliotecas\n",
    "\n",
    "#Para preparar sets de entrenamiento y prueba\n",
    "from sklearn.model_selection import train_test_split  \n",
    "\n",
    "#Traemos la bibliotecas de SVC. SVC es por SVM para clasificación\n",
    "from sklearn.svm import SVC \n",
    "\n",
    "#Nos traemos una biblioteca para medir la performance\n",
    "from sklearn.metrics import classification_report, confusion_matrix  "
   ]
  },
  {
   "cell_type": "code",
   "execution_count": 36,
   "metadata": {},
   "outputs": [],
   "source": [
    "#Probaremos SVM\n",
    "'''Ya X e y completas las tenemos cargadas de cuando probamos RandomForests.\n",
    "Pero como SVM tarda una eternidad por ser de orden  O = (n features * n2 samples)\n",
    "tomamos los features que Random Forest nos marcó como más importantes\n",
    "'''\n",
    "\n",
    "#Preparamos los sets de entrenamiento y prueba\n",
    "#(https://stackabuse.com/implementing-svm-and-kernel-svm-with-pythons-scikit-learn/)\n",
    "X_train, X_test, y_train, y_test = train_test_split(X_reducido, y, test_size = 0.20)  "
   ]
  },
  {
   "cell_type": "code",
   "execution_count": null,
   "metadata": {
    "collapsed": true
   },
   "outputs": [],
   "source": [
    "#Empieza el entrenamiento \n",
    "svclassifier = SVC(kernel='linear')  \n",
    "%timeit svclassifier.fit(X_train, y_train)  "
   ]
  },
  {
   "cell_type": "code",
   "execution_count": null,
   "metadata": {
    "collapsed": true
   },
   "outputs": [],
   "source": [
    "#Ahora hacemos una predicción y vemos cómo viene andando\n",
    "y_pred = svclassifier.predict(X_test)  \n",
    "print(confusion_matrix(y_test,y_pred))  \n",
    "print(classification_report(y_test,y_pred))  "
   ]
  },
  {
   "cell_type": "code",
   "execution_count": null,
   "metadata": {
    "collapsed": true
   },
   "outputs": [],
   "source": []
  },
  {
   "cell_type": "code",
   "execution_count": null,
   "metadata": {
    "collapsed": true
   },
   "outputs": [],
   "source": []
  },
  {
   "cell_type": "markdown",
   "metadata": {},
   "source": [
    "### Algunos análisis que hicimos por problemas de performance, comprobando lo que tanto nos comentaron del apply"
   ]
  },
  {
   "cell_type": "code",
   "execution_count": 15,
   "metadata": {},
   "outputs": [
    {
     "name": "stdout",
     "output_type": "stream",
     "text": [
      "10 loops, best of 3: 51.2 ms per loop\n"
     ]
    }
   ],
   "source": [
    "%timeit eventos['timestamp_dt'] =  pd.to_datetime(eventos['timestamp'])"
   ]
  },
  {
   "cell_type": "code",
   "execution_count": 12,
   "metadata": {},
   "outputs": [
    {
     "name": "stdout",
     "output_type": "stream",
     "text": [
      "The slowest run took 62.21 times longer than the fastest. This could mean that an intermediate result is being cached.\n",
      "1 loop, best of 3: 18.8 ms per loop\n"
     ]
    }
   ],
   "source": [
    "%timeit eventos['timestamp'] =  pd.to_datetime(eventos['timestamp'])"
   ]
  },
  {
   "cell_type": "code",
   "execution_count": 14,
   "metadata": {},
   "outputs": [
    {
     "name": "stdout",
     "output_type": "stream",
     "text": [
      "1 loop, best of 3: 8.62 s per loop\n"
     ]
    }
   ],
   "source": [
    "%timeit eventos[['marca','modelo']] = eventos['model'].dropna().str.split(' ',n=1,expand=True)"
   ]
  },
  {
   "cell_type": "code",
   "execution_count": 16,
   "metadata": {},
   "outputs": [
    {
     "name": "stdout",
     "output_type": "stream",
     "text": [
      "1 loop, best of 3: 1min 18s per loop\n"
     ]
    }
   ],
   "source": [
    "%timeit eventos['weekday']=eventos['timestamp_dt'].apply(lambda x: x.day_name())"
   ]
  },
  {
   "cell_type": "code",
   "execution_count": 17,
   "metadata": {},
   "outputs": [
    {
     "name": "stdout",
     "output_type": "stream",
     "text": [
      "1 loop, best of 3: 1.21 s per loop\n"
     ]
    }
   ],
   "source": [
    "%timeit eventos['weekday_2']=eventos['timestamp_dt'].dt.day_name()"
   ]
  },
  {
   "cell_type": "code",
   "execution_count": 18,
   "metadata": {},
   "outputs": [
    {
     "name": "stdout",
     "output_type": "stream",
     "text": [
      "0    Friday\n",
      "1    Friday\n",
      "2    Friday\n",
      "3    Friday\n",
      "4    Friday\n",
      "Name: weekday, dtype: object\n",
      "0    Friday\n",
      "1    Friday\n",
      "2    Friday\n",
      "3    Friday\n",
      "4    Friday\n",
      "Name: weekday_2, dtype: object\n"
     ]
    }
   ],
   "source": [
    "#vemos si de una y otra forma obtenemos los mismos resultados\n",
    "print(eventos['weekday'].head())\n",
    "print(eventos['weekday_2'].head())"
   ]
  },
  {
   "cell_type": "markdown",
   "metadata": {},
   "source": [
    "### Cosas a descartar pero que capaz nos de alguna idea de cómo separar los sets de datos"
   ]
  },
  {
   "cell_type": "code",
   "execution_count": 11,
   "metadata": {
    "collapsed": true
   },
   "outputs": [],
   "source": [
    "#Nos quedamos con los eventos de los que tenemos idea de si convirtieron luego\n",
    "eventosConocidos = eventos.loc[eventos['person'].isin(etiquetas['person'])]"
   ]
  },
  {
   "cell_type": "code",
   "execution_count": 22,
   "metadata": {},
   "outputs": [
    {
     "data": {
      "text/html": [
       "<div>\n",
       "<style scoped>\n",
       "    .dataframe tbody tr th:only-of-type {\n",
       "        vertical-align: middle;\n",
       "    }\n",
       "\n",
       "    .dataframe tbody tr th {\n",
       "        vertical-align: top;\n",
       "    }\n",
       "\n",
       "    .dataframe thead th {\n",
       "        text-align: right;\n",
       "    }\n",
       "</style>\n",
       "<table border=\"1\" class=\"dataframe\">\n",
       "  <thead>\n",
       "    <tr style=\"text-align: right;\">\n",
       "      <th></th>\n",
       "      <th>timestamp</th>\n",
       "      <th>event</th>\n",
       "      <th>person</th>\n",
       "      <th>url</th>\n",
       "      <th>sku</th>\n",
       "      <th>model</th>\n",
       "      <th>condition</th>\n",
       "      <th>storage</th>\n",
       "      <th>color</th>\n",
       "      <th>skus</th>\n",
       "      <th>...</th>\n",
       "      <th>search_engine</th>\n",
       "      <th>channel</th>\n",
       "      <th>new_vs_returning</th>\n",
       "      <th>city</th>\n",
       "      <th>region</th>\n",
       "      <th>country</th>\n",
       "      <th>device_type</th>\n",
       "      <th>screen_resolution</th>\n",
       "      <th>operating_system_version</th>\n",
       "      <th>browser_version</th>\n",
       "    </tr>\n",
       "  </thead>\n",
       "  <tbody>\n",
       "    <tr>\n",
       "      <th>count</th>\n",
       "      <td>1171886</td>\n",
       "      <td>1171886</td>\n",
       "      <td>1171886</td>\n",
       "      <td>94875</td>\n",
       "      <td>665336</td>\n",
       "      <td>665767</td>\n",
       "      <td>665336</td>\n",
       "      <td>665336</td>\n",
       "      <td>665336</td>\n",
       "      <td>249587</td>\n",
       "      <td>...</td>\n",
       "      <td>52829</td>\n",
       "      <td>102299</td>\n",
       "      <td>102299</td>\n",
       "      <td>102299</td>\n",
       "      <td>102299</td>\n",
       "      <td>102299</td>\n",
       "      <td>102299</td>\n",
       "      <td>102297</td>\n",
       "      <td>102299</td>\n",
       "      <td>102299</td>\n",
       "    </tr>\n",
       "    <tr>\n",
       "      <th>unique</th>\n",
       "      <td>857447</td>\n",
       "      <td>11</td>\n",
       "      <td>19414</td>\n",
       "      <td>236</td>\n",
       "      <td>3405</td>\n",
       "      <td>198</td>\n",
       "      <td>5</td>\n",
       "      <td>8</td>\n",
       "      <td>63</td>\n",
       "      <td>34843</td>\n",
       "      <td>...</td>\n",
       "      <td>4</td>\n",
       "      <td>7</td>\n",
       "      <td>2</td>\n",
       "      <td>1854</td>\n",
       "      <td>84</td>\n",
       "      <td>39</td>\n",
       "      <td>4</td>\n",
       "      <td>285</td>\n",
       "      <td>107</td>\n",
       "      <td>308</td>\n",
       "    </tr>\n",
       "    <tr>\n",
       "      <th>top</th>\n",
       "      <td>2018-05-31 00:50:28</td>\n",
       "      <td>viewed product</td>\n",
       "      <td>ffee0f18</td>\n",
       "      <td>/</td>\n",
       "      <td>2830.0</td>\n",
       "      <td>iPhone 6</td>\n",
       "      <td>Bom</td>\n",
       "      <td>16GB</td>\n",
       "      <td>Preto</td>\n",
       "      <td>2820,6706,6720,2750,6649,7251,6663,12604,7224,...</td>\n",
       "      <td>...</td>\n",
       "      <td>Google</td>\n",
       "      <td>Paid</td>\n",
       "      <td>Returning</td>\n",
       "      <td>Unknown</td>\n",
       "      <td>Sao Paulo</td>\n",
       "      <td>Brazil</td>\n",
       "      <td>Smartphone</td>\n",
       "      <td>360x640</td>\n",
       "      <td>Windows 7</td>\n",
       "      <td>Chrome 66.0</td>\n",
       "    </tr>\n",
       "    <tr>\n",
       "      <th>freq</th>\n",
       "      <td>11</td>\n",
       "      <td>629233</td>\n",
       "      <td>3458</td>\n",
       "      <td>31753</td>\n",
       "      <td>4044</td>\n",
       "      <td>52268</td>\n",
       "      <td>275492</td>\n",
       "      <td>222134</td>\n",
       "      <td>160397</td>\n",
       "      <td>1338</td>\n",
       "      <td>...</td>\n",
       "      <td>52242</td>\n",
       "      <td>45632</td>\n",
       "      <td>83173</td>\n",
       "      <td>18569</td>\n",
       "      <td>28597</td>\n",
       "      <td>99160</td>\n",
       "      <td>53171</td>\n",
       "      <td>37827</td>\n",
       "      <td>22613</td>\n",
       "      <td>28256</td>\n",
       "    </tr>\n",
       "  </tbody>\n",
       "</table>\n",
       "<p>4 rows × 23 columns</p>\n",
       "</div>"
      ],
      "text/plain": [
       "                  timestamp           event    person    url     sku  \\\n",
       "count               1171886         1171886   1171886  94875  665336   \n",
       "unique               857447              11     19414    236    3405   \n",
       "top     2018-05-31 00:50:28  viewed product  ffee0f18      /  2830.0   \n",
       "freq                     11          629233      3458  31753    4044   \n",
       "\n",
       "           model condition storage   color  \\\n",
       "count     665767    665336  665336  665336   \n",
       "unique       198         5       8      63   \n",
       "top     iPhone 6       Bom    16GB   Preto   \n",
       "freq       52268    275492  222134  160397   \n",
       "\n",
       "                                                     skus       ...        \\\n",
       "count                                              249587       ...         \n",
       "unique                                              34843       ...         \n",
       "top     2820,6706,6720,2750,6649,7251,6663,12604,7224,...       ...         \n",
       "freq                                                 1338       ...         \n",
       "\n",
       "       search_engine channel new_vs_returning     city     region country  \\\n",
       "count          52829  102299           102299   102299     102299  102299   \n",
       "unique             4       7                2     1854         84      39   \n",
       "top           Google    Paid        Returning  Unknown  Sao Paulo  Brazil   \n",
       "freq           52242   45632            83173    18569      28597   99160   \n",
       "\n",
       "       device_type screen_resolution operating_system_version browser_version  \n",
       "count       102299            102297                   102299          102299  \n",
       "unique           4               285                      107             308  \n",
       "top     Smartphone           360x640               Windows 7      Chrome 66.0  \n",
       "freq         53171             37827                    22613           28256  \n",
       "\n",
       "[4 rows x 23 columns]"
      ]
     },
     "execution_count": 22,
     "metadata": {},
     "output_type": "execute_result"
    }
   ],
   "source": [
    "eventosConocidos.describe()"
   ]
  },
  {
   "cell_type": "code",
   "execution_count": 18,
   "metadata": {},
   "outputs": [
    {
     "data": {
      "text/plain": [
       "1171886"
      ]
     },
     "execution_count": 18,
     "metadata": {},
     "output_type": "execute_result"
    }
   ],
   "source": [
    "len(eventosConocidos['event'] == 'viewed product')"
   ]
  },
  {
   "cell_type": "code",
   "execution_count": 12,
   "metadata": {},
   "outputs": [
    {
     "data": {
      "text/plain": [
       "viewed product       629233\n",
       "brand listing        105993\n",
       "visited site         102299\n",
       "ad campaign hit       94998\n",
       "generic listing       80453\n",
       "searched products     63887\n",
       "search engine hit     52829\n",
       "checkout              32539\n",
       "staticpage             5660\n",
       "conversion             3564\n",
       "lead                    431\n",
       "Name: event, dtype: int64"
      ]
     },
     "execution_count": 12,
     "metadata": {},
     "output_type": "execute_result"
    }
   ],
   "source": [
    "eventosConocidos['event'].value_counts()"
   ]
  },
  {
   "cell_type": "code",
   "execution_count": 17,
   "metadata": {
    "collapsed": true
   },
   "outputs": [],
   "source": [
    "#Posiblemente no sea necesario usar esto, habrá que ver con los algoritmos que utilizaremos\n",
    "#De los eventos conocidos hago un merge. Claramente podría haber hecho el merge antes, pero cuando lo probé antes, falló por \n",
    "eventosConocidosMrg = eventosConocidos.merge(etiquetas,on='person')"
   ]
  }
 ],
 "metadata": {
  "kernelspec": {
   "display_name": "Python 3",
   "language": "python",
   "name": "python3"
  },
  "language_info": {
   "codemirror_mode": {
    "name": "ipython",
    "version": 3
   },
   "file_extension": ".py",
   "mimetype": "text/x-python",
   "name": "python",
   "nbconvert_exporter": "python",
   "pygments_lexer": "ipython3",
   "version": "3.6.1"
  }
 },
 "nbformat": 4,
 "nbformat_minor": 2
}
