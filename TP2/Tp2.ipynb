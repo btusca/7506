﻿{
 "cells": [
  {
   "cell_type": "code",
   "execution_count": 140,
   "metadata": {},
   "outputs": [],
   "source": [
    "import numpy as np  # Librería para aplicar álgebra lineal\n",
    "import pandas as pd # Para manejar los datos (datasets)\n",
    "\n",
    "'''from sklearn import preprocessing # Para el procesador de los datos\n",
    "from sklearn.preprocessing import Imputer # Para adoptar una estrategia para los missing values\n",
    "from sklearn.preprocessing import LabelEncoder as Codificar # Para codificar variables categóricas\n",
    "from sklearn.preprocessing import OneHotEncoder # Para pasar el LaberEncoder vector a OneHot matriz\n",
    "from sklearn.preprocessing import MinMaxScaler # Para realizar el escalado en escala (0-1)\n",
    "from sklearn.model_selection import train_test_split as Separar # Para dividir en los 2 conjuntos\n",
    "#from statsmodels.tools.eval_measures import rmse # Para calcular el error\n",
    "from sklearn.metrics import confusion_matrix as CM # Para construir la matriz de confusión\n",
    "from matplotlib.colors import ListedColormap as Colors # Para pintar las regiones en Clasificación'''\n",
    "\n",
    "import matplotlib.pyplot as plt # Para las visualizaciones\n",
    "import seaborn as sns # Visualizaciones más fancy\n",
    "\n",
    "\n",
    "#Iremos agregando las bibliotecas a medida que las necesitemos"
   ]
  },
  {
   "cell_type": "code",
   "execution_count": 141,
   "metadata": {},
   "outputs": [],
   "source": [
    "#Datos de entrada\n",
    "\n",
    "#Se especifican los tipo de datos para mejorar la performance\n",
    "eventos = pd.read_csv('/home/nicolas/Descargas/fiuba-trocafone-tp2-final-set/events_up_to_01062018.csv', \n",
    "                      dtype={\"timestamp\": object,#intenté hacerla datetime y no anduvo \n",
    "                             \"event\": 'category',\n",
    "                             \"person\":object,\n",
    "                             \"url\":object,\n",
    "                             \"sku\":object,\n",
    "                             \"model\":object,\n",
    "                             \"condition\":'category',\n",
    "                             \"storage\":object,\n",
    "                             \"color\":'category',\n",
    "                             \"skus\":object,\n",
    "                             \"search_term\":object,\n",
    "                             \"staticpage\":object,\n",
    "                             \"campaign_source\":object,\n",
    "                             \"search_engine\":object,\n",
    "                             \"channel\":object,\n",
    "                             \"new_vs_returning\":'category',\n",
    "                             \"city\":object,\n",
    "                             \"region\":object,\n",
    "                             \"country\":object,\n",
    "                             \"device_type\":object,\n",
    "                             \"screen_resolution\":object,\n",
    "                             \"operating_system_version\":object,\n",
    "                             \"browser_version\":object})\n",
    "\n",
    "labels = pd.read_csv('/home/nicolas/Descargas/fiuba-trocafone-tp2-final-set/labels_training_set.csv',\n",
    "                        dtype={\"person\":object, \"label\":bool})\n",
    "\n",
    "clientesAEvaluar = pd.read_csv('/home/nicolas/Descargas/all/trocafone_kaggle_test.csv')"
   ]
  },
  {
   "cell_type": "code",
   "execution_count": 142,
   "metadata": {},
   "outputs": [
    {
     "data": {
      "text/html": [
       "<div>\n",
       "<style scoped>\n",
       "    .dataframe tbody tr th:only-of-type {\n",
       "        vertical-align: middle;\n",
       "    }\n",
       "\n",
       "    .dataframe tbody tr th {\n",
       "        vertical-align: top;\n",
       "    }\n",
       "\n",
       "    .dataframe thead th {\n",
       "        text-align: right;\n",
       "    }\n",
       "</style>\n",
       "<table border=\"1\" class=\"dataframe\">\n",
       "  <thead>\n",
       "    <tr style=\"text-align: right;\">\n",
       "      <th></th>\n",
       "      <th>timestamp</th>\n",
       "      <th>event</th>\n",
       "      <th>person</th>\n",
       "      <th>url</th>\n",
       "      <th>sku</th>\n",
       "      <th>model</th>\n",
       "      <th>condition</th>\n",
       "      <th>storage</th>\n",
       "      <th>color</th>\n",
       "      <th>skus</th>\n",
       "      <th>...</th>\n",
       "      <th>search_engine</th>\n",
       "      <th>channel</th>\n",
       "      <th>new_vs_returning</th>\n",
       "      <th>city</th>\n",
       "      <th>region</th>\n",
       "      <th>country</th>\n",
       "      <th>device_type</th>\n",
       "      <th>screen_resolution</th>\n",
       "      <th>operating_system_version</th>\n",
       "      <th>browser_version</th>\n",
       "    </tr>\n",
       "  </thead>\n",
       "  <tbody>\n",
       "    <tr>\n",
       "      <th>0</th>\n",
       "      <td>2018-05-18 00:11:59</td>\n",
       "      <td>viewed product</td>\n",
       "      <td>4886f805</td>\n",
       "      <td>NaN</td>\n",
       "      <td>9288.0</td>\n",
       "      <td>Samsung Galaxy J7 Prime</td>\n",
       "      <td>Excelente</td>\n",
       "      <td>32GB</td>\n",
       "      <td>Dourado</td>\n",
       "      <td>NaN</td>\n",
       "      <td>...</td>\n",
       "      <td>NaN</td>\n",
       "      <td>NaN</td>\n",
       "      <td>NaN</td>\n",
       "      <td>NaN</td>\n",
       "      <td>NaN</td>\n",
       "      <td>NaN</td>\n",
       "      <td>NaN</td>\n",
       "      <td>NaN</td>\n",
       "      <td>NaN</td>\n",
       "      <td>NaN</td>\n",
       "    </tr>\n",
       "    <tr>\n",
       "      <th>1</th>\n",
       "      <td>2018-05-18 00:11:27</td>\n",
       "      <td>viewed product</td>\n",
       "      <td>ad93850f</td>\n",
       "      <td>NaN</td>\n",
       "      <td>304.0</td>\n",
       "      <td>iPhone 5s</td>\n",
       "      <td>Muito Bom</td>\n",
       "      <td>32GB</td>\n",
       "      <td>Cinza espacial</td>\n",
       "      <td>NaN</td>\n",
       "      <td>...</td>\n",
       "      <td>NaN</td>\n",
       "      <td>NaN</td>\n",
       "      <td>NaN</td>\n",
       "      <td>NaN</td>\n",
       "      <td>NaN</td>\n",
       "      <td>NaN</td>\n",
       "      <td>NaN</td>\n",
       "      <td>NaN</td>\n",
       "      <td>NaN</td>\n",
       "      <td>NaN</td>\n",
       "    </tr>\n",
       "    <tr>\n",
       "      <th>2</th>\n",
       "      <td>2018-05-18 00:11:16</td>\n",
       "      <td>viewed product</td>\n",
       "      <td>0297fc1e</td>\n",
       "      <td>NaN</td>\n",
       "      <td>6888.0</td>\n",
       "      <td>iPhone 6S</td>\n",
       "      <td>Muito Bom</td>\n",
       "      <td>64GB</td>\n",
       "      <td>Prateado</td>\n",
       "      <td>NaN</td>\n",
       "      <td>...</td>\n",
       "      <td>NaN</td>\n",
       "      <td>NaN</td>\n",
       "      <td>NaN</td>\n",
       "      <td>NaN</td>\n",
       "      <td>NaN</td>\n",
       "      <td>NaN</td>\n",
       "      <td>NaN</td>\n",
       "      <td>NaN</td>\n",
       "      <td>NaN</td>\n",
       "      <td>NaN</td>\n",
       "    </tr>\n",
       "  </tbody>\n",
       "</table>\n",
       "<p>3 rows × 23 columns</p>\n",
       "</div>"
      ],
      "text/plain": [
       "             timestamp           event    person  url     sku  \\\n",
       "0  2018-05-18 00:11:59  viewed product  4886f805  NaN  9288.0   \n",
       "1  2018-05-18 00:11:27  viewed product  ad93850f  NaN   304.0   \n",
       "2  2018-05-18 00:11:16  viewed product  0297fc1e  NaN  6888.0   \n",
       "\n",
       "                     model  condition storage           color skus  \\\n",
       "0  Samsung Galaxy J7 Prime  Excelente    32GB         Dourado  NaN   \n",
       "1                iPhone 5s  Muito Bom    32GB  Cinza espacial  NaN   \n",
       "2                iPhone 6S  Muito Bom    64GB        Prateado  NaN   \n",
       "\n",
       "        ...       search_engine channel new_vs_returning city region country  \\\n",
       "0       ...                 NaN     NaN              NaN  NaN    NaN     NaN   \n",
       "1       ...                 NaN     NaN              NaN  NaN    NaN     NaN   \n",
       "2       ...                 NaN     NaN              NaN  NaN    NaN     NaN   \n",
       "\n",
       "  device_type screen_resolution operating_system_version browser_version  \n",
       "0         NaN               NaN                      NaN             NaN  \n",
       "1         NaN               NaN                      NaN             NaN  \n",
       "2         NaN               NaN                      NaN             NaN  \n",
       "\n",
       "[3 rows x 23 columns]"
      ]
     },
     "execution_count": 142,
     "metadata": {},
     "output_type": "execute_result"
    }
   ],
   "source": [
    "#Revisando el formato de los eventos\n",
    "eventos.head(3)"
   ]
  },
  {
   "cell_type": "code",
   "execution_count": 143,
   "metadata": {},
   "outputs": [
    {
     "name": "stdout",
     "output_type": "stream",
     "text": [
      "('Cantidad de clientes que no tenemos clasificados:', 19415)\n",
      "('Cantidad de clientes a clasificar:', 19415)\n"
     ]
    }
   ],
   "source": [
    "#Confirmando que coinnciden la cantidad de datos a clasificar\n",
    "print('Cantidad de clientes que no tenemos clasificados:', len(eventos['person'].unique())- len(labels))\n",
    "print('Cantidad de clientes a clasificar:',len(clientesAEvaluar))"
   ]
  },
  {
   "cell_type": "code",
   "execution_count": 144,
   "metadata": {},
   "outputs": [
    {
     "name": "stdout",
     "output_type": "stream",
     "text": [
      "Cantidades de conversiones:\n",
      "False    18434\n",
      "True       980\n",
      "Name: label, dtype: int64\n",
      "Proporción de conversiones:\n",
      "False    0.949521\n",
      "True     0.050479\n",
      "Name: label, dtype: float64\n"
     ]
    }
   ],
   "source": [
    "#Analizando los datos de entrenamiento\n",
    "print('Cantidades de conversiones:')\n",
    "print(labels['label'].value_counts())\n",
    "print('Proporción de conversiones:')\n",
    "print(labels['label'].value_counts(normalize=True))"
   ]
  },
  {
   "cell_type": "code",
   "execution_count": 145,
   "metadata": {},
   "outputs": [],
   "source": [
    "#Agregamos algunos features a los existentes\n",
    "eventos['timestamp'] =  pd.to_datetime(eventos['timestamp'])\n",
    "eventos[['marca','modelo']] = eventos['model'].dropna().str.split(' ',n=1,expand=True)\n",
    "eventos['weekday'] = eventos['timestamp'].dt.day_name()\n",
    "eventos['hour'] = eventos['timestamp'].dt.hour\n",
    "eventos['month'] = eventos['timestamp'].dt.month\n",
    "eventos['day'] = eventos['timestamp'].dt.day"
   ]
  },
  {
   "cell_type": "code",
   "execution_count": 146,
   "metadata": {},
   "outputs": [],
   "source": [
    "#Creo períodos de tiempo donde ya asignamos a qué mes pertenecen\n",
    "eventos['principio_de_mes'] = ((eventos['day'] < 10) * eventos['month'])\n",
    "eventos['fin_de_mes'] = ((eventos['day'] > 20) * eventos['month'])\n",
    "eventos['mitad_de_mes'] = (((eventos['day'] > 10)  & (eventos['day'] < 21)) * eventos['month'])\n",
    "#eventos.loc[1:10,['principio_de_mes','mitad_de_mes','fin_de_mes']]"
   ]
  },
  {
   "cell_type": "code",
   "execution_count": 147,
   "metadata": {},
   "outputs": [
    {
     "data": {
      "text/html": [
       "<div>\n",
       "<style scoped>\n",
       "    .dataframe tbody tr th:only-of-type {\n",
       "        vertical-align: middle;\n",
       "    }\n",
       "\n",
       "    .dataframe tbody tr th {\n",
       "        vertical-align: top;\n",
       "    }\n",
       "\n",
       "    .dataframe thead th {\n",
       "        text-align: right;\n",
       "    }\n",
       "</style>\n",
       "<table border=\"1\" class=\"dataframe\">\n",
       "  <thead>\n",
       "    <tr style=\"text-align: right;\">\n",
       "      <th>principio_de_mes</th>\n",
       "      <th>person</th>\n",
       "      <th>1</th>\n",
       "      <th>2</th>\n",
       "      <th>3</th>\n",
       "      <th>4</th>\n",
       "      <th>5</th>\n",
       "    </tr>\n",
       "  </thead>\n",
       "  <tbody>\n",
       "    <tr>\n",
       "      <th>0</th>\n",
       "      <td>0008ed71</td>\n",
       "      <td>NaN</td>\n",
       "      <td>NaN</td>\n",
       "      <td>NaN</td>\n",
       "      <td>NaN</td>\n",
       "      <td>NaN</td>\n",
       "    </tr>\n",
       "    <tr>\n",
       "      <th>1</th>\n",
       "      <td>00091926</td>\n",
       "      <td>NaN</td>\n",
       "      <td>NaN</td>\n",
       "      <td>NaN</td>\n",
       "      <td>NaN</td>\n",
       "      <td>53.0</td>\n",
       "    </tr>\n",
       "    <tr>\n",
       "      <th>2</th>\n",
       "      <td>00091a7a</td>\n",
       "      <td>NaN</td>\n",
       "      <td>NaN</td>\n",
       "      <td>NaN</td>\n",
       "      <td>NaN</td>\n",
       "      <td>NaN</td>\n",
       "    </tr>\n",
       "    <tr>\n",
       "      <th>3</th>\n",
       "      <td>000ba417</td>\n",
       "      <td>NaN</td>\n",
       "      <td>NaN</td>\n",
       "      <td>NaN</td>\n",
       "      <td>NaN</td>\n",
       "      <td>NaN</td>\n",
       "    </tr>\n",
       "    <tr>\n",
       "      <th>4</th>\n",
       "      <td>000c79fe</td>\n",
       "      <td>NaN</td>\n",
       "      <td>NaN</td>\n",
       "      <td>NaN</td>\n",
       "      <td>NaN</td>\n",
       "      <td>NaN</td>\n",
       "    </tr>\n",
       "  </tbody>\n",
       "</table>\n",
       "</div>"
      ],
      "text/plain": [
       "principio_de_mes    person   1   2   3   4     5\n",
       "0                 0008ed71 NaN NaN NaN NaN   NaN\n",
       "1                 00091926 NaN NaN NaN NaN  53.0\n",
       "2                 00091a7a NaN NaN NaN NaN   NaN\n",
       "3                 000ba417 NaN NaN NaN NaN   NaN\n",
       "4                 000c79fe NaN NaN NaN NaN   NaN"
      ]
     },
     "execution_count": 147,
     "metadata": {},
     "output_type": "execute_result"
    }
   ],
   "source": [
    "eventos.groupby('person')['principio_de_mes'].value_counts().unstack().reset_index().head().drop(0,axis=1)"
   ]
  },
  {
   "cell_type": "markdown",
   "metadata": {},
   "source": [
    "### Vamos creando features: "
   ]
  },
  {
   "cell_type": "code",
   "execution_count": 148,
   "metadata": {},
   "outputs": [],
   "source": [
    "#Features en base al total de cada evento\n",
    "totalEvento = eventos.groupby('person')['event'].value_counts().unstack().reset_index()\n",
    "totalEvento.rename(lambda x: x if x == 'person' else 'total ' + x, axis = 1, inplace=True)\n",
    "\n",
    "#Features en base a la frecuencia de cada evento sobre el total (frecuencia relativa)\n",
    "frecEvento = eventos.groupby('person')['event'].value_counts(normalize=True).unstack().reset_index()\n",
    "frecEvento.rename(lambda x: x if x == 'person' else 'frec ' + x, axis = 1, inplace=True)\n",
    "\n",
    "#features en base a la frecuencia relativa de la marca de los dispositivos consultados\n",
    "frecMarca = eventos.groupby('person')['marca'].value_counts(normalize=True).unstack().reset_index()\n",
    "frecMarca.rename(lambda x: x if x == 'person' else 'frec ' + x, axis = 1, inplace=True)\n",
    "\n",
    "#features en base a la cantidad (frecuencia total) de eventos por mes\n",
    "totalMes = eventos.groupby('person')['month'].value_counts().unstack().reset_index()\n",
    "totalMes.rename({1:'total_enero',2:'total_febrero',3:'total_marzo',4:'total_abril',5:'total_mayo'}, \n",
    "                inplace=True, axis=1)\n",
    "\n",
    "#features en base a la cantidad de eventos en períodos de aprox 10 días (principio, mitad y fin de mes)\n",
    "totalPrincipioMes = eventos.groupby('person')['principio_de_mes'].value_counts().unstack().reset_index().head().drop(0,axis=1)\n",
    "totalPrincipioMes.rename(lambda x: x if x == 'person' else 'total principio_de_mes ' + str(x), axis = 1, inplace=True)\n",
    "\n",
    "totalMitadMes = eventos.groupby('person')['mitad_de_mes'].value_counts().unstack().reset_index().head().drop(0,axis=1)\n",
    "totalMitadMes.rename(lambda x: x if x == 'person' else 'total mitad_de_mes ' + str(x), axis = 1, inplace=True)\n",
    "\n",
    "totalFinMes = eventos.groupby('person')['fin_de_mes'].value_counts().unstack().reset_index().head().drop(0,axis=1)\n",
    "totalFinMes.rename(lambda x: x if x == 'person' else 'total fin_de_mes ' + str(x), axis = 1, inplace=True)\n",
    "\n",
    "\n",
    "#features en base a la frecuencia relativa de los dispositivos desde los que se accede\n",
    "frecDispositivo = eventos.groupby('person')['device_type'].value_counts(normalize=True).unstack().reset_index()\n",
    "frecDispositivo.rename(lambda x: x if x == 'person' else 'frec ' + x, axis=1, inplace=True)\n",
    "\n",
    "#features en base a la frecuencia relativa de los colores de los teléfonos vistos\n",
    "frecColor = eventos.groupby('person')['color'].value_counts(normalize=True).unstack().reset_index()\n",
    "frecColor.rename(lambda x: x if x == 'person' else 'frec color ' + x, axis=1, inplace=True)\n",
    "\n",
    "#features en base a la frecuencia relativa de los estados de los teléfonos consultados\n",
    "frecCondicion = eventos.groupby('person')['condition'].value_counts(normalize=True).unstack().reset_index()\n",
    "frecCondicion.rename(lambda x: x if x == 'person' else 'frec ' + x, axis=1, inplace=True)\n",
    "\n",
    "#features en base al la frecuencia relativa del día de semana en que se consultó\n",
    "frecDiaSemana = eventos.groupby('person')['weekday'].value_counts(normalize=True).unstack().reset_index().fillna(0)\n",
    "frecDiaSemana.rename(lambda x: x if x == 'person' else 'frec ' + x, axis=1, inplace=True)\n",
    "\n",
    "#features en base al día (a revisar, capaz convenga hacer algo en base al més y al día, o separar en quincenas)\n",
    "frecNroDia = eventos.groupby('person')['day'].value_counts(normalize=True).unstack().reset_index()\n",
    "frecNroDia.rename(lambda x: x if str(x) == 'person' else 'frec dia ' + str(x), axis=1, inplace=True)\n",
    "\n",
    "#Creamos los features del almacenamiento interno de los dispositivos consultados\n",
    "frecAlmacenamiento = eventos.groupby('person')['storage'].value_counts(normalize=True).unstack().reset_index()\n",
    "frecAlmacenamiento.rename(lambda x: x if x == 'person' else 'frec ' + x, axis=1, inplace=True)\n"
   ]
  },
  {
   "cell_type": "code",
   "execution_count": 149,
   "metadata": {},
   "outputs": [
    {
     "data": {
      "text/html": [
       "<div>\n",
       "<style scoped>\n",
       "    .dataframe tbody tr th:only-of-type {\n",
       "        vertical-align: middle;\n",
       "    }\n",
       "\n",
       "    .dataframe tbody tr th {\n",
       "        vertical-align: top;\n",
       "    }\n",
       "\n",
       "    .dataframe thead th {\n",
       "        text-align: right;\n",
       "    }\n",
       "</style>\n",
       "<table border=\"1\" class=\"dataframe\">\n",
       "  <thead>\n",
       "    <tr style=\"text-align: right;\">\n",
       "      <th></th>\n",
       "      <th>person</th>\n",
       "      <th>frec ad campaign hit</th>\n",
       "      <th>frec brand listing</th>\n",
       "      <th>frec checkout</th>\n",
       "      <th>frec conversion</th>\n",
       "      <th>frec generic listing</th>\n",
       "      <th>frec lead</th>\n",
       "      <th>frec search engine hit</th>\n",
       "      <th>frec searched products</th>\n",
       "      <th>frec staticpage</th>\n",
       "      <th>...</th>\n",
       "      <th>frec dia 30</th>\n",
       "      <th>frec dia 31</th>\n",
       "      <th>frec 128GB</th>\n",
       "      <th>frec 16GB</th>\n",
       "      <th>frec 256GB</th>\n",
       "      <th>frec 32GB</th>\n",
       "      <th>frec 4GB</th>\n",
       "      <th>frec 512MB</th>\n",
       "      <th>frec 64GB</th>\n",
       "      <th>frec 8GB</th>\n",
       "    </tr>\n",
       "  </thead>\n",
       "  <tbody>\n",
       "    <tr>\n",
       "      <th>0</th>\n",
       "      <td>0008ed71</td>\n",
       "      <td>NaN</td>\n",
       "      <td>NaN</td>\n",
       "      <td>0.500000</td>\n",
       "      <td>NaN</td>\n",
       "      <td>0.166667</td>\n",
       "      <td>NaN</td>\n",
       "      <td>NaN</td>\n",
       "      <td>NaN</td>\n",
       "      <td>NaN</td>\n",
       "      <td>...</td>\n",
       "      <td>NaN</td>\n",
       "      <td>NaN</td>\n",
       "      <td>NaN</td>\n",
       "      <td>NaN</td>\n",
       "      <td>NaN</td>\n",
       "      <td>0.666667</td>\n",
       "      <td>NaN</td>\n",
       "      <td>NaN</td>\n",
       "      <td>0.333333</td>\n",
       "      <td>NaN</td>\n",
       "    </tr>\n",
       "    <tr>\n",
       "      <th>1</th>\n",
       "      <td>00091926</td>\n",
       "      <td>0.033482</td>\n",
       "      <td>0.055804</td>\n",
       "      <td>0.004464</td>\n",
       "      <td>NaN</td>\n",
       "      <td>NaN</td>\n",
       "      <td>NaN</td>\n",
       "      <td>NaN</td>\n",
       "      <td>NaN</td>\n",
       "      <td>NaN</td>\n",
       "      <td>...</td>\n",
       "      <td>NaN</td>\n",
       "      <td>0.035714</td>\n",
       "      <td>0.128342</td>\n",
       "      <td>0.278075</td>\n",
       "      <td>0.026738</td>\n",
       "      <td>0.352941</td>\n",
       "      <td>NaN</td>\n",
       "      <td>NaN</td>\n",
       "      <td>0.213904</td>\n",
       "      <td>NaN</td>\n",
       "    </tr>\n",
       "  </tbody>\n",
       "</table>\n",
       "<p>2 rows × 109 columns</p>\n",
       "</div>"
      ],
      "text/plain": [
       "     person  frec ad campaign hit  frec brand listing  frec checkout  \\\n",
       "0  0008ed71                   NaN                 NaN       0.500000   \n",
       "1  00091926              0.033482            0.055804       0.004464   \n",
       "\n",
       "   frec conversion  frec generic listing  frec lead  frec search engine hit  \\\n",
       "0              NaN              0.166667        NaN                     NaN   \n",
       "1              NaN                   NaN        NaN                     NaN   \n",
       "\n",
       "   frec searched products  frec staticpage    ...     frec dia 30  \\\n",
       "0                     NaN              NaN    ...             NaN   \n",
       "1                     NaN              NaN    ...             NaN   \n",
       "\n",
       "   frec dia 31  frec 128GB  frec 16GB  frec 256GB  frec 32GB  frec 4GB  \\\n",
       "0          NaN         NaN        NaN         NaN   0.666667       NaN   \n",
       "1     0.035714    0.128342   0.278075    0.026738   0.352941       NaN   \n",
       "\n",
       "   frec 512MB  frec 64GB  frec 8GB  \n",
       "0         NaN   0.333333       NaN  \n",
       "1         NaN   0.213904       NaN  \n",
       "\n",
       "[2 rows x 109 columns]"
      ]
     },
     "execution_count": 149,
     "metadata": {},
     "output_type": "execute_result"
    }
   ],
   "source": [
    "#Empezamos a hacer el merge\n",
    "#No hay que olvidarse de hacer outer left joins, si no se perderán filas\n",
    "#Empezamos con features con todas las filas (todos los clientes tienen eventos)\n",
    "features = frecEvento.merge(totalEvento, how='left', on='person')\n",
    "features = features.merge(frecMarca, how='left', on='person')\n",
    "features = features.merge(totalMes, how='left', on='person')\n",
    "features = features.merge(frecDispositivo, how='left', on='person')\n",
    "#features = features.merge(frecColor, how='left', on='person')\n",
    "features = features.merge(frecCondicion, how='left', on='person')\n",
    "features = features.merge(frecDiaSemana, how='left', on='person')\n",
    "features = features.merge(totalPrincipioMes, how='left', on='person')\n",
    "features = features.merge(totalMitadMes, how='left', on='person')\n",
    "features = features.merge(totalFinMes, how='left', on='person')\n",
    "features = features.merge(frecNroDia, how='left', on='person') #Lo reemplazo por los períodos en los meses?\n",
    "features = features.merge(frecAlmacenamiento, how='left', on='person')\n",
    "\n",
    "features.head(2)"
   ]
  },
  {
   "cell_type": "markdown",
   "metadata": {
    "collapsed": true
   },
   "source": [
    "#### Seguir con feature engeneering, agregando features. Algunas ideas: \n",
    "*    Modelo más consultado\n",
    "*    navegador más usado (capaz ver los 3 o 5 más frecuentes y una columna otros)\n",
    "*    etc."
   ]
  },
  {
   "cell_type": "markdown",
   "metadata": {},
   "source": [
    "## Machine learning\n",
    "### Primer algoritmo usado: Random Forest"
   ]
  },
  {
   "cell_type": "code",
   "execution_count": 150,
   "metadata": {},
   "outputs": [],
   "source": [
    "#Cargamos las bibliotecas para usar y validar Random Forest\n",
    "from sklearn.ensemble import RandomForestClassifier\n",
    "from sklearn.model_selection import cross_val_score\n",
    "\n",
    "#Para preparar sets de entrenamiento y prueba\n",
    "from sklearn.model_selection import train_test_split  \n",
    "\n",
    "#Nos traemos bibliotecas para medir la performance\n",
    "from sklearn.metrics import classification_report\n",
    "from sklearn.metrics import accuracy_score\n"
   ]
  },
  {
   "cell_type": "code",
   "execution_count": 151,
   "metadata": {},
   "outputs": [],
   "source": [
    "'''Tomamos \"prestada\" una función para presentar prolijamente los n features más importantes.\n",
    "La función fue tomada casi literal de:\n",
    "    https://github.com/Featuretools/predict-next-purchase/blob/master/utils.py\n",
    "'''\n",
    "def feature_importances(model, features, n=10):\n",
    "    importances = model.feature_importances_\n",
    "    zipped = sorted(zip(features, importances), key=lambda x: -x[1])\n",
    "    for i, f in enumerate(zipped[:n]):\n",
    "        print(\"%d: Feature: %s, %.3f\" % (i+1, f[0], f[1]))\n",
    "\n",
    "    return [f[0] for f in zipped[:n]]"
   ]
  },
  {
   "cell_type": "code",
   "execution_count": 152,
   "metadata": {},
   "outputs": [],
   "source": [
    "#Reemplazo NaNs por ceros\n",
    "features = features.fillna(0)\n",
    "\n",
    "#Cargamos X e y para trabajar con Random Forest (y otros algoritmos luego).\n",
    "X = pd.merge(features, labels, on='person')\n",
    "X.drop('person', axis=1, inplace=True)\n",
    "X = X.fillna(0)\n",
    "y = X.pop('label')\n",
    "\n",
    "#Ahora hacemos el split de los datos a testear\n",
    "#Hacemos una división de set de test y entrenamiento, y le ponemos una semilla arbitraria por si queremos replicarlo\n",
    "seed = 1234\n",
    "X_train, X_test, y_train, y_test = train_test_split(X, y, test_size=0.25, random_state=seed)"
   ]
  },
  {
   "cell_type": "code",
   "execution_count": 153,
   "metadata": {},
   "outputs": [],
   "source": [
    "#Creamos el clasificador\n",
    "'''Nota: Tomamos una configuración de random forest encontrada en:\n",
    "    https://www.datacamp.com/community/tutorials/random-forests-classifier-python'''\n",
    "\n",
    "clfRF1 = RandomForestClassifier(bootstrap=True, class_weight=None, criterion='gini',\n",
    "            max_depth=None, max_features='auto', max_leaf_nodes=None,\n",
    "            min_samples_leaf=1, min_samples_split=2,\n",
    "            min_weight_fraction_leaf=0.0, n_estimators=500, n_jobs=-1,\n",
    "            oob_score=False, random_state=seed, verbose=0,\n",
    "            warm_start=False)\n",
    "#Versión básica y casi default de RF\n",
    "clfRF2 = RandomForestClassifier(n_estimators=500, random_state=seed)"
   ]
  },
  {
   "cell_type": "code",
   "execution_count": 154,
   "metadata": {},
   "outputs": [
    {
     "name": "stderr",
     "output_type": "stream",
     "text": [
      "[Parallel(n_jobs=1)]: Using backend SequentialBackend with 1 concurrent workers.\n",
      "[Parallel(n_jobs=1)]: Done   3 out of   3 | elapsed:    6.5s finished\n",
      "[Parallel(n_jobs=1)]: Using backend SequentialBackend with 1 concurrent workers.\n"
     ]
    },
    {
     "name": "stdout",
     "output_type": "stream",
     "text": [
      "RF1 AUC 0.8510 +/- 0.0055\n",
      "RF2 AUC 0.8510 +/- 0.0055\n"
     ]
    },
    {
     "name": "stderr",
     "output_type": "stream",
     "text": [
      "[Parallel(n_jobs=1)]: Done   3 out of   3 | elapsed:   28.1s finished\n"
     ]
    }
   ],
   "source": [
    "#Probamos qué tan bien viene clasificando nuestro modelo, usando cross validation con todos los datos\n",
    "scores = cross_val_score(estimator=clfRF1,X=X, y=y, cv=3, scoring=\"roc_auc\", verbose=True)\n",
    "print(\"RF1 AUC %.4f +/- %.4f\" % (scores.mean(), scores.std()))\n",
    "\n",
    "scores = cross_val_score(estimator=clfRF2,X=X, y=y, cv=3, scoring=\"roc_auc\", verbose=True)\n",
    "print(\"RF2 AUC %.4f +/- %.4f\" % (scores.mean(), scores.std()))"
   ]
  },
  {
   "cell_type": "code",
   "execution_count": 155,
   "metadata": {},
   "outputs": [
    {
     "name": "stdout",
     "output_type": "stream",
     "text": [
      "Precisión RF 1 en entrenamiento: 95.86\n",
      "1: Feature: frec checkout, 0.044\n",
      "2: Feature: total checkout, 0.036\n",
      "3: Feature: total_mayo, 0.033\n",
      "4: Feature: frec viewed product, 0.027\n",
      "5: Feature: total viewed product, 0.025\n",
      "6: Feature: frec visited site, 0.024\n",
      "7: Feature: frec ad campaign hit, 0.023\n",
      "8: Feature: frec generic listing, 0.022\n",
      "9: Feature: frec search engine hit, 0.022\n",
      "10: Feature: frec 16GB, 0.021\n",
      "11: Feature: frec Muito Bom, 0.020\n",
      "12: Feature: frec Bom, 0.020\n",
      "13: Feature: frec brand listing, 0.020\n",
      "14: Feature: frec 32GB, 0.020\n",
      "15: Feature: frec Excelente, 0.018\n",
      "16: Feature: total brand listing, 0.017\n",
      "17: Feature: total generic listing, 0.017\n",
      "18: Feature: frec 64GB, 0.016\n",
      "19: Feature: total ad campaign hit, 0.016\n",
      "20: Feature: frec Samsung, 0.016\n",
      "21: Feature: total visited site, 0.015\n",
      "22: Feature: frec Wednesday, 0.015\n",
      "23: Feature: frec iPhone, 0.015\n",
      "24: Feature: frec Thursday, 0.015\n",
      "25: Feature: frec 8GB, 0.014\n",
      "26: Feature: frec searched products, 0.014\n",
      "27: Feature: frec Tuesday, 0.014\n",
      "28: Feature: total search engine hit, 0.014\n",
      "29: Feature: frec 128GB, 0.013\n",
      "30: Feature: total_abril, 0.013\n",
      "31: Feature: frec dia 31, 0.013\n",
      "32: Feature: frec Motorola, 0.012\n",
      "33: Feature: frec Monday, 0.012\n",
      "34: Feature: frec Friday, 0.012\n",
      "35: Feature: total searched products, 0.012\n",
      "36: Feature: frec dia 30, 0.012\n",
      "37: Feature: frec Bom - Sem Touch ID, 0.011\n",
      "38: Feature: frec Computer, 0.011\n",
      "39: Feature: frec Smartphone, 0.011\n",
      "40: Feature: total_marzo, 0.010\n",
      "41: Feature: frec Saturday, 0.010\n",
      "42: Feature: frec conversion, 0.009\n",
      "43: Feature: frec dia 25, 0.009\n",
      "44: Feature: frec dia 29, 0.009\n",
      "45: Feature: frec Sunday, 0.009\n",
      "46: Feature: frec dia 26, 0.008\n",
      "47: Feature: frec dia 23, 0.008\n",
      "48: Feature: total_enero, 0.008\n",
      "49: Feature: frec dia 28, 0.008\n",
      "50: Feature: frec dia 2, 0.007\n",
      "51: Feature: frec dia 24, 0.007\n",
      "52: Feature: frec dia 11, 0.007\n",
      "53: Feature: frec dia 22, 0.007\n",
      "54: Feature: frec dia 18, 0.007\n",
      "55: Feature: frec dia 3, 0.007\n",
      "56: Feature: frec LG, 0.007\n",
      "57: Feature: frec dia 9, 0.007\n",
      "58: Feature: total conversion, 0.007\n",
      "59: Feature: frec dia 5, 0.006\n",
      "60: Feature: frec dia 4, 0.006\n",
      "61: Feature: frec dia 27, 0.006\n",
      "62: Feature: frec dia 13, 0.006\n",
      "63: Feature: frec dia 21, 0.006\n",
      "64: Feature: frec dia 8, 0.006\n",
      "65: Feature: frec dia 17, 0.006\n",
      "66: Feature: frec Lenovo, 0.006\n",
      "67: Feature: frec dia 19, 0.006\n",
      "68: Feature: frec dia 7, 0.005\n",
      "69: Feature: frec dia 6, 0.005\n",
      "70: Feature: frec 256GB, 0.005\n",
      "71: Feature: frec Sony, 0.005\n",
      "72: Feature: frec dia 20, 0.005\n",
      "73: Feature: frec dia 12, 0.005\n",
      "74: Feature: frec dia 16, 0.005\n",
      "75: Feature: frec dia 14, 0.005\n",
      "76: Feature: frec staticpage, 0.005\n",
      "77: Feature: total_febrero, 0.005\n",
      "78: Feature: frec dia 1, 0.004\n",
      "79: Feature: frec dia 15, 0.004\n",
      "80: Feature: frec 4GB, 0.004\n",
      "81: Feature: total staticpage, 0.004\n",
      "82: Feature: frec dia 10, 0.004\n",
      "83: Feature: frec Asus, 0.004\n",
      "84: Feature: frec iPad, 0.003\n",
      "85: Feature: frec 512MB, 0.002\n",
      "86: Feature: frec Novo, 0.002\n",
      "87: Feature: frec lead, 0.002\n",
      "88: Feature: frec Tablet, 0.002\n",
      "89: Feature: frec Quantum, 0.002\n",
      "90: Feature: total lead, 0.001\n",
      "91: Feature: frec Unknown, 0.000\n",
      "92: Feature: total fin_de_mes 5, 0.000\n",
      "93: Feature: frec Outros, 0.000\n",
      "94: Feature: frec Xiaomi, 0.000\n",
      "95: Feature: total principio_de_mes 1, 0.000\n",
      "96: Feature: total principio_de_mes 2, 0.000\n",
      "97: Feature: total principio_de_mes 3, 0.000\n",
      "98: Feature: total principio_de_mes 4, 0.000\n",
      "99: Feature: total principio_de_mes 5, 0.000\n",
      "100: Feature: total mitad_de_mes 1, 0.000\n",
      "101: Feature: total mitad_de_mes 2, 0.000\n",
      "102: Feature: total mitad_de_mes 3, 0.000\n",
      "103: Feature: total mitad_de_mes 4, 0.000\n",
      "104: Feature: total mitad_de_mes 5, 0.000\n",
      "105: Feature: total fin_de_mes 1, 0.000\n",
      "106: Feature: total fin_de_mes 2, 0.000\n",
      "107: Feature: total fin_de_mes 3, 0.000\n",
      "108: Feature: total fin_de_mes 4, 0.000\n"
     ]
    },
    {
     "name": "stderr",
     "output_type": "stream",
     "text": [
      "[Parallel(n_jobs=1)]: Using backend SequentialBackend with 1 concurrent workers.\n"
     ]
    },
    {
     "name": "stdout",
     "output_type": "stream",
     "text": [
      "AUC 0.8510 +/- 0.0055\n"
     ]
    },
    {
     "name": "stderr",
     "output_type": "stream",
     "text": [
      "[Parallel(n_jobs=1)]: Done   3 out of   3 | elapsed:    6.3s finished\n"
     ]
    }
   ],
   "source": [
    "#Verificamos la precisión con los datos de entrenamiento\n",
    "train_RF1 = clfRF1.fit(X_train,y_train)\n",
    "prediccion = train_RF1.predict_proba(X_test)\n",
    "precision = accuracy_score(y_test, prediccion[:,[1]] > 0.5) * 100\n",
    "print(\"Precisión RF 1 en entrenamiento: %.2f\" % precision)\n",
    "top_features = feature_importances(train_RF1, X.columns, n=140)\n",
    "\n",
    "scores = cross_val_score(estimator=train_RF1,X=X, y=y, cv=3, scoring=\"roc_auc\", verbose=True)\n",
    "print(\"AUC %.4f +/- %.4f\" % (scores.mean(), scores.std()))"
   ]
  },
  {
   "cell_type": "code",
   "execution_count": 156,
   "metadata": {},
   "outputs": [
    {
     "name": "stdout",
     "output_type": "stream",
     "text": [
      "Precisión RF 1 en entrenamiento: 95.86\n",
      "1: Feature: frec checkout, 0.044\n",
      "2: Feature: total checkout, 0.036\n",
      "3: Feature: total_mayo, 0.033\n",
      "4: Feature: frec viewed product, 0.027\n",
      "5: Feature: total viewed product, 0.025\n",
      "6: Feature: frec visited site, 0.024\n",
      "7: Feature: frec ad campaign hit, 0.023\n",
      "8: Feature: frec generic listing, 0.022\n",
      "9: Feature: frec search engine hit, 0.022\n",
      "10: Feature: frec 16GB, 0.021\n",
      "11: Feature: frec Muito Bom, 0.020\n",
      "12: Feature: frec Bom, 0.020\n",
      "13: Feature: frec brand listing, 0.020\n",
      "14: Feature: frec 32GB, 0.020\n",
      "15: Feature: frec Excelente, 0.018\n",
      "16: Feature: total brand listing, 0.017\n",
      "17: Feature: total generic listing, 0.017\n",
      "18: Feature: frec 64GB, 0.016\n",
      "19: Feature: total ad campaign hit, 0.016\n",
      "20: Feature: frec Samsung, 0.016\n"
     ]
    },
    {
     "name": "stderr",
     "output_type": "stream",
     "text": [
      "[Parallel(n_jobs=1)]: Using backend SequentialBackend with 1 concurrent workers.\n"
     ]
    },
    {
     "name": "stdout",
     "output_type": "stream",
     "text": [
      "AUC 0.8510 +/- 0.0055\n"
     ]
    },
    {
     "name": "stderr",
     "output_type": "stream",
     "text": [
      "[Parallel(n_jobs=1)]: Done   3 out of   3 | elapsed:   27.8s finished\n"
     ]
    }
   ],
   "source": [
    "#Verificamos la precisión con los datos de entrenamiento\n",
    "train_RF2 = clfRF2.fit(X_train,y_train)\n",
    "prediccion = train_RF2.predict_proba(X_test)\n",
    "precision = accuracy_score(y_test, prediccion[:,[1]] > 0.5) * 100\n",
    "print(\"Precisión RF 1 en entrenamiento: %.2f\" % precision)\n",
    "top_features = feature_importances(train_RF2, X.columns, n=20)\n",
    "\n",
    "scores = cross_val_score(estimator=train_RF2,X=X, y=y, cv=3, scoring=\"roc_auc\", verbose=True)\n",
    "print(\"AUC %.4f +/- %.4f\" % (scores.mean(), scores.std()))"
   ]
  },
  {
   "cell_type": "code",
   "execution_count": 157,
   "metadata": {},
   "outputs": [
    {
     "data": {
      "image/png": "[encoded data removed]",
      "text/plain": [
       "<Figure size 1800x1800 with 1 Axes>"
      ]
     },
     "metadata": {
      "needs_background": "light"
     },
     "output_type": "display_data"
    }
   ],
   "source": [
    "feature_importances_plt = pd.DataFrame(clfRF2.feature_importances_,index = X_train.columns,\n",
    "                                   columns=['importance'])\n",
    "asd=feature_importances_plt.reset_index()\n",
    "asd=asd.sort_values('importance',ascending=False).head(10)\n",
    "asd\n",
    "asd.plot(x='index',y='importance',kind='bar',figsize=(25,25),fontsize=13,rot=0)\n",
    "plt.title(\"Importancia de las mejores 10 features\", size=20)\n",
    "plt.xlabel(\"Feature\",size=15)\n",
    "plt.ylabel(\"Importancia\",size=15)\n",
    "plt.show()"
   ]
  },
  {
   "cell_type": "code",
   "execution_count": 158,
   "metadata": {},
   "outputs": [
    {
     "name": "stderr",
     "output_type": "stream",
     "text": [
      "[Parallel(n_jobs=1)]: Using backend SequentialBackend with 1 concurrent workers.\n",
      "[Parallel(n_jobs=1)]: Done   3 out of   3 | elapsed:    5.7s finished\n"
     ]
    },
    {
     "data": {
      "text/plain": [
       "'RF1 20 features m\\xc3\\xa1s importantes: AUC 0.8103 +/- 0.0122'"
      ]
     },
     "execution_count": 158,
     "metadata": {},
     "output_type": "execute_result"
    }
   ],
   "source": [
    "#Pruebo de nuevo los random forest con los resultados obtenidos de mejores clasificadores\n",
    "scores = cross_val_score(estimator=clfRF1,X=X.loc[:,top_features], y=y, cv=3, scoring=\"roc_auc\", verbose=True)\n",
    "\n",
    "\"RF1 %d features más importantes: AUC %.4f +/- %.4f\" % (len(top_features), scores.mean(), scores.std())"
   ]
  },
  {
   "cell_type": "code",
   "execution_count": 159,
   "metadata": {},
   "outputs": [
    {
     "name": "stderr",
     "output_type": "stream",
     "text": [
      "[Parallel(n_jobs=1)]: Using backend SequentialBackend with 1 concurrent workers.\n"
     ]
    },
    {
     "name": "stdout",
     "output_type": "stream",
     "text": [
      "1: Feature: frec checkout, 0.044\n",
      "2: Feature: total checkout, 0.036\n",
      "3: Feature: total_mayo, 0.033\n",
      "4: Feature: frec viewed product, 0.027\n",
      "5: Feature: total viewed product, 0.025\n",
      "6: Feature: frec visited site, 0.024\n",
      "7: Feature: frec ad campaign hit, 0.023\n",
      "8: Feature: frec generic listing, 0.022\n",
      "9: Feature: frec search engine hit, 0.022\n",
      "10: Feature: frec 16GB, 0.021\n",
      "11: Feature: frec Muito Bom, 0.020\n",
      "12: Feature: frec Bom, 0.020\n",
      "13: Feature: frec brand listing, 0.020\n",
      "14: Feature: frec 32GB, 0.020\n",
      "15: Feature: frec Excelente, 0.018\n",
      "16: Feature: total brand listing, 0.017\n",
      "17: Feature: total generic listing, 0.017\n",
      "18: Feature: frec 64GB, 0.016\n",
      "19: Feature: total ad campaign hit, 0.016\n",
      "20: Feature: frec Samsung, 0.016\n",
      "21: Feature: total visited site, 0.015\n",
      "22: Feature: frec Wednesday, 0.015\n",
      "23: Feature: frec iPhone, 0.015\n",
      "24: Feature: frec Thursday, 0.015\n",
      "25: Feature: frec 8GB, 0.014\n",
      "26: Feature: frec searched products, 0.014\n",
      "27: Feature: frec Tuesday, 0.014\n",
      "28: Feature: total search engine hit, 0.014\n",
      "29: Feature: frec 128GB, 0.013\n",
      "30: Feature: total_abril, 0.013\n",
      "31: Feature: frec dia 31, 0.013\n",
      "32: Feature: frec Motorola, 0.012\n",
      "33: Feature: frec Monday, 0.012\n",
      "34: Feature: frec Friday, 0.012\n",
      "35: Feature: total searched products, 0.012\n",
      "36: Feature: frec dia 30, 0.012\n",
      "37: Feature: frec Bom - Sem Touch ID, 0.011\n",
      "38: Feature: frec Computer, 0.011\n",
      "39: Feature: frec Smartphone, 0.011\n",
      "40: Feature: total_marzo, 0.010\n",
      "41: Feature: frec Saturday, 0.010\n",
      "42: Feature: frec conversion, 0.009\n",
      "43: Feature: frec dia 25, 0.009\n",
      "44: Feature: frec dia 29, 0.009\n",
      "45: Feature: frec Sunday, 0.009\n",
      "46: Feature: frec dia 26, 0.008\n",
      "47: Feature: frec dia 23, 0.008\n",
      "48: Feature: total_enero, 0.008\n",
      "49: Feature: frec dia 28, 0.008\n",
      "50: Feature: frec dia 2, 0.007\n",
      "51: Feature: frec dia 24, 0.007\n",
      "52: Feature: frec dia 11, 0.007\n",
      "53: Feature: frec dia 22, 0.007\n",
      "54: Feature: frec dia 18, 0.007\n",
      "55: Feature: frec dia 3, 0.007\n",
      "56: Feature: frec LG, 0.007\n",
      "57: Feature: frec dia 9, 0.007\n",
      "58: Feature: total conversion, 0.007\n",
      "59: Feature: frec dia 5, 0.006\n",
      "60: Feature: frec dia 4, 0.006\n",
      "61: Feature: frec dia 27, 0.006\n",
      "62: Feature: frec dia 13, 0.006\n",
      "63: Feature: frec dia 21, 0.006\n",
      "64: Feature: frec dia 8, 0.006\n",
      "65: Feature: frec dia 17, 0.006\n",
      "66: Feature: frec Lenovo, 0.006\n",
      "67: Feature: frec dia 19, 0.006\n",
      "68: Feature: frec dia 7, 0.005\n",
      "69: Feature: frec dia 6, 0.005\n",
      "70: Feature: frec 256GB, 0.005\n",
      "71: Feature: frec Sony, 0.005\n",
      "72: Feature: frec dia 20, 0.005\n",
      "73: Feature: frec dia 12, 0.005\n",
      "74: Feature: frec dia 16, 0.005\n",
      "75: Feature: frec dia 14, 0.005\n",
      "76: Feature: frec staticpage, 0.005\n",
      "77: Feature: total_febrero, 0.005\n",
      "78: Feature: frec dia 1, 0.004\n",
      "79: Feature: frec dia 15, 0.004\n",
      "80: Feature: frec 4GB, 0.004\n",
      "81: Feature: total staticpage, 0.004\n",
      "82: Feature: frec dia 10, 0.004\n",
      "83: Feature: frec Asus, 0.004\n",
      "84: Feature: frec iPad, 0.003\n",
      "85: Feature: frec 512MB, 0.002\n",
      "86: Feature: frec Novo, 0.002\n",
      "87: Feature: frec lead, 0.002\n",
      "88: Feature: frec Tablet, 0.002\n",
      "89: Feature: frec Quantum, 0.002\n",
      "90: Feature: total lead, 0.001\n"
     ]
    },
    {
     "name": "stderr",
     "output_type": "stream",
     "text": [
      "[Parallel(n_jobs=1)]: Done   3 out of   3 | elapsed:    6.5s finished\n"
     ]
    },
    {
     "data": {
      "text/plain": [
       "'RF1 90 features m\\xc3\\xa1s importantes: AUC 0.8520 +/- 0.0048'"
      ]
     },
     "execution_count": 159,
     "metadata": {},
     "output_type": "execute_result"
    }
   ],
   "source": [
    "#Y si subo la cantidad de features importantes?\n",
    "\n",
    "top_features = feature_importances(train_RF2, X.columns, n=90)\n",
    "scores = cross_val_score(estimator=clfRF1,X=X.loc[:,top_features], y=y, cv=3, scoring=\"roc_auc\", verbose=True)\n",
    "\n",
    "\"RF1 %d features más importantes: AUC %.4f +/- %.4f\" % (len(top_features), scores.mean(), scores.std())"
   ]
  },
  {
   "cell_type": "code",
   "execution_count": 160,
   "metadata": {},
   "outputs": [
    {
     "name": "stdout",
     "output_type": "stream",
     "text": [
      "('total del set de entrenamiento que convirtieron:', 980)\n",
      "('total del set de entrenamiento que predice que convertir\\xc3\\xa1n, prediciendo con set completo:', 978)\n",
      "('total del set de entrenamiento que predice que convertir\\xc3\\xa1n, prediciendo con train_set:', 779)\n"
     ]
    }
   ],
   "source": [
    "#Veamos cuantos predice que convierten en los 15 primeros días de junio el modelo completo\n",
    "print('total del set de entrenamiento que convirtieron:', labels['label'].sum())\n",
    "\n",
    "clfRF1.fit(X,y)\n",
    "prediccionTest = clfRF1.predict(X=X)\n",
    "print('total del set de entrenamiento que predice que convertirán, prediciendo con set completo:',pd.Series(prediccionTest).sum())\n",
    "\n",
    "#Veamos cuantos predice que convierten en los 15 primeros días de junio el modelo completo\n",
    "train_RF2.fit(X_train,y_train)\n",
    "prediccionTest = train_RF2.predict(X=X)\n",
    "print('total del set de entrenamiento que predice que convertirán, prediciendo con train_set:',pd.Series(prediccionTest).sum())"
   ]
  },
  {
   "cell_type": "markdown",
   "metadata": {},
   "source": [
    "## Vamos a probar otro clasificador: XGBoost"
   ]
  },
  {
   "cell_type": "code",
   "execution_count": 161,
   "metadata": {},
   "outputs": [],
   "source": [
    "#Primero importamos las bibliotecas que necesitaremos\n",
    "import xgboost as xgb"
   ]
  },
  {
   "cell_type": "code",
   "execution_count": 162,
   "metadata": {},
   "outputs": [
    {
     "name": "stdout",
     "output_type": "stream",
     "text": [
      "('Precisi\\xc3\\xb3n trainmodeloBasico con ntree_limit=', 1, ': 95.9415')\n"
     ]
    },
    {
     "name": "stderr",
     "output_type": "stream",
     "text": [
      "[Parallel(n_jobs=1)]: Using backend SequentialBackend with 1 concurrent workers.\n",
      "[Parallel(n_jobs=1)]: Done   3 out of   3 | elapsed:    6.3s finished\n"
     ]
    },
    {
     "name": "stdout",
     "output_type": "stream",
     "text": [
      "AUC usando el modelo entrenado con set de entrenamiento reducido 0.8533 +/- 0.0040\n"
     ]
    },
    {
     "name": "stderr",
     "output_type": "stream",
     "text": [
      "[Parallel(n_jobs=1)]: Using backend SequentialBackend with 1 concurrent workers.\n"
     ]
    },
    {
     "name": "stdout",
     "output_type": "stream",
     "text": [
      "AUC usando el modelo entrenado con set de entrenamiento completo 0.8533 +/- 0.0040\n"
     ]
    },
    {
     "name": "stderr",
     "output_type": "stream",
     "text": [
      "[Parallel(n_jobs=1)]: Done   3 out of   3 | elapsed:    6.3s finished\n"
     ]
    }
   ],
   "source": [
    "#Probamos el modelo más sencillo de XGBoost, con los parámetros por defecto\n",
    "xgbBasico = xgb.XGBClassifier(seed=seed)\n",
    "train_xgbBasico = xgbBasico.fit(X_train, y_train)\n",
    "\n",
    "mejor_n_limit = 0\n",
    "mejor_precision = 0\n",
    "for i in range(200):\n",
    "    prediccion = train_xgbBasico.predict_proba(X_test, ntree_limit=i)\n",
    "    precision = accuracy_score(y_test, prediccion[:,[1]] > 0.5) * 100\n",
    "    if(precision > mejor_precision):\n",
    "        mejor_precision = precision\n",
    "        mejor_n_limit = i\n",
    "    \n",
    "print(\"Precisión trainmodeloBasico con ntree_limit=\",mejor_n_limit,\": %.4f\" % mejor_precision)\n",
    "\n",
    "scores = cross_val_score(estimator=train_xgbBasico,X=X, y=y, cv=3, scoring=\"roc_auc\", verbose=True)\n",
    "print(\"AUC usando el modelo entrenado con set de entrenamiento reducido %.4f +/- %.4f\" % (scores.mean(), scores.std()))\n",
    "\n",
    "xgbBasico.fit(X, y)\n",
    "scores = cross_val_score(estimator=xgbBasico,X=X, y=y, cv=3, scoring=\"roc_auc\", verbose=True)\n",
    "print(\"AUC usando el modelo entrenado con set de entrenamiento completo %.4f +/- %.4f\" % (scores.mean(), scores.std()))"
   ]
  },
  {
   "cell_type": "code",
   "execution_count": 163,
   "metadata": {},
   "outputs": [
    {
     "data": {
      "text/html": [
       "<div>\n",
       "<style scoped>\n",
       "    .dataframe tbody tr th:only-of-type {\n",
       "        vertical-align: middle;\n",
       "    }\n",
       "\n",
       "    .dataframe tbody tr th {\n",
       "        vertical-align: top;\n",
       "    }\n",
       "\n",
       "    .dataframe thead th {\n",
       "        text-align: right;\n",
       "    }\n",
       "</style>\n",
       "<table border=\"1\" class=\"dataframe\">\n",
       "  <thead>\n",
       "    <tr style=\"text-align: right;\">\n",
       "      <th></th>\n",
       "      <th>person</th>\n",
       "      <th>frec ad campaign hit</th>\n",
       "      <th>frec brand listing</th>\n",
       "      <th>frec checkout</th>\n",
       "      <th>frec conversion</th>\n",
       "      <th>frec generic listing</th>\n",
       "      <th>frec lead</th>\n",
       "      <th>frec search engine hit</th>\n",
       "      <th>frec searched products</th>\n",
       "      <th>frec staticpage</th>\n",
       "      <th>...</th>\n",
       "      <th>frec dia 31</th>\n",
       "      <th>frec 128GB</th>\n",
       "      <th>frec 16GB</th>\n",
       "      <th>frec 256GB</th>\n",
       "      <th>frec 32GB</th>\n",
       "      <th>frec 4GB</th>\n",
       "      <th>frec 512MB</th>\n",
       "      <th>frec 64GB</th>\n",
       "      <th>frec 8GB</th>\n",
       "      <th>label</th>\n",
       "    </tr>\n",
       "  </thead>\n",
       "  <tbody>\n",
       "    <tr>\n",
       "      <th>14682</th>\n",
       "      <td>c2acc1c5</td>\n",
       "      <td>0.153846</td>\n",
       "      <td>0.0</td>\n",
       "      <td>0.0</td>\n",
       "      <td>0.0</td>\n",
       "      <td>0.000000</td>\n",
       "      <td>0.0</td>\n",
       "      <td>0.000000</td>\n",
       "      <td>0.000000</td>\n",
       "      <td>0.0</td>\n",
       "      <td>...</td>\n",
       "      <td>1.0</td>\n",
       "      <td>0.1</td>\n",
       "      <td>0.0</td>\n",
       "      <td>0.0</td>\n",
       "      <td>0.1</td>\n",
       "      <td>0.0</td>\n",
       "      <td>0.0</td>\n",
       "      <td>0.8</td>\n",
       "      <td>0.0</td>\n",
       "      <td>True</td>\n",
       "    </tr>\n",
       "    <tr>\n",
       "      <th>18466</th>\n",
       "      <td>f3c6e808</td>\n",
       "      <td>0.217391</td>\n",
       "      <td>0.0</td>\n",
       "      <td>0.0</td>\n",
       "      <td>0.0</td>\n",
       "      <td>0.173913</td>\n",
       "      <td>0.0</td>\n",
       "      <td>0.173913</td>\n",
       "      <td>0.086957</td>\n",
       "      <td>0.0</td>\n",
       "      <td>...</td>\n",
       "      <td>0.0</td>\n",
       "      <td>0.0</td>\n",
       "      <td>0.4</td>\n",
       "      <td>0.0</td>\n",
       "      <td>0.0</td>\n",
       "      <td>0.0</td>\n",
       "      <td>0.0</td>\n",
       "      <td>0.6</td>\n",
       "      <td>0.0</td>\n",
       "      <td>True</td>\n",
       "    </tr>\n",
       "  </tbody>\n",
       "</table>\n",
       "<p>2 rows × 110 columns</p>\n",
       "</div>"
      ],
      "text/plain": [
       "         person  frec ad campaign hit  frec brand listing  frec checkout  \\\n",
       "14682  c2acc1c5              0.153846                 0.0            0.0   \n",
       "18466  f3c6e808              0.217391                 0.0            0.0   \n",
       "\n",
       "       frec conversion  frec generic listing  frec lead  \\\n",
       "14682              0.0              0.000000        0.0   \n",
       "18466              0.0              0.173913        0.0   \n",
       "\n",
       "       frec search engine hit  frec searched products  frec staticpage  ...    \\\n",
       "14682                0.000000                0.000000              0.0  ...     \n",
       "18466                0.173913                0.086957              0.0  ...     \n",
       "\n",
       "       frec dia 31  frec 128GB  frec 16GB  frec 256GB  frec 32GB  frec 4GB  \\\n",
       "14682          1.0         0.1        0.0         0.0        0.1       0.0   \n",
       "18466          0.0         0.0        0.4         0.0        0.0       0.0   \n",
       "\n",
       "       frec 512MB  frec 64GB  frec 8GB  label  \n",
       "14682         0.0        0.8       0.0   True  \n",
       "18466         0.0        0.6       0.0   True  \n",
       "\n",
       "[2 rows x 110 columns]"
      ]
     },
     "execution_count": 163,
     "metadata": {},
     "output_type": "execute_result"
    }
   ],
   "source": [
    "#Una de las particularidades de XGBoost es que es los primeros árboles generados suelen ser más importantes\n",
    "#Entonces, vamos a probar ordenando el set de entrenamiento\n",
    "X_y = features.merge(labels, on='person', how='inner')\n",
    "X_y.sort_values(by='label', ascending=False, inplace=True)\n",
    "X_y.head(2)"
   ]
  },
  {
   "cell_type": "code",
   "execution_count": 164,
   "metadata": {},
   "outputs": [],
   "source": [
    "#Creamos los features ordenando por label (los que están en true, primero)\n",
    "X_ordenado = X_y.drop('person', axis=1)\n",
    "y_ordenado = X_ordenado.pop('label')\n",
    "\n",
    "#Ordenamos los sets que tenemos de entrenamiento In [9]: result = pd.concat([df1, df4], axis=1, sort=False)\n",
    "\n",
    "X_train_ordenado = pd.concat([X_train,y_train], axis=1)\n",
    "X_train_ordenado.sort_values(by='label', ascending=False, inplace=True)\n",
    "y_train_ordenado = X_train_ordenado.pop('label')"
   ]
  },
  {
   "cell_type": "code",
   "execution_count": 165,
   "metadata": {},
   "outputs": [
    {
     "name": "stdout",
     "output_type": "stream",
     "text": [
      "('Precisi\\xc3\\xb3n modeloBasico con ntree_limit=', 1, ': 95.94')\n"
     ]
    },
    {
     "name": "stderr",
     "output_type": "stream",
     "text": [
      "[Parallel(n_jobs=1)]: Using backend SequentialBackend with 1 concurrent workers.\n",
      "[Parallel(n_jobs=1)]: Done   3 out of   3 | elapsed:    6.4s finished\n",
      "[Parallel(n_jobs=1)]: Using backend SequentialBackend with 1 concurrent workers.\n"
     ]
    },
    {
     "name": "stdout",
     "output_type": "stream",
     "text": [
      "AUC usando trainOrdenado_xgbBasico con datos sin ordenar 0.85 +/- 0.00\n"
     ]
    },
    {
     "name": "stderr",
     "output_type": "stream",
     "text": [
      "[Parallel(n_jobs=1)]: Done   3 out of   3 | elapsed:    6.2s finished\n"
     ]
    },
    {
     "name": "stdout",
     "output_type": "stream",
     "text": [
      "AUC usando trainOrdenado_xgbBasico con datos ordenados 0.85 +/- 0.01\n"
     ]
    },
    {
     "name": "stderr",
     "output_type": "stream",
     "text": [
      "[Parallel(n_jobs=1)]: Using backend SequentialBackend with 1 concurrent workers.\n",
      "[Parallel(n_jobs=1)]: Done   3 out of   3 | elapsed:    6.2s finished\n"
     ]
    },
    {
     "name": "stdout",
     "output_type": "stream",
     "text": [
      "AUC usando xgbBasicoOrdenado con datos ordenados 0.85 +/- 0.01\n"
     ]
    },
    {
     "name": "stderr",
     "output_type": "stream",
     "text": [
      "[Parallel(n_jobs=1)]: Using backend SequentialBackend with 1 concurrent workers.\n"
     ]
    },
    {
     "name": "stdout",
     "output_type": "stream",
     "text": [
      "AUC usando el modelo xgbBasico con datos ordenados 0.85 +/- 0.01\n"
     ]
    },
    {
     "name": "stderr",
     "output_type": "stream",
     "text": [
      "[Parallel(n_jobs=1)]: Done   3 out of   3 | elapsed:    6.4s finished\n"
     ]
    }
   ],
   "source": [
    "#Repetimos las pruebas con el set ordenado\n",
    "#Entonces, vamos a probar ordenando el set de entrenamiento\n",
    "#Probamos el modelo más sencillo de XGBoost, con los parámetros por defecto\n",
    "trainOrdenado_xgbBasico= xgbBasico.fit(X_train_ordenado, y_train_ordenado).fit(X_train_ordenado, y_train_ordenado)\n",
    "\n",
    "mejor_n_limit = 0\n",
    "mejor_precision = 0\n",
    "for i in range(200):\n",
    "    prediccion = trainOrdenado_xgbBasico.predict_proba(X_test, ntree_limit=i)\n",
    "    precision = accuracy_score(y_test, prediccion[:,[1]] > 0.5) * 100\n",
    "    if(precision > mejor_precision):\n",
    "        mejor_precision = precision\n",
    "        mejor_n_limit = i\n",
    "    \n",
    "print(\"Precisión modeloBasico con ntree_limit=\",mejor_n_limit,\": %.2f\" % mejor_precision)\n",
    "\n",
    "scores = cross_val_score(estimator=trainOrdenado_xgbBasico,X=X, y=y, cv=3, scoring=\"roc_auc\", verbose=True)\n",
    "print(\"AUC usando trainOrdenado_xgbBasico con datos sin ordenar %.2f +/- %.2f\" % (scores.mean(), scores.std()))\n",
    "\n",
    "scores = cross_val_score(estimator=trainOrdenado_xgbBasico,X=X_ordenado, y=y_ordenado, cv=3, scoring=\"roc_auc\", verbose=True)\n",
    "print(\"AUC usando trainOrdenado_xgbBasico con datos ordenados %.2f +/- %.2f\" % (scores.mean(), scores.std()))\n",
    "\n",
    "xgbBasicoOrdenado = xgbBasico.fit(X_ordenado, y_ordenado)\n",
    "scores = cross_val_score(estimator=xgbBasicoOrdenado,X=X_ordenado, y=y_ordenado, cv=3, scoring=\"roc_auc\", verbose=True)\n",
    "print(\"AUC usando xgbBasicoOrdenado con datos ordenados %.2f +/- %.2f\" % (scores.mean(), scores.std()))\n",
    "\n",
    "xgbBasico.fit(X, y)\n",
    "scores = cross_val_score(estimator=xgbBasico,X=X_ordenado, y=y_ordenado, cv=3, scoring=\"roc_auc\", verbose=True)\n",
    "print(\"AUC usando el modelo xgbBasico con datos ordenados %.2f +/- %.2f\" % (scores.mean(), scores.std()))"
   ]
  },
  {
   "cell_type": "code",
   "execution_count": 179,
   "metadata": {},
   "outputs": [
    {
     "name": "stdout",
     "output_type": "stream",
     "text": [
      "1: Feature: frec checkout, 0.135\n",
      "2: Feature: total_mayo, 0.077\n",
      "3: Feature: frec conversion, 0.064\n",
      "4: Feature: frec Computer, 0.047\n",
      "5: Feature: frec Smartphone, 0.039\n",
      "6: Feature: total viewed product, 0.034\n",
      "7: Feature: frec brand listing, 0.033\n",
      "8: Feature: frec dia 31, 0.031\n",
      "9: Feature: frec ad campaign hit, 0.025\n",
      "10: Feature: frec 8GB, 0.021\n",
      "11: Feature: total checkout, 0.018\n",
      "12: Feature: frec search engine hit, 0.016\n",
      "13: Feature: total_marzo, 0.016\n",
      "14: Feature: frec Excelente, 0.016\n",
      "15: Feature: frec dia 2, 0.016\n",
      "16: Feature: frec dia 4, 0.016\n",
      "17: Feature: frec viewed product, 0.015\n",
      "18: Feature: frec iPhone, 0.015\n",
      "19: Feature: frec dia 30, 0.015\n",
      "20: Feature: frec 64GB, 0.015\n",
      "21: Feature: frec visited site, 0.013\n",
      "22: Feature: frec 16GB, 0.013\n",
      "23: Feature: frec generic listing, 0.012\n",
      "24: Feature: frec searched products, 0.012\n",
      "25: Feature: total brand listing, 0.012\n",
      "26: Feature: total conversion, 0.012\n",
      "27: Feature: frec Saturday, 0.012\n",
      "28: Feature: frec dia 5, 0.012\n",
      "29: Feature: total visited site, 0.010\n",
      "30: Feature: frec Bom - Sem Touch ID, 0.010\n"
     ]
    }
   ],
   "source": [
    "#Features mas importantes para XGBoost basico?\n",
    "top_features = feature_importances(xgbBasico, X.columns, n=30)"
   ]
  },
  {
   "cell_type": "code",
   "execution_count": 181,
   "metadata": {},
   "outputs": [
    {
     "data": {
      "image/png": "[encoded data removed]",
      "text/plain": [
       "<Figure size 1800x1800 with 1 Axes>"
      ]
     },
     "metadata": {
      "needs_background": "light"
     },
     "output_type": "display_data"
    }
   ],
   "source": [
    "feature_importances_plt = pd.DataFrame(xgbBasico.feature_importances_,index = X_train.columns,\n",
    "                                   columns=['importance'])\n",
    "asd=feature_importances_plt.reset_index()\n",
    "asd=asd.sort_values('importance',ascending=False).head(10)\n",
    "asd\n",
    "asd.plot(x='index',y='importance',kind='bar',figsize=(25,25),fontsize=13,rot=0)\n",
    "plt.title(\"Importancia de las mejores 10 features\", size=20)\n",
    "plt.xlabel(\"Feature\",size=15)\n",
    "plt.ylabel(\"Importancia\",size=15)\n",
    "plt.show()"
   ]
  },
  {
   "cell_type": "code",
   "execution_count": 167,
   "metadata": {},
   "outputs": [
    {
     "name": "stderr",
     "output_type": "stream",
     "text": [
      "[Parallel(n_jobs=1)]: Using backend SequentialBackend with 1 concurrent workers.\n"
     ]
    },
    {
     "name": "stdout",
     "output_type": "stream",
     "text": [
      "AUC usando el modelo xgbBasicoOrdenado entrenado con top features y datos ordenados 0.8526 +/- 0.0060\n"
     ]
    },
    {
     "name": "stderr",
     "output_type": "stream",
     "text": [
      "[Parallel(n_jobs=1)]: Done   3 out of   3 | elapsed:    6.2s finished\n"
     ]
    }
   ],
   "source": [
    "xgbBasicoOrdenado.fit(X_ordenado.loc[:,top_features], y_ordenado)\n",
    "scores = cross_val_score(estimator=xgbBasicoOrdenado,X=X_ordenado, y=y_ordenado, cv=3, scoring=\"roc_auc\", verbose=True)\n",
    "print(\"AUC usando el modelo xgbBasicoOrdenado entrenado con top features y datos ordenados %.4f +/- %.4f\" % (scores.mean(), scores.std()))"
   ]
  },
  {
   "cell_type": "markdown",
   "metadata": {},
   "source": [
    "## Preparamos los datos que necesitamos clasificar"
   ]
  },
  {
   "cell_type": "code",
   "execution_count": 168,
   "metadata": {},
   "outputs": [
    {
     "name": "stdout",
     "output_type": "stream",
     "text": [
      "('cantidad de datos:', 19415)\n"
     ]
    },
    {
     "data": {
      "text/html": [
       "<div>\n",
       "<style scoped>\n",
       "    .dataframe tbody tr th:only-of-type {\n",
       "        vertical-align: middle;\n",
       "    }\n",
       "\n",
       "    .dataframe tbody tr th {\n",
       "        vertical-align: top;\n",
       "    }\n",
       "\n",
       "    .dataframe thead th {\n",
       "        text-align: right;\n",
       "    }\n",
       "</style>\n",
       "<table border=\"1\" class=\"dataframe\">\n",
       "  <thead>\n",
       "    <tr style=\"text-align: right;\">\n",
       "      <th></th>\n",
       "      <th>person</th>\n",
       "      <th>frec ad campaign hit</th>\n",
       "      <th>frec brand listing</th>\n",
       "      <th>frec checkout</th>\n",
       "      <th>frec conversion</th>\n",
       "      <th>frec generic listing</th>\n",
       "      <th>frec lead</th>\n",
       "      <th>frec search engine hit</th>\n",
       "      <th>frec searched products</th>\n",
       "      <th>frec staticpage</th>\n",
       "      <th>...</th>\n",
       "      <th>frec dia 30</th>\n",
       "      <th>frec dia 31</th>\n",
       "      <th>frec 128GB</th>\n",
       "      <th>frec 16GB</th>\n",
       "      <th>frec 256GB</th>\n",
       "      <th>frec 32GB</th>\n",
       "      <th>frec 4GB</th>\n",
       "      <th>frec 512MB</th>\n",
       "      <th>frec 64GB</th>\n",
       "      <th>frec 8GB</th>\n",
       "    </tr>\n",
       "  </thead>\n",
       "  <tbody>\n",
       "    <tr>\n",
       "      <th>0</th>\n",
       "      <td>4886f805</td>\n",
       "      <td>0.000000</td>\n",
       "      <td>0.000000</td>\n",
       "      <td>0.111111</td>\n",
       "      <td>0.0</td>\n",
       "      <td>0.111111</td>\n",
       "      <td>0.000000</td>\n",
       "      <td>0.111111</td>\n",
       "      <td>0.111111</td>\n",
       "      <td>0.0</td>\n",
       "      <td>...</td>\n",
       "      <td>0.000000</td>\n",
       "      <td>0.000000</td>\n",
       "      <td>0.000000</td>\n",
       "      <td>0.000000</td>\n",
       "      <td>0.000000</td>\n",
       "      <td>1.000000</td>\n",
       "      <td>0.0</td>\n",
       "      <td>0.0</td>\n",
       "      <td>0.000000</td>\n",
       "      <td>0.0</td>\n",
       "    </tr>\n",
       "    <tr>\n",
       "      <th>1</th>\n",
       "      <td>0297fc1e</td>\n",
       "      <td>0.051146</td>\n",
       "      <td>0.007055</td>\n",
       "      <td>0.012346</td>\n",
       "      <td>0.0</td>\n",
       "      <td>0.037037</td>\n",
       "      <td>0.001764</td>\n",
       "      <td>0.000000</td>\n",
       "      <td>0.010582</td>\n",
       "      <td>0.0</td>\n",
       "      <td>...</td>\n",
       "      <td>0.024691</td>\n",
       "      <td>0.007055</td>\n",
       "      <td>0.121655</td>\n",
       "      <td>0.311436</td>\n",
       "      <td>0.014599</td>\n",
       "      <td>0.082725</td>\n",
       "      <td>0.0</td>\n",
       "      <td>0.0</td>\n",
       "      <td>0.469586</td>\n",
       "      <td>0.0</td>\n",
       "    </tr>\n",
       "  </tbody>\n",
       "</table>\n",
       "<p>2 rows × 109 columns</p>\n",
       "</div>"
      ],
      "text/plain": [
       "     person  frec ad campaign hit  frec brand listing  frec checkout  \\\n",
       "0  4886f805              0.000000            0.000000       0.111111   \n",
       "1  0297fc1e              0.051146            0.007055       0.012346   \n",
       "\n",
       "   frec conversion  frec generic listing  frec lead  frec search engine hit  \\\n",
       "0              0.0              0.111111   0.000000                0.111111   \n",
       "1              0.0              0.037037   0.001764                0.000000   \n",
       "\n",
       "   frec searched products  frec staticpage    ...     frec dia 30  \\\n",
       "0                0.111111              0.0    ...        0.000000   \n",
       "1                0.010582              0.0    ...        0.024691   \n",
       "\n",
       "   frec dia 31  frec 128GB  frec 16GB  frec 256GB  frec 32GB  frec 4GB  \\\n",
       "0     0.000000    0.000000   0.000000    0.000000   1.000000       0.0   \n",
       "1     0.007055    0.121655   0.311436    0.014599   0.082725       0.0   \n",
       "\n",
       "   frec 512MB  frec 64GB  frec 8GB  \n",
       "0         0.0   0.000000       0.0  \n",
       "1         0.0   0.469586       0.0  \n",
       "\n",
       "[2 rows x 109 columns]"
      ]
     },
     "execution_count": 168,
     "metadata": {},
     "output_type": "execute_result"
    }
   ],
   "source": [
    "datosTest = clientesAEvaluar.merge(features, on='person',how='inner')\n",
    "print('cantidad de datos:',len(datosTest))\n",
    "datosTest.head(2)"
   ]
  },
  {
   "cell_type": "code",
   "execution_count": 169,
   "metadata": {},
   "outputs": [
    {
     "name": "stdout",
     "output_type": "stream",
     "text": [
      "('cantidad de personas en total:', 38829)\n",
      "('cantidad de personas para training:', 19414)\n",
      "('cantidad de personas para evaluar:', 19415)\n",
      "('cantidad de personas en clientes agrupados:', 38829)\n"
     ]
    }
   ],
   "source": [
    "#Verifico que no se hayan \"perdido\" filas en el camino (un merge mal definido capaz?)\n",
    "print('cantidad de personas en total:',len(eventos['person'].unique()))\n",
    "print('cantidad de personas para training:',len(labels))\n",
    "print('cantidad de personas para evaluar:',len(clientesAEvaluar))\n",
    "print('cantidad de personas en clientes agrupados:',len(features))"
   ]
  },
  {
   "cell_type": "code",
   "execution_count": 170,
   "metadata": {},
   "outputs": [],
   "source": [
    "#Haciendo las predicciones con el modelo de Random Forest\n",
    "prediccionRandomForest = clfRF1.predict_proba(X=datosTest.drop('person', axis=1).fillna(0))"
   ]
  },
  {
   "cell_type": "code",
   "execution_count": 171,
   "metadata": {},
   "outputs": [
    {
     "name": "stdout",
     "output_type": "stream",
     "text": [
      "16084\tclientes con p > 0.00 de convertir\n",
      "16084\tclientes con p > 0.00 de convertir\n",
      "16084\tclientes con p > 0.00 de convertir\n",
      "16084\tclientes con p > 0.00 de convertir\n",
      "16084\tclientes con p > 0.00 de convertir\n"
     ]
    }
   ],
   "source": [
    "for i in range(1,6):\n",
    "    print('%d\\tclientes con p > %.2f de convertir' % ((prediccionRandomForest[:,[1]] > i/10).sum(),i/10))"
   ]
  },
  {
   "cell_type": "code",
   "execution_count": 172,
   "metadata": {},
   "outputs": [
    {
     "name": "stdout",
     "output_type": "stream",
     "text": [
      "19415\tclientes con p > 0.00 de convertir\n",
      "19415\tclientes con p > 0.00 de convertir\n",
      "19415\tclientes con p > 0.00 de convertir\n",
      "19415\tclientes con p > 0.00 de convertir\n",
      "19415\tclientes con p > 0.00 de convertir\n"
     ]
    }
   ],
   "source": [
    "#Haciendo predicciones con el modelo básico de XGBoost entrenado con los datos ordenados por label\n",
    "'''prediccionXGBoostBasicoOrdenado = modeloBasico.predict_proba(data=datosTest.drop('person', axis=1).fillna(0),\n",
    "                                                        ntree_limit=mejor_n_limit) \n",
    "\"Habrá que ver si no \"overfittea\" al ponerle el mejor n_limit'''\n",
    "\n",
    "xgbBasico.fit(X_ordenado, y_ordenado)\n",
    "prediccionXGBoostBasicoOrdenado = xgbBasico.predict_proba(data=datosTest.drop('person', axis=1).fillna(0))\n",
    "\n",
    "for i in range(1,6):\n",
    "    print('%d\\tclientes con p > %.2f de convertir' % ((prediccionXGBoostBasicoOrdenado[:,[1]] > i/10).sum(),i/10))"
   ]
  },
  {
   "cell_type": "code",
   "execution_count": 173,
   "metadata": {},
   "outputs": [
    {
     "name": "stdout",
     "output_type": "stream",
     "text": [
      "19415\tclientes con p > 0.00 de convertir\n",
      "19415\tclientes con p > 0.00 de convertir\n",
      "19415\tclientes con p > 0.00 de convertir\n",
      "19415\tclientes con p > 0.00 de convertir\n",
      "19415\tclientes con p > 0.00 de convertir\n"
     ]
    }
   ],
   "source": [
    "#Haciendo predicciones con el modelo básico de XGBoost entrenado con los datos sin ordenar\n",
    "\n",
    "xgbBasico.fit(X, y)\n",
    "prediccionXGBoostBasico = xgbBasico.predict_proba(data=datosTest.drop('person', axis=1).fillna(0))\n",
    "\n",
    "for i in range(1,6):\n",
    "    print('%d\\tclientes con p > %.2f de convertir' % ((prediccionXGBoostBasico[:,[1]] > i/10).sum(),i/10))"
   ]
  },
  {
   "cell_type": "code",
   "execution_count": 174,
   "metadata": {},
   "outputs": [
    {
     "data": {
      "text/html": [
       "<div>\n",
       "<style scoped>\n",
       "    .dataframe tbody tr th:only-of-type {\n",
       "        vertical-align: middle;\n",
       "    }\n",
       "\n",
       "    .dataframe tbody tr th {\n",
       "        vertical-align: top;\n",
       "    }\n",
       "\n",
       "    .dataframe thead th {\n",
       "        text-align: right;\n",
       "    }\n",
       "</style>\n",
       "<table border=\"1\" class=\"dataframe\">\n",
       "  <thead>\n",
       "    <tr style=\"text-align: right;\">\n",
       "      <th></th>\n",
       "      <th>person</th>\n",
       "      <th>label</th>\n",
       "    </tr>\n",
       "  </thead>\n",
       "  <tbody>\n",
       "    <tr>\n",
       "      <th>0</th>\n",
       "      <td>4886f805</td>\n",
       "      <td>0.007627</td>\n",
       "    </tr>\n",
       "    <tr>\n",
       "      <th>1</th>\n",
       "      <td>0297fc1e</td>\n",
       "      <td>0.034365</td>\n",
       "    </tr>\n",
       "    <tr>\n",
       "      <th>2</th>\n",
       "      <td>2d681dd8</td>\n",
       "      <td>0.017547</td>\n",
       "    </tr>\n",
       "    <tr>\n",
       "      <th>3</th>\n",
       "      <td>cccea85e</td>\n",
       "      <td>0.075895</td>\n",
       "    </tr>\n",
       "    <tr>\n",
       "      <th>4</th>\n",
       "      <td>4c8a8b93</td>\n",
       "      <td>0.030089</td>\n",
       "    </tr>\n",
       "  </tbody>\n",
       "</table>\n",
       "</div>"
      ],
      "text/plain": [
       "     person     label\n",
       "0  4886f805  0.007627\n",
       "1  0297fc1e  0.034365\n",
       "2  2d681dd8  0.017547\n",
       "3  cccea85e  0.075895\n",
       "4  4c8a8b93  0.030089"
      ]
     },
     "execution_count": 174,
     "metadata": {},
     "output_type": "execute_result"
    }
   ],
   "source": [
    "#Si nos quedamos con el modelo de XGBoost\n",
    "clientesAEvaluar['label'] = prediccionXGBoostBasico[:,[1]]\n",
    "clientesAEvaluar.head()"
   ]
  },
  {
   "cell_type": "code",
   "execution_count": 175,
   "metadata": {},
   "outputs": [],
   "source": [
    "#Exportamos el archivo a subir. De esta manera tiene el formato correcto. \n",
    "#Notar que así lo deja en el directorio de la notebook\n",
    "clientesAEvaluar.to_csv('entrega_XGBoostBasico 3 0.85647.csv',index=False)\n",
    "#Esta entrega dio 0.85647"
   ]
  },
  {
   "cell_type": "markdown",
   "metadata": {},
   "source": [
    "#### Con la entrega anterior llegamos a 0.85443."
   ]
  },
  {
   "cell_type": "code",
   "execution_count": 176,
   "metadata": {},
   "outputs": [
    {
     "data": {
      "text/html": [
       "<div>\n",
       "<style scoped>\n",
       "    .dataframe tbody tr th:only-of-type {\n",
       "        vertical-align: middle;\n",
       "    }\n",
       "\n",
       "    .dataframe tbody tr th {\n",
       "        vertical-align: top;\n",
       "    }\n",
       "\n",
       "    .dataframe thead th {\n",
       "        text-align: right;\n",
       "    }\n",
       "</style>\n",
       "<table border=\"1\" class=\"dataframe\">\n",
       "  <thead>\n",
       "    <tr style=\"text-align: right;\">\n",
       "      <th></th>\n",
       "      <th>person</th>\n",
       "      <th>label</th>\n",
       "    </tr>\n",
       "  </thead>\n",
       "  <tbody>\n",
       "    <tr>\n",
       "      <th>0</th>\n",
       "      <td>4886f805</td>\n",
       "      <td>0.003813</td>\n",
       "    </tr>\n",
       "    <tr>\n",
       "      <th>1</th>\n",
       "      <td>0297fc1e</td>\n",
       "      <td>0.054182</td>\n",
       "    </tr>\n",
       "    <tr>\n",
       "      <th>2</th>\n",
       "      <td>2d681dd8</td>\n",
       "      <td>0.014774</td>\n",
       "    </tr>\n",
       "    <tr>\n",
       "      <th>3</th>\n",
       "      <td>cccea85e</td>\n",
       "      <td>0.123948</td>\n",
       "    </tr>\n",
       "    <tr>\n",
       "      <th>4</th>\n",
       "      <td>4c8a8b93</td>\n",
       "      <td>0.030044</td>\n",
       "    </tr>\n",
       "  </tbody>\n",
       "</table>\n",
       "</div>"
      ],
      "text/plain": [
       "     person     label\n",
       "0  4886f805  0.003813\n",
       "1  0297fc1e  0.054182\n",
       "2  2d681dd8  0.014774\n",
       "3  cccea85e  0.123948\n",
       "4  4c8a8b93  0.030044"
      ]
     },
     "execution_count": 176,
     "metadata": {},
     "output_type": "execute_result"
    }
   ],
   "source": [
    "#Ensamblando resultados de XGBoost y Random Forest\n",
    "clientesAEvaluar['label'] = (prediccionXGBoostBasico[:,[1]] + prediccionRandomForest[:,[1]])/2\n",
    "clientesAEvaluar.to_csv('/home/nicolas/Descargas/entrega_XGBoostBasico y RF 4 con promedio.csv',index=False)\n",
    "clientesAEvaluar.head()"
   ]
  },
  {
   "cell_type": "code",
   "execution_count": 177,
   "metadata": {},
   "outputs": [
    {
     "name": "stdout",
     "output_type": "stream",
     "text": [
      "este es el de mejor resultado: 0.86189\n"
     ]
    }
   ],
   "source": [
    "#Otro ensamble, en lugar del promedio, asignarle pesos\n",
    "clientesAEvaluar['label'] = (prediccionXGBoostBasico[:,[1]] * 0.6 + prediccionRandomForest[:,[1]] * 0.4)\n",
    "clientesAEvaluar.to_csv('/home/nicolas/Descargas/entrega_XGBoostBasico y RF 2.csv',index=False)\n",
    "clientesAEvaluar.head(2)\n",
    "print('este es el de mejor resultado: 0.86189')"
   ]
  },
  {
   "cell_type": "code",
   "execution_count": 178,
   "metadata": {},
   "outputs": [
    {
     "data": {
      "text/html": [
       "<div>\n",
       "<style scoped>\n",
       "    .dataframe tbody tr th:only-of-type {\n",
       "        vertical-align: middle;\n",
       "    }\n",
       "\n",
       "    .dataframe tbody tr th {\n",
       "        vertical-align: top;\n",
       "    }\n",
       "\n",
       "    .dataframe thead th {\n",
       "        text-align: right;\n",
       "    }\n",
       "</style>\n",
       "<table border=\"1\" class=\"dataframe\">\n",
       "  <thead>\n",
       "    <tr style=\"text-align: right;\">\n",
       "      <th></th>\n",
       "      <th>person</th>\n",
       "      <th>label</th>\n",
       "    </tr>\n",
       "  </thead>\n",
       "  <tbody>\n",
       "    <tr>\n",
       "      <th>0</th>\n",
       "      <td>4886f805</td>\n",
       "      <td>0.003051</td>\n",
       "    </tr>\n",
       "    <tr>\n",
       "      <th>1</th>\n",
       "      <td>0297fc1e</td>\n",
       "      <td>0.058146</td>\n",
       "    </tr>\n",
       "    <tr>\n",
       "      <th>2</th>\n",
       "      <td>2d681dd8</td>\n",
       "      <td>0.014219</td>\n",
       "    </tr>\n",
       "    <tr>\n",
       "      <th>3</th>\n",
       "      <td>cccea85e</td>\n",
       "      <td>0.133558</td>\n",
       "    </tr>\n",
       "    <tr>\n",
       "      <th>4</th>\n",
       "      <td>4c8a8b93</td>\n",
       "      <td>0.030035</td>\n",
       "    </tr>\n",
       "  </tbody>\n",
       "</table>\n",
       "</div>"
      ],
      "text/plain": [
       "     person     label\n",
       "0  4886f805  0.003051\n",
       "1  0297fc1e  0.058146\n",
       "2  2d681dd8  0.014219\n",
       "3  cccea85e  0.133558\n",
       "4  4c8a8b93  0.030035"
      ]
     },
     "execution_count": 178,
     "metadata": {},
     "output_type": "execute_result"
    }
   ],
   "source": [
    "#Otro ensamble, en lugar del promedio, asignarle pesos\n",
    "clientesAEvaluar['label'] = (prediccionXGBoostBasico[:,[1]] * 0.4 + prediccionRandomForest[:,[1]] * 0.6)\n",
    "clientesAEvaluar.to_csv('/home/nicolas/Descargas/entrega_XGBoostBasico y RF 3.csv',index=False)\n",
    "clientesAEvaluar.head()\n"
   ]
  },
  {
   "cell_type": "code",
   "execution_count": 201,
   "metadata": {},
   "outputs": [
    {
     "data": {
      "image/png": "[encoded data removed]",
      "text/plain": [
       "<Figure size 720x720 with 1 Axes>"
      ]
     },
     "metadata": {
      "needs_background": "light"
     },
     "output_type": "display_data"
    }
   ],
   "source": [
    "#random forest 20 features: AUC 0.8510 +/- 0.0055\n",
    "#random forest 90 features:  AUC 0.8520 +/- 0.0048'\n",
    "#XGBoost: 0.8533 +/- 0.0040\n",
    "#ensamble random forest XGBoost 0.86189\n",
    "\n",
    "featu_plt=['RF 20 features','RF 90 features','XGBoost','ensamble']\n",
    "result_plt=[0.8510,0.8520,0.8533,0.8619]\n",
    "\n",
    "featu=pd.DataFrame(featu_plt,columns=['algoritmo'])\n",
    "featu['resultado']=result_plt\n",
    "featu.plot(x='algoritmo',y='resultado',kind='bar',figsize=(10,10),fontsize=12,rot=0)\n",
    "plt.title('Precision segun algoritmo')\n",
    "plt.ylim(0.83, 0.87)\n",
    "plt.ylabel(\"Precision\", size=15)\n",
    "plt.xlabel(\"Algoritmo\", size=15)\n",
    "plt.show()"
   ]
  }
 ],
 "metadata": {
  "kernelspec": {
   "display_name": "Python 2",
   "language": "python",
   "name": "python2"
  },
  "language_info": {
   "codemirror_mode": {
    "name": "ipython",
    "version": 2
   },
   "file_extension": ".py",
   "mimetype": "text/x-python",
   "name": "python",
   "nbconvert_exporter": "python",
   "pygments_lexer": "ipython2",
   "version": "2.7.15rc1"
  }
 },
 "nbformat": 4,
 "nbformat_minor": 2
}