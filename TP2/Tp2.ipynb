{
 "cells": [
  {
   "cell_type": "code",
   "execution_count": 1,
   "metadata": {
    "collapsed": true
   },
   "outputs": [],
   "source": [
    "import numpy as np  # Librería para aplicar álgebra lineal\n",
    "import pandas as pd # Para manejar los datos (datasets)\n",
    "\n",
    "'''from sklearn import preprocessing # Para el procesador de los datos\n",
    "from sklearn.preprocessing import Imputer # Para adoptar una estrategia para los missing values\n",
    "from sklearn.preprocessing import LabelEncoder as Codificar # Para codificar variables categóricas\n",
    "from sklearn.preprocessing import OneHotEncoder # Para pasar el LaberEncoder vector a OneHot matriz\n",
    "from sklearn.preprocessing import MinMaxScaler # Para realizar el escalado en escala (0-1)\n",
    "from sklearn.model_selection import train_test_split as Separar # Para dividir en los 2 conjuntos\n",
    "#from statsmodels.tools.eval_measures import rmse # Para calcular el error\n",
    "from sklearn.metrics import confusion_matrix as CM # Para construir la matriz de confusión\n",
    "from matplotlib.colors import ListedColormap as Colors # Para pintar las regiones en Clasificación'''\n",
    "\n",
    "import matplotlib.pyplot as plt # Para las visualizaciones\n",
    "import seaborn as sns # Visualizaciones más fancy\n",
    "\n",
    "\n",
    "#Iremos agregando las bibliotecas a medida que las necesitemos"
   ]
  },
  {
   "cell_type": "code",
   "execution_count": 2,
   "metadata": {
    "collapsed": true
   },
   "outputs": [],
   "source": [
    "#Datos de entrada\n",
    "\n",
    "#Se especifican los tipo de datos para mejorar la performance\n",
    "eventos = pd.read_csv('../TP2018/fiuba-trocafone-tp2-final-set/events_up_to_01062018.csv', \n",
    "                      dtype={\"timestamp\": object,#intenté hacerla datetime y no anduvo \n",
    "                             \"event\": 'category',\n",
    "                             \"person\":object,\n",
    "                             \"url\":object,\n",
    "                             \"sku\":object,\n",
    "                             \"model\":object,\n",
    "                             \"condition\":'category',\n",
    "                             \"storage\":object,\n",
    "                             \"color\":'category',\n",
    "                             \"skus\":object,\n",
    "                             \"search_term\":object,\n",
    "                             \"staticpage\":object,\n",
    "                             \"campaign_source\":object,\n",
    "                             \"search_engine\":object,\n",
    "                             \"channel\":object,\n",
    "                             \"new_vs_returning\":'category',\n",
    "                             \"city\":object,\n",
    "                             \"region\":object,\n",
    "                             \"country\":object,\n",
    "                             \"device_type\":object,\n",
    "                             \"screen_resolution\":object,\n",
    "                             \"operating_system_version\":object,\n",
    "                             \"browser_version\":object})\n",
    "\n",
    "labels = pd.read_csv('../TP2018/fiuba-trocafone-tp2-final-set/labels_training_set.csv',\n",
    "                        dtype={\"person\":object, \"label\":bool})\n",
    "\n",
    "clientesAEvaluar = pd.read_csv('../TP2018/fiuba-trocafone-tp2-final-set/trocafone_kaggle_test.csv')"
   ]
  },
  {
   "cell_type": "code",
   "execution_count": 3,
   "metadata": {},
   "outputs": [
    {
     "data": {
      "text/html": [
       "<div>\n",
       "<style scoped>\n",
       "    .dataframe tbody tr th:only-of-type {\n",
       "        vertical-align: middle;\n",
       "    }\n",
       "\n",
       "    .dataframe tbody tr th {\n",
       "        vertical-align: top;\n",
       "    }\n",
       "\n",
       "    .dataframe thead th {\n",
       "        text-align: right;\n",
       "    }\n",
       "</style>\n",
       "<table border=\"1\" class=\"dataframe\">\n",
       "  <thead>\n",
       "    <tr style=\"text-align: right;\">\n",
       "      <th></th>\n",
       "      <th>timestamp</th>\n",
       "      <th>event</th>\n",
       "      <th>person</th>\n",
       "      <th>url</th>\n",
       "      <th>sku</th>\n",
       "      <th>model</th>\n",
       "      <th>condition</th>\n",
       "      <th>storage</th>\n",
       "      <th>color</th>\n",
       "      <th>skus</th>\n",
       "      <th>...</th>\n",
       "      <th>search_engine</th>\n",
       "      <th>channel</th>\n",
       "      <th>new_vs_returning</th>\n",
       "      <th>city</th>\n",
       "      <th>region</th>\n",
       "      <th>country</th>\n",
       "      <th>device_type</th>\n",
       "      <th>screen_resolution</th>\n",
       "      <th>operating_system_version</th>\n",
       "      <th>browser_version</th>\n",
       "    </tr>\n",
       "  </thead>\n",
       "  <tbody>\n",
       "    <tr>\n",
       "      <th>0</th>\n",
       "      <td>2018-05-18 00:11:59</td>\n",
       "      <td>viewed product</td>\n",
       "      <td>4886f805</td>\n",
       "      <td>NaN</td>\n",
       "      <td>9288.0</td>\n",
       "      <td>Samsung Galaxy J7 Prime</td>\n",
       "      <td>Excelente</td>\n",
       "      <td>32GB</td>\n",
       "      <td>Dourado</td>\n",
       "      <td>NaN</td>\n",
       "      <td>...</td>\n",
       "      <td>NaN</td>\n",
       "      <td>NaN</td>\n",
       "      <td>NaN</td>\n",
       "      <td>NaN</td>\n",
       "      <td>NaN</td>\n",
       "      <td>NaN</td>\n",
       "      <td>NaN</td>\n",
       "      <td>NaN</td>\n",
       "      <td>NaN</td>\n",
       "      <td>NaN</td>\n",
       "    </tr>\n",
       "    <tr>\n",
       "      <th>1</th>\n",
       "      <td>2018-05-18 00:11:27</td>\n",
       "      <td>viewed product</td>\n",
       "      <td>ad93850f</td>\n",
       "      <td>NaN</td>\n",
       "      <td>304.0</td>\n",
       "      <td>iPhone 5s</td>\n",
       "      <td>Muito Bom</td>\n",
       "      <td>32GB</td>\n",
       "      <td>Cinza espacial</td>\n",
       "      <td>NaN</td>\n",
       "      <td>...</td>\n",
       "      <td>NaN</td>\n",
       "      <td>NaN</td>\n",
       "      <td>NaN</td>\n",
       "      <td>NaN</td>\n",
       "      <td>NaN</td>\n",
       "      <td>NaN</td>\n",
       "      <td>NaN</td>\n",
       "      <td>NaN</td>\n",
       "      <td>NaN</td>\n",
       "      <td>NaN</td>\n",
       "    </tr>\n",
       "    <tr>\n",
       "      <th>2</th>\n",
       "      <td>2018-05-18 00:11:16</td>\n",
       "      <td>viewed product</td>\n",
       "      <td>0297fc1e</td>\n",
       "      <td>NaN</td>\n",
       "      <td>6888.0</td>\n",
       "      <td>iPhone 6S</td>\n",
       "      <td>Muito Bom</td>\n",
       "      <td>64GB</td>\n",
       "      <td>Prateado</td>\n",
       "      <td>NaN</td>\n",
       "      <td>...</td>\n",
       "      <td>NaN</td>\n",
       "      <td>NaN</td>\n",
       "      <td>NaN</td>\n",
       "      <td>NaN</td>\n",
       "      <td>NaN</td>\n",
       "      <td>NaN</td>\n",
       "      <td>NaN</td>\n",
       "      <td>NaN</td>\n",
       "      <td>NaN</td>\n",
       "      <td>NaN</td>\n",
       "    </tr>\n",
       "  </tbody>\n",
       "</table>\n",
       "<p>3 rows × 23 columns</p>\n",
       "</div>"
      ],
      "text/plain": [
       "             timestamp           event    person  url     sku  \\\n",
       "0  2018-05-18 00:11:59  viewed product  4886f805  NaN  9288.0   \n",
       "1  2018-05-18 00:11:27  viewed product  ad93850f  NaN   304.0   \n",
       "2  2018-05-18 00:11:16  viewed product  0297fc1e  NaN  6888.0   \n",
       "\n",
       "                     model  condition storage           color skus  \\\n",
       "0  Samsung Galaxy J7 Prime  Excelente    32GB         Dourado  NaN   \n",
       "1                iPhone 5s  Muito Bom    32GB  Cinza espacial  NaN   \n",
       "2                iPhone 6S  Muito Bom    64GB        Prateado  NaN   \n",
       "\n",
       "        ...       search_engine channel new_vs_returning city region country  \\\n",
       "0       ...                 NaN     NaN              NaN  NaN    NaN     NaN   \n",
       "1       ...                 NaN     NaN              NaN  NaN    NaN     NaN   \n",
       "2       ...                 NaN     NaN              NaN  NaN    NaN     NaN   \n",
       "\n",
       "  device_type screen_resolution operating_system_version browser_version  \n",
       "0         NaN               NaN                      NaN             NaN  \n",
       "1         NaN               NaN                      NaN             NaN  \n",
       "2         NaN               NaN                      NaN             NaN  \n",
       "\n",
       "[3 rows x 23 columns]"
      ]
     },
     "execution_count": 3,
     "metadata": {},
     "output_type": "execute_result"
    }
   ],
   "source": [
    "#Revisando el formato de los eventos\n",
    "eventos.head(3)"
   ]
  },
  {
   "cell_type": "code",
   "execution_count": 4,
   "metadata": {},
   "outputs": [
    {
     "name": "stdout",
     "output_type": "stream",
     "text": [
      "Cantidad de clientes que no tenemos clasificados: 19415\n",
      "Cantidad de clientes a clasificar: 19415\n"
     ]
    }
   ],
   "source": [
    "#Confirmando que coinnciden la cantidad de datos a clasificar\n",
    "print('Cantidad de clientes que no tenemos clasificados:', len(eventos['person'].unique())- len(labels))\n",
    "print('Cantidad de clientes a clasificar:',len(clientesAEvaluar))"
   ]
  },
  {
   "cell_type": "code",
   "execution_count": 5,
   "metadata": {},
   "outputs": [
    {
     "name": "stdout",
     "output_type": "stream",
     "text": [
      "Cantidades de conversiones:\n",
      "False    18434\n",
      "True       980\n",
      "Name: label, dtype: int64\n",
      "Proporción de conversiones:\n",
      "False    0.949521\n",
      "True     0.050479\n",
      "Name: label, dtype: float64\n"
     ]
    }
   ],
   "source": [
    "#Analizando los datos de entrenamiento\n",
    "print('Cantidades de conversiones:')\n",
    "print(labels['label'].value_counts())\n",
    "print('Proporción de conversiones:')\n",
    "print(labels['label'].value_counts(normalize=True))"
   ]
  },
  {
   "cell_type": "code",
   "execution_count": 6,
   "metadata": {
    "collapsed": true
   },
   "outputs": [],
   "source": [
    "#Agregamos algunos features a los existentes\n",
    "eventos['timestamp'] =  pd.to_datetime(eventos['timestamp'])\n",
    "eventos[['marca','modelo']] = eventos['model'].dropna().str.split(' ',n=1,expand=True)\n",
    "eventos['weekday'] = eventos['timestamp'].dt.day_name()\n",
    "eventos['hour'] = eventos['timestamp'].dt.hour\n",
    "eventos['month'] = eventos['timestamp'].dt.month\n",
    "eventos['day'] = eventos['timestamp'].dt.day"
   ]
  },
  {
   "cell_type": "code",
   "execution_count": 31,
   "metadata": {},
   "outputs": [],
   "source": [
    "#Creo períodos de tiempo donde ya asignamos a qué mes pertenecen\n",
    "eventos['principio_de_mes'] = ((eventos['day'] < 10) * eventos['month'])\n",
    "eventos['fin_de_mes'] = ((eventos['day'] > 20) * eventos['month'])\n",
    "eventos['mitad_de_mes'] = (((eventos['day'] > 10)  & (eventos['day'] < 21)) * eventos['month'])\n",
    "#eventos.loc[1:10,['principio_de_mes','mitad_de_mes','fin_de_mes']]"
   ]
  },
  {
   "cell_type": "code",
   "execution_count": 30,
   "metadata": {},
   "outputs": [
    {
     "data": {
      "text/html": [
       "<div>\n",
       "<style scoped>\n",
       "    .dataframe tbody tr th:only-of-type {\n",
       "        vertical-align: middle;\n",
       "    }\n",
       "\n",
       "    .dataframe tbody tr th {\n",
       "        vertical-align: top;\n",
       "    }\n",
       "\n",
       "    .dataframe thead th {\n",
       "        text-align: right;\n",
       "    }\n",
       "</style>\n",
       "<table border=\"1\" class=\"dataframe\">\n",
       "  <thead>\n",
       "    <tr style=\"text-align: right;\">\n",
       "      <th>principio_de_mes</th>\n",
       "      <th>person</th>\n",
       "      <th>1</th>\n",
       "      <th>2</th>\n",
       "      <th>3</th>\n",
       "      <th>4</th>\n",
       "      <th>5</th>\n",
       "    </tr>\n",
       "  </thead>\n",
       "  <tbody>\n",
       "    <tr>\n",
       "      <th>0</th>\n",
       "      <td>0008ed71</td>\n",
       "      <td>NaN</td>\n",
       "      <td>NaN</td>\n",
       "      <td>NaN</td>\n",
       "      <td>NaN</td>\n",
       "      <td>NaN</td>\n",
       "    </tr>\n",
       "    <tr>\n",
       "      <th>1</th>\n",
       "      <td>00091926</td>\n",
       "      <td>NaN</td>\n",
       "      <td>NaN</td>\n",
       "      <td>NaN</td>\n",
       "      <td>NaN</td>\n",
       "      <td>53.0</td>\n",
       "    </tr>\n",
       "    <tr>\n",
       "      <th>2</th>\n",
       "      <td>00091a7a</td>\n",
       "      <td>NaN</td>\n",
       "      <td>NaN</td>\n",
       "      <td>NaN</td>\n",
       "      <td>NaN</td>\n",
       "      <td>NaN</td>\n",
       "    </tr>\n",
       "    <tr>\n",
       "      <th>3</th>\n",
       "      <td>000ba417</td>\n",
       "      <td>NaN</td>\n",
       "      <td>NaN</td>\n",
       "      <td>NaN</td>\n",
       "      <td>NaN</td>\n",
       "      <td>NaN</td>\n",
       "    </tr>\n",
       "    <tr>\n",
       "      <th>4</th>\n",
       "      <td>000c79fe</td>\n",
       "      <td>NaN</td>\n",
       "      <td>NaN</td>\n",
       "      <td>NaN</td>\n",
       "      <td>NaN</td>\n",
       "      <td>NaN</td>\n",
       "    </tr>\n",
       "  </tbody>\n",
       "</table>\n",
       "</div>"
      ],
      "text/plain": [
       "principio_de_mes    person   1   2   3   4     5\n",
       "0                 0008ed71 NaN NaN NaN NaN   NaN\n",
       "1                 00091926 NaN NaN NaN NaN  53.0\n",
       "2                 00091a7a NaN NaN NaN NaN   NaN\n",
       "3                 000ba417 NaN NaN NaN NaN   NaN\n",
       "4                 000c79fe NaN NaN NaN NaN   NaN"
      ]
     },
     "execution_count": 30,
     "metadata": {},
     "output_type": "execute_result"
    }
   ],
   "source": [
    "eventos.groupby('person')['principio_de_mes'].value_counts().unstack().reset_index().head().drop(0,axis=1)"
   ]
  },
  {
   "cell_type": "markdown",
   "metadata": {},
   "source": [
    "### Vamos creando features: "
   ]
  },
  {
   "cell_type": "code",
   "execution_count": 33,
   "metadata": {},
   "outputs": [],
   "source": [
    "#Features en base al total de cada evento\n",
    "totalEvento = eventos.groupby('person')['event'].value_counts().unstack().reset_index()\n",
    "totalEvento.rename(lambda x: x if x == 'person' else 'total ' + x, axis = 1, inplace=True)\n",
    "\n",
    "#Features en base a la frecuencia de cada evento sobre el total (frecuencia relativa)\n",
    "frecEvento = eventos.groupby('person')['event'].value_counts(normalize=True).unstack().reset_index()\n",
    "frecEvento.rename(lambda x: x if x == 'person' else 'frec ' + x, axis = 1, inplace=True)\n",
    "\n",
    "#features en base a la frecuencia relativa de la marca de los dispositivos consultados\n",
    "frecMarca = eventos.groupby('person')['marca'].value_counts(normalize=True).unstack().reset_index()\n",
    "frecMarca.rename(lambda x: x if x == 'person' else 'frec ' + x, axis = 1, inplace=True)\n",
    "\n",
    "#features en base a la cantidad (frecuencia total) de eventos por mes\n",
    "totalMes = eventos.groupby('person')['month'].value_counts().unstack().reset_index()\n",
    "totalMes.rename({1:'total_enero',2:'total_febrero',3:'total_marzo',4:'total_abril',5:'total_mayo'}, \n",
    "                inplace=True, axis=1)\n",
    "\n",
    "#features en base a la cantidad de eventos en períodos de aprox 10 días (principio, mitad y fin de mes)\n",
    "totalPrincipioMes = eventos.groupby('person')['principio_de_mes'].value_counts().unstack().reset_index().head().drop(0,axis=1)\n",
    "totalPrincipioMes.rename(lambda x: x if x == 'person' else 'total principio_de_mes ' + str(x), axis = 1, inplace=True)\n",
    "\n",
    "totalMitadMes = eventos.groupby('person')['mitad_de_mes'].value_counts().unstack().reset_index().head().drop(0,axis=1)\n",
    "totalMitadMes.rename(lambda x: x if x == 'person' else 'total mitad_de_mes ' + str(x), axis = 1, inplace=True)\n",
    "\n",
    "totalFinMes = eventos.groupby('person')['fin_de_mes'].value_counts().unstack().reset_index().head().drop(0,axis=1)\n",
    "totalFinMes.rename(lambda x: x if x == 'person' else 'total fin_de_mes ' + str(x), axis = 1, inplace=True)\n",
    "\n",
    "\n",
    "#features en base a la frecuencia relativa de los dispositivos desde los que se accede\n",
    "frecDispositivo = eventos.groupby('person')['device_type'].value_counts(normalize=True).unstack().reset_index()\n",
    "frecDispositivo.rename(lambda x: x if x == 'person' else 'frec ' + x, axis=1, inplace=True)\n",
    "\n",
    "#features en base a la frecuencia relativa de los colores de los teléfonos vistos\n",
    "frecColor = eventos.groupby('person')['color'].value_counts(normalize=True).unstack().reset_index()\n",
    "frecColor.rename(lambda x: x if x == 'person' else 'frec color ' + x, axis=1, inplace=True)\n",
    "\n",
    "#features en base a la frecuencia relativa de los estados de los teléfonos consultados\n",
    "frecCondicion = eventos.groupby('person')['condition'].value_counts(normalize=True).unstack().reset_index()\n",
    "frecCondicion.rename(lambda x: x if x == 'person' else 'frec ' + x, axis=1, inplace=True)\n",
    "\n",
    "#features en base al la frecuencia relativa del día de semana en que se consultó\n",
    "frecDiaSemana = eventos.groupby('person')['weekday'].value_counts(normalize=True).unstack().reset_index().fillna(0)\n",
    "frecDiaSemana.rename(lambda x: x if x == 'person' else 'frec ' + x, axis=1, inplace=True)\n",
    "\n",
    "#features en base al día (a revisar, capaz convenga hacer algo en base al més y al día, o separar en quincenas)\n",
    "frecNroDia = eventos.groupby('person')['day'].value_counts(normalize=True).unstack().reset_index()\n",
    "frecNroDia.rename(lambda x: x if str(x) == 'person' else 'frec dia ' + str(x), axis=1, inplace=True)\n",
    "\n",
    "#Creamos los features del almacenamiento interno de los dispositivos consultados\n",
    "frecAlmacenamiento = eventos.groupby('person')['storage'].value_counts(normalize=True).unstack().reset_index()\n",
    "frecAlmacenamiento.rename(lambda x: x if x == 'person' else 'frec ' + x, axis=1, inplace=True)\n"
   ]
  },
  {
   "cell_type": "code",
   "execution_count": 42,
   "metadata": {},
   "outputs": [
    {
     "data": {
      "text/html": [
       "<div>\n",
       "<style scoped>\n",
       "    .dataframe tbody tr th:only-of-type {\n",
       "        vertical-align: middle;\n",
       "    }\n",
       "\n",
       "    .dataframe tbody tr th {\n",
       "        vertical-align: top;\n",
       "    }\n",
       "\n",
       "    .dataframe thead th {\n",
       "        text-align: right;\n",
       "    }\n",
       "</style>\n",
       "<table border=\"1\" class=\"dataframe\">\n",
       "  <thead>\n",
       "    <tr style=\"text-align: right;\">\n",
       "      <th></th>\n",
       "      <th>person</th>\n",
       "      <th>frec ad campaign hit</th>\n",
       "      <th>frec brand listing</th>\n",
       "      <th>frec checkout</th>\n",
       "      <th>frec conversion</th>\n",
       "      <th>frec generic listing</th>\n",
       "      <th>frec lead</th>\n",
       "      <th>frec search engine hit</th>\n",
       "      <th>frec searched products</th>\n",
       "      <th>frec staticpage</th>\n",
       "      <th>...</th>\n",
       "      <th>frec dia 30</th>\n",
       "      <th>frec dia 31</th>\n",
       "      <th>frec 128GB</th>\n",
       "      <th>frec 16GB</th>\n",
       "      <th>frec 256GB</th>\n",
       "      <th>frec 32GB</th>\n",
       "      <th>frec 4GB</th>\n",
       "      <th>frec 512MB</th>\n",
       "      <th>frec 64GB</th>\n",
       "      <th>frec 8GB</th>\n",
       "    </tr>\n",
       "  </thead>\n",
       "  <tbody>\n",
       "    <tr>\n",
       "      <th>0</th>\n",
       "      <td>0008ed71</td>\n",
       "      <td>NaN</td>\n",
       "      <td>NaN</td>\n",
       "      <td>0.500000</td>\n",
       "      <td>NaN</td>\n",
       "      <td>0.166667</td>\n",
       "      <td>NaN</td>\n",
       "      <td>NaN</td>\n",
       "      <td>NaN</td>\n",
       "      <td>NaN</td>\n",
       "      <td>...</td>\n",
       "      <td>NaN</td>\n",
       "      <td>NaN</td>\n",
       "      <td>NaN</td>\n",
       "      <td>NaN</td>\n",
       "      <td>NaN</td>\n",
       "      <td>0.666667</td>\n",
       "      <td>NaN</td>\n",
       "      <td>NaN</td>\n",
       "      <td>0.333333</td>\n",
       "      <td>NaN</td>\n",
       "    </tr>\n",
       "    <tr>\n",
       "      <th>1</th>\n",
       "      <td>00091926</td>\n",
       "      <td>0.033482</td>\n",
       "      <td>0.055804</td>\n",
       "      <td>0.004464</td>\n",
       "      <td>NaN</td>\n",
       "      <td>NaN</td>\n",
       "      <td>NaN</td>\n",
       "      <td>NaN</td>\n",
       "      <td>NaN</td>\n",
       "      <td>NaN</td>\n",
       "      <td>...</td>\n",
       "      <td>NaN</td>\n",
       "      <td>0.035714</td>\n",
       "      <td>0.128342</td>\n",
       "      <td>0.278075</td>\n",
       "      <td>0.026738</td>\n",
       "      <td>0.352941</td>\n",
       "      <td>NaN</td>\n",
       "      <td>NaN</td>\n",
       "      <td>0.213904</td>\n",
       "      <td>NaN</td>\n",
       "    </tr>\n",
       "  </tbody>\n",
       "</table>\n",
       "<p>2 rows × 172 columns</p>\n",
       "</div>"
      ],
      "text/plain": [
       "     person  frec ad campaign hit  frec brand listing  frec checkout  \\\n",
       "0  0008ed71                   NaN                 NaN       0.500000   \n",
       "1  00091926              0.033482            0.055804       0.004464   \n",
       "\n",
       "   frec conversion  frec generic listing  frec lead  frec search engine hit  \\\n",
       "0              NaN              0.166667        NaN                     NaN   \n",
       "1              NaN                   NaN        NaN                     NaN   \n",
       "\n",
       "   frec searched products  frec staticpage    ...     frec dia 30  \\\n",
       "0                     NaN              NaN    ...             NaN   \n",
       "1                     NaN              NaN    ...             NaN   \n",
       "\n",
       "   frec dia 31  frec 128GB  frec 16GB  frec 256GB  frec 32GB  frec 4GB  \\\n",
       "0          NaN         NaN        NaN         NaN   0.666667       NaN   \n",
       "1     0.035714    0.128342   0.278075    0.026738   0.352941       NaN   \n",
       "\n",
       "   frec 512MB  frec 64GB  frec 8GB  \n",
       "0         NaN   0.333333       NaN  \n",
       "1         NaN   0.213904       NaN  \n",
       "\n",
       "[2 rows x 172 columns]"
      ]
     },
     "execution_count": 42,
     "metadata": {},
     "output_type": "execute_result"
    }
   ],
   "source": [
    "#Empezamos a hacer el merge\n",
    "#No hay que olvidarse de hacer outer left joins, si no se perderán filas\n",
    "#Empezamos con features con todas las filas (todos los clientes tienen eventos)\n",
    "features = frecEvento.merge(totalEvento, how='left', on='person')\n",
    "features = features.merge(frecMarca, how='left', on='person')\n",
    "features = features.merge(totalMes, how='left', on='person')\n",
    "features = features.merge(frecDispositivo, how='left', on='person')\n",
    "features = features.merge(frecColor, how='left', on='person')\n",
    "features = features.merge(frecCondicion, how='left', on='person')\n",
    "features = features.merge(frecDiaSemana, how='left', on='person')\n",
    "features = features.merge(totalPrincipioMes, how='left', on='person')\n",
    "features = features.merge(totalMitadMes, how='left', on='person')\n",
    "features = features.merge(totalFinMes, how='left', on='person')\n",
    "features = features.merge(frecNroDia, how='left', on='person') #Lo reemplazo por los períodos en los meses?\n",
    "features = features.merge(frecAlmacenamiento, how='left', on='person')\n",
    "\n",
    "features.head(2)"
   ]
  },
  {
   "cell_type": "code",
   "execution_count": null,
   "metadata": {
    "collapsed": true
   },
   "outputs": [],
   "source": []
  },
  {
   "cell_type": "markdown",
   "metadata": {
    "collapsed": true
   },
   "source": [
    "#### Seguir con feature engeneering, agregando features. Algunas ideas: \n",
    "*    Modelo más consultado\n",
    "*    navegador más usado (capaz ver los 3 o 5 más frecuentes y una columna otros)\n",
    "*    etc."
   ]
  },
  {
   "cell_type": "code",
   "execution_count": null,
   "metadata": {
    "collapsed": true
   },
   "outputs": [],
   "source": []
  },
  {
   "cell_type": "markdown",
   "metadata": {},
   "source": [
    "## Machine learning\n",
    "### Primer algoritmo usado: Random Forest"
   ]
  },
  {
   "cell_type": "code",
   "execution_count": 35,
   "metadata": {
    "collapsed": true
   },
   "outputs": [],
   "source": [
    "#Cargamos las bibliotecas para usar y validar Random Forest\n",
    "from sklearn.ensemble import RandomForestClassifier\n",
    "from sklearn.model_selection import cross_val_score\n",
    "\n",
    "#Para preparar sets de entrenamiento y prueba\n",
    "from sklearn.model_selection import train_test_split  \n",
    "\n",
    "#Nos traemos bibliotecas para medir la performance\n",
    "from sklearn.metrics import classification_report\n",
    "from sklearn.metrics import accuracy_score\n"
   ]
  },
  {
   "cell_type": "code",
   "execution_count": 36,
   "metadata": {
    "collapsed": true
   },
   "outputs": [],
   "source": [
    "'''Tomamos \"prestada\" una función para presentar prolijamente los n features más importantes.\n",
    "La función fue tomada casi literal de:\n",
    "    https://github.com/Featuretools/predict-next-purchase/blob/master/utils.py\n",
    "'''\n",
    "def feature_importances(model, features, n=10):\n",
    "    importances = model.feature_importances_\n",
    "    zipped = sorted(zip(features, importances), key=lambda x: -x[1])\n",
    "    for i, f in enumerate(zipped[:n]):\n",
    "        print(\"%d: Feature: %s, %.3f\" % (i+1, f[0], f[1]))\n",
    "\n",
    "    return [f[0] for f in zipped[:n]]"
   ]
  },
  {
   "cell_type": "code",
   "execution_count": 43,
   "metadata": {
    "collapsed": true
   },
   "outputs": [],
   "source": [
    "#Reemplazo NaNs por ceros\n",
    "features = features.fillna(0)\n",
    "\n",
    "#Cargamos X e y para trabajar con Random Forest (y otros algoritmos luego).\n",
    "X = pd.merge(features, labels, on='person')\n",
    "X.drop('person', axis=1, inplace=True)\n",
    "X = X.fillna(0)\n",
    "y = X.pop('label')\n",
    "\n",
    "#Ahora hacemos el split de los datos a testear\n",
    "#Hacemos una división de set de test y entrenamiento, y le ponemos una semilla arbitraria por si queremos replicarlo\n",
    "seed = 1234\n",
    "X_train, X_test, y_train, y_test = train_test_split(X, y, test_size=0.25, random_state=seed)"
   ]
  },
  {
   "cell_type": "code",
   "execution_count": 46,
   "metadata": {
    "collapsed": true
   },
   "outputs": [],
   "source": [
    "#Creamos el clasificador\n",
    "'''Nota: Tomamos una configuración de random forest encontrada en:\n",
    "    https://www.datacamp.com/community/tutorials/random-forests-classifier-python'''\n",
    "\n",
    "clfRF1 = RandomForestClassifier(bootstrap=True, class_weight=None, criterion='gini',\n",
    "            max_depth=None, max_features='auto', max_leaf_nodes=None,\n",
    "            min_samples_leaf=1, min_samples_split=2,\n",
    "            min_weight_fraction_leaf=0.0, n_estimators=500, n_jobs=-1,\n",
    "            oob_score=False, random_state=seed, verbose=0,\n",
    "            warm_start=False)\n",
    "#Versión básica y casi default de RF\n",
    "clfRF2 = RandomForestClassifier(n_estimators=500, random_state=seed)"
   ]
  },
  {
   "cell_type": "code",
   "execution_count": 47,
   "metadata": {},
   "outputs": [
    {
     "name": "stderr",
     "output_type": "stream",
     "text": [
      "[Parallel(n_jobs=1)]: Done   3 out of   3 | elapsed:   49.8s finished\n"
     ]
    },
    {
     "name": "stdout",
     "output_type": "stream",
     "text": [
      "RF1 AUC 0.85 +/- 0.01\n",
      "RF2 AUC 0.85 +/- 0.01\n"
     ]
    },
    {
     "name": "stderr",
     "output_type": "stream",
     "text": [
      "[Parallel(n_jobs=1)]: Done   3 out of   3 | elapsed:  2.1min finished\n"
     ]
    }
   ],
   "source": [
    "#Probamos qué tan bien viene clasificando nuestro modelo, usando cross validation con todos los datos\n",
    "scores = cross_val_score(estimator=clfRF1,X=X, y=y, cv=3, scoring=\"roc_auc\", verbose=True)\n",
    "print(\"RF1 AUC %.2f +/- %.2f\" % (scores.mean(), scores.std()))\n",
    "\n",
    "scores = cross_val_score(estimator=clfRF2,X=X, y=y, cv=3, scoring=\"roc_auc\", verbose=True)\n",
    "print(\"RF2 AUC %.2f +/- %.2f\" % (scores.mean(), scores.std()))"
   ]
  },
  {
   "cell_type": "code",
   "execution_count": 49,
   "metadata": {},
   "outputs": [
    {
     "name": "stdout",
     "output_type": "stream",
     "text": [
      "Precisión RF 1 en entrenamiento: 95.82\n",
      "1: Feature: frec checkout, 0.039\n",
      "2: Feature: total checkout, 0.035\n",
      "3: Feature: total_mayo, 0.029\n",
      "4: Feature: frec viewed product, 0.022\n",
      "5: Feature: frec visited site, 0.021\n",
      "6: Feature: total viewed product, 0.020\n",
      "7: Feature: frec ad campaign hit, 0.019\n",
      "8: Feature: frec generic listing, 0.019\n",
      "9: Feature: frec search engine hit, 0.018\n",
      "10: Feature: frec Bom, 0.017\n",
      "11: Feature: frec color Dourado, 0.017\n",
      "12: Feature: frec color Preto, 0.017\n",
      "13: Feature: frec brand listing, 0.016\n",
      "14: Feature: frec 16GB, 0.016\n",
      "15: Feature: frec Muito Bom, 0.016\n",
      "16: Feature: frec 32GB, 0.015\n",
      "17: Feature: total brand listing, 0.014\n",
      "18: Feature: total ad campaign hit, 0.014\n",
      "19: Feature: frec Excelente, 0.014\n",
      "20: Feature: total generic listing, 0.014\n",
      "AUC 0.85 +/- 0.01\n"
     ]
    },
    {
     "name": "stderr",
     "output_type": "stream",
     "text": [
      "[Parallel(n_jobs=1)]: Done   3 out of   3 | elapsed:   54.1s finished\n"
     ]
    }
   ],
   "source": [
    "#Verificamos la precisión con los datos de entrenamiento\n",
    "train_RF1 = clfRF1.fit(X_train,y_train)\n",
    "prediccion = train_RF1.predict_proba(X_test)\n",
    "precision = accuracy_score(y_test, prediccion[:,[1]] > 0.5) * 100\n",
    "print(\"Precisión RF 1 en entrenamiento: %.2f\" % precision)\n",
    "top_features = feature_importances(train_RF1, X.columns, n=20)\n",
    "\n",
    "scores = cross_val_score(estimator=train_RF1,X=X, y=y, cv=3, scoring=\"roc_auc\", verbose=True)\n",
    "print(\"AUC %.2f +/- %.2f\" % (scores.mean(), scores.std()))"
   ]
  },
  {
   "cell_type": "code",
   "execution_count": 51,
   "metadata": {},
   "outputs": [
    {
     "name": "stdout",
     "output_type": "stream",
     "text": [
      "Precisión RF 1 en entrenamiento: 95.82\n",
      "1: Feature: frec checkout, 0.039\n",
      "2: Feature: total checkout, 0.035\n",
      "3: Feature: total_mayo, 0.029\n",
      "4: Feature: frec viewed product, 0.022\n",
      "5: Feature: frec visited site, 0.021\n",
      "6: Feature: total viewed product, 0.020\n",
      "7: Feature: frec ad campaign hit, 0.019\n",
      "8: Feature: frec generic listing, 0.019\n",
      "9: Feature: frec search engine hit, 0.018\n",
      "10: Feature: frec Bom, 0.017\n",
      "11: Feature: frec color Dourado, 0.017\n",
      "12: Feature: frec color Preto, 0.017\n",
      "13: Feature: frec brand listing, 0.016\n",
      "14: Feature: frec 16GB, 0.016\n",
      "15: Feature: frec Muito Bom, 0.016\n",
      "16: Feature: frec 32GB, 0.015\n",
      "17: Feature: total brand listing, 0.014\n",
      "18: Feature: total ad campaign hit, 0.014\n",
      "19: Feature: frec Excelente, 0.014\n",
      "20: Feature: total generic listing, 0.014\n",
      "AUC 0.85 +/- 0.01\n"
     ]
    },
    {
     "name": "stderr",
     "output_type": "stream",
     "text": [
      "[Parallel(n_jobs=1)]: Done   3 out of   3 | elapsed:  2.1min finished\n"
     ]
    }
   ],
   "source": [
    "#Verificamos la precisión con los datos de entrenamiento\n",
    "train_RF2 = clfRF2.fit(X_train,y_train)\n",
    "prediccion = train_RF2.predict_proba(X_test)\n",
    "precision = accuracy_score(y_test, prediccion[:,[1]] > 0.5) * 100\n",
    "print(\"Precisión RF 1 en entrenamiento: %.2f\" % precision)\n",
    "top_features = feature_importances(train_RF2, X.columns, n=20)\n",
    "\n",
    "scores = cross_val_score(estimator=train_RF2,X=X, y=y, cv=3, scoring=\"roc_auc\", verbose=True)\n",
    "print(\"AUC %.2f +/- %.2f\" % (scores.mean(), scores.std()))"
   ]
  },
  {
   "cell_type": "code",
   "execution_count": 23,
   "metadata": {},
   "outputs": [
    {
     "name": "stderr",
     "output_type": "stream",
     "text": [
      "[Parallel(n_jobs=1)]: Done   3 out of   3 | elapsed:   28.8s finished\n"
     ]
    },
    {
     "data": {
      "text/plain": [
       "'AUC 0.81 +/- 0.01'"
      ]
     },
     "execution_count": 23,
     "metadata": {},
     "output_type": "execute_result"
    }
   ],
   "source": [
    "#Pruebo de nuevo los random forest con los resultados obtenidos de mejores clasificadores\n",
    "scores = cross_val_score(estimator=clfRF1,X=X.loc[:,top_features], y=y, cv=3, scoring=\"roc_auc\", verbose=True)\n",
    "\n",
    "\"RF1 %d features más importantes: AUC %.2f +/- %.2f\" % (len(top_features), scores.mean(), scores.std())"
   ]
  },
  {
   "cell_type": "code",
   "execution_count": 57,
   "metadata": {},
   "outputs": [
    {
     "name": "stdout",
     "output_type": "stream",
     "text": [
      "1: Feature: frec checkout, 0.039\n",
      "2: Feature: total checkout, 0.035\n",
      "3: Feature: total_mayo, 0.029\n",
      "4: Feature: frec viewed product, 0.022\n",
      "5: Feature: frec visited site, 0.021\n",
      "6: Feature: total viewed product, 0.020\n",
      "7: Feature: frec ad campaign hit, 0.019\n",
      "8: Feature: frec generic listing, 0.019\n",
      "9: Feature: frec search engine hit, 0.018\n",
      "10: Feature: frec Bom, 0.017\n",
      "11: Feature: frec color Dourado, 0.017\n",
      "12: Feature: frec color Preto, 0.017\n",
      "13: Feature: frec brand listing, 0.016\n",
      "14: Feature: frec 16GB, 0.016\n",
      "15: Feature: frec Muito Bom, 0.016\n",
      "16: Feature: frec 32GB, 0.015\n",
      "17: Feature: total brand listing, 0.014\n",
      "18: Feature: total ad campaign hit, 0.014\n",
      "19: Feature: frec Excelente, 0.014\n",
      "20: Feature: total generic listing, 0.014\n",
      "21: Feature: total visited site, 0.013\n",
      "22: Feature: total search engine hit, 0.012\n",
      "23: Feature: frec 64GB, 0.012\n",
      "24: Feature: frec Samsung, 0.012\n",
      "25: Feature: frec Thursday, 0.012\n",
      "26: Feature: frec color Branco, 0.012\n",
      "27: Feature: frec searched products, 0.012\n",
      "28: Feature: frec Wednesday, 0.012\n",
      "29: Feature: frec Tuesday, 0.011\n",
      "30: Feature: total_abril, 0.011\n",
      "31: Feature: frec 8GB, 0.011\n",
      "32: Feature: frec color Cinza espacial, 0.011\n",
      "33: Feature: frec iPhone, 0.011\n",
      "34: Feature: frec Monday, 0.010\n",
      "35: Feature: total searched products, 0.010\n",
      "36: Feature: frec Friday, 0.010\n",
      "37: Feature: frec dia 30, 0.010\n",
      "38: Feature: frec dia 31, 0.010\n",
      "39: Feature: frec color Prateado, 0.010\n",
      "40: Feature: frec 128GB, 0.010\n",
      "41: Feature: frec Computer, 0.009\n",
      "42: Feature: frec Smartphone, 0.009\n"
     ]
    },
    {
     "name": "stderr",
     "output_type": "stream",
     "text": [
      "[Parallel(n_jobs=1)]: Done   3 out of   3 | elapsed:   44.5s finished\n"
     ]
    },
    {
     "data": {
      "text/plain": [
       "'RF1 42 features más importantes: AUC 0.84 +/- 0.00'"
      ]
     },
     "execution_count": 57,
     "metadata": {},
     "output_type": "execute_result"
    }
   ],
   "source": [
    "#Y si subo la cantidad de features importantes?\n",
    "\n",
    "top_features = feature_importances(train_RF2, X.columns, n=int(len(X.columns) / 4))\n",
    "scores = cross_val_score(estimator=clfRF1,X=X.loc[:,top_features], y=y, cv=3, scoring=\"roc_auc\", verbose=True)\n",
    "\n",
    "\"RF1 %d features más importantes: AUC %.2f +/- %.2f\" % (len(top_features), scores.mean(), scores.std())"
   ]
  },
  {
   "cell_type": "code",
   "execution_count": 59,
   "metadata": {},
   "outputs": [
    {
     "name": "stdout",
     "output_type": "stream",
     "text": [
      "total del set de entrenamiento que convirtieron: 980\n",
      "total del set de entrenamiento que predice que convertirán, prediciendo con set completo: 979\n",
      "total del set de entrenamiento que predice que convertirán, prediciendo con train_set: 778\n"
     ]
    }
   ],
   "source": [
    "#Veamos cuantos predice que convierten en los 15 primeros días de junio el modelo completo\n",
    "print('total del set de entrenamiento que convirtieron:', labels['label'].sum())\n",
    "\n",
    "clfRF1.fit(X,y)\n",
    "prediccionTest = clfRF1.predict(X=X)\n",
    "print('total del set de entrenamiento que predice que convertirán, prediciendo con set completo:',pd.Series(prediccionTest).sum())\n",
    "\n",
    "#Veamos cuantos predice que convierten en los 15 primeros días de junio el modelo completo\n",
    "train_RF2.fit(X_train,y_train)\n",
    "prediccionTest = train_RF2.predict(X=X)\n",
    "print('total del set de entrenamiento que predice que convertirán, prediciendo con train_set:',pd.Series(prediccionTest).sum())"
   ]
  },
  {
   "cell_type": "markdown",
   "metadata": {},
   "source": [
    "## Vamos a probar otro clasificador: XGBoost"
   ]
  },
  {
   "cell_type": "code",
   "execution_count": 60,
   "metadata": {
    "collapsed": true
   },
   "outputs": [],
   "source": [
    "#Primero importamos las bibliotecas que necesitaremos\n",
    "import xgboost as xgb"
   ]
  },
  {
   "cell_type": "code",
   "execution_count": 62,
   "metadata": {},
   "outputs": [
    {
     "name": "stdout",
     "output_type": "stream",
     "text": [
      "Precisión trainmodeloBasico con ntree_limit= 58 : 95.96\n"
     ]
    },
    {
     "name": "stderr",
     "output_type": "stream",
     "text": [
      "[Parallel(n_jobs=1)]: Done   3 out of   3 | elapsed:   29.4s finished\n"
     ]
    },
    {
     "name": "stdout",
     "output_type": "stream",
     "text": [
      "AUC usando el modelo entrenado con set de entrenamiento reducido 0.85 +/- 0.00\n",
      "AUC usando el modelo entrenado con set de entrenamiento completo 0.85 +/- 0.00\n"
     ]
    },
    {
     "name": "stderr",
     "output_type": "stream",
     "text": [
      "[Parallel(n_jobs=1)]: Done   3 out of   3 | elapsed:   29.5s finished\n"
     ]
    }
   ],
   "source": [
    "#Probamos el modelo más sencillo de XGBoost, con los parámetros por defecto\n",
    "xgbBasico = xgb.XGBClassifier(seed=seed)\n",
    "train_xgbBasico = xgbBasico.fit(X_train, y_train)\n",
    "\n",
    "mejor_n_limit = 0\n",
    "mejor_precision = 0\n",
    "for i in range(200):\n",
    "    prediccion = train_xgbBasico.predict_proba(X_test, ntree_limit=i)\n",
    "    precision = accuracy_score(y_test, prediccion[:,[1]] > 0.5) * 100\n",
    "    if(precision > mejor_precision):\n",
    "        mejor_precision = precision\n",
    "        mejor_n_limit = i\n",
    "    \n",
    "print(\"Precisión trainmodeloBasico con ntree_limit=\",mejor_n_limit,\": %.2f\" % mejor_precision)\n",
    "\n",
    "scores = cross_val_score(estimator=train_xgbBasico,X=X, y=y, cv=3, scoring=\"roc_auc\", verbose=True)\n",
    "print(\"AUC usando el modelo entrenado con set de entrenamiento reducido %.2f +/- %.2f\" % (scores.mean(), scores.std()))\n",
    "\n",
    "xgbBasico.fit(X, y)\n",
    "scores = cross_val_score(estimator=modeloBasico,X=X, y=y, cv=3, scoring=\"roc_auc\", verbose=True)\n",
    "print(\"AUC usando el modelo entrenado con set de entrenamiento completo %.2f +/- %.2f\" % (scores.mean(), scores.std()))"
   ]
  },
  {
   "cell_type": "code",
   "execution_count": 63,
   "metadata": {},
   "outputs": [
    {
     "data": {
      "text/html": [
       "<div>\n",
       "<style scoped>\n",
       "    .dataframe tbody tr th:only-of-type {\n",
       "        vertical-align: middle;\n",
       "    }\n",
       "\n",
       "    .dataframe tbody tr th {\n",
       "        vertical-align: top;\n",
       "    }\n",
       "\n",
       "    .dataframe thead th {\n",
       "        text-align: right;\n",
       "    }\n",
       "</style>\n",
       "<table border=\"1\" class=\"dataframe\">\n",
       "  <thead>\n",
       "    <tr style=\"text-align: right;\">\n",
       "      <th></th>\n",
       "      <th>person</th>\n",
       "      <th>frec ad campaign hit</th>\n",
       "      <th>frec brand listing</th>\n",
       "      <th>frec checkout</th>\n",
       "      <th>frec conversion</th>\n",
       "      <th>frec generic listing</th>\n",
       "      <th>frec lead</th>\n",
       "      <th>frec search engine hit</th>\n",
       "      <th>frec searched products</th>\n",
       "      <th>frec staticpage</th>\n",
       "      <th>...</th>\n",
       "      <th>frec dia 31</th>\n",
       "      <th>frec 128GB</th>\n",
       "      <th>frec 16GB</th>\n",
       "      <th>frec 256GB</th>\n",
       "      <th>frec 32GB</th>\n",
       "      <th>frec 4GB</th>\n",
       "      <th>frec 512MB</th>\n",
       "      <th>frec 64GB</th>\n",
       "      <th>frec 8GB</th>\n",
       "      <th>label</th>\n",
       "    </tr>\n",
       "  </thead>\n",
       "  <tbody>\n",
       "    <tr>\n",
       "      <th>14682</th>\n",
       "      <td>c2acc1c5</td>\n",
       "      <td>0.153846</td>\n",
       "      <td>0.0</td>\n",
       "      <td>0.0</td>\n",
       "      <td>0.0</td>\n",
       "      <td>0.000000</td>\n",
       "      <td>0.0</td>\n",
       "      <td>0.000000</td>\n",
       "      <td>0.000000</td>\n",
       "      <td>0.0</td>\n",
       "      <td>...</td>\n",
       "      <td>1.0</td>\n",
       "      <td>0.1</td>\n",
       "      <td>0.0</td>\n",
       "      <td>0.0</td>\n",
       "      <td>0.1</td>\n",
       "      <td>0.0</td>\n",
       "      <td>0.0</td>\n",
       "      <td>0.8</td>\n",
       "      <td>0.0</td>\n",
       "      <td>True</td>\n",
       "    </tr>\n",
       "    <tr>\n",
       "      <th>18466</th>\n",
       "      <td>f3c6e808</td>\n",
       "      <td>0.217391</td>\n",
       "      <td>0.0</td>\n",
       "      <td>0.0</td>\n",
       "      <td>0.0</td>\n",
       "      <td>0.173913</td>\n",
       "      <td>0.0</td>\n",
       "      <td>0.173913</td>\n",
       "      <td>0.086957</td>\n",
       "      <td>0.0</td>\n",
       "      <td>...</td>\n",
       "      <td>0.0</td>\n",
       "      <td>0.0</td>\n",
       "      <td>0.4</td>\n",
       "      <td>0.0</td>\n",
       "      <td>0.0</td>\n",
       "      <td>0.0</td>\n",
       "      <td>0.0</td>\n",
       "      <td>0.6</td>\n",
       "      <td>0.0</td>\n",
       "      <td>True</td>\n",
       "    </tr>\n",
       "  </tbody>\n",
       "</table>\n",
       "<p>2 rows × 173 columns</p>\n",
       "</div>"
      ],
      "text/plain": [
       "         person  frec ad campaign hit  frec brand listing  frec checkout  \\\n",
       "14682  c2acc1c5              0.153846                 0.0            0.0   \n",
       "18466  f3c6e808              0.217391                 0.0            0.0   \n",
       "\n",
       "       frec conversion  frec generic listing  frec lead  \\\n",
       "14682              0.0              0.000000        0.0   \n",
       "18466              0.0              0.173913        0.0   \n",
       "\n",
       "       frec search engine hit  frec searched products  frec staticpage  ...    \\\n",
       "14682                0.000000                0.000000              0.0  ...     \n",
       "18466                0.173913                0.086957              0.0  ...     \n",
       "\n",
       "       frec dia 31  frec 128GB  frec 16GB  frec 256GB  frec 32GB  frec 4GB  \\\n",
       "14682          1.0         0.1        0.0         0.0        0.1       0.0   \n",
       "18466          0.0         0.0        0.4         0.0        0.0       0.0   \n",
       "\n",
       "       frec 512MB  frec 64GB  frec 8GB  label  \n",
       "14682         0.0        0.8       0.0   True  \n",
       "18466         0.0        0.6       0.0   True  \n",
       "\n",
       "[2 rows x 173 columns]"
      ]
     },
     "execution_count": 63,
     "metadata": {},
     "output_type": "execute_result"
    }
   ],
   "source": [
    "#Una de las particularidades de XGBoost es que es los primeros árboles generados suelen ser más importantes\n",
    "#Entonces, vamos a probar ordenando el set de entrenamiento\n",
    "X_y = features.merge(labels, on='person', how='inner')\n",
    "X_y.sort_values(by='label', ascending=False, inplace=True)\n",
    "X_y.head(2)"
   ]
  },
  {
   "cell_type": "code",
   "execution_count": 65,
   "metadata": {},
   "outputs": [],
   "source": [
    "#Creamos los features ordenando por label (los que están en true, primero)\n",
    "X_ordenado = X_y.drop('person', axis=1)\n",
    "y_ordenado = X_ordenado.pop('label')\n",
    "\n",
    "#Ordenamos los sets que tenemos de entrenamiento In [9]: result = pd.concat([df1, df4], axis=1, sort=False)\n",
    "\n",
    "X_train_ordenado = pd.concat([X_train,y_train], axis=1)\n",
    "X_train_ordenado.sort_values(by='label', ascending=False, inplace=True)\n",
    "y_train_ordenado = X_train_ordenado.pop('label')"
   ]
  },
  {
   "cell_type": "code",
   "execution_count": 79,
   "metadata": {},
   "outputs": [
    {
     "name": "stdout",
     "output_type": "stream",
     "text": [
      "Precisión modeloBasico con ntree_limit= 58 : 95.96\n"
     ]
    },
    {
     "name": "stderr",
     "output_type": "stream",
     "text": [
      "[Parallel(n_jobs=1)]: Done   3 out of   3 | elapsed:   34.5s finished\n"
     ]
    },
    {
     "name": "stdout",
     "output_type": "stream",
     "text": [
      "AUC usando trainOrdenado_xgbBasico con datos sin ordenar 0.85 +/- 0.00\n"
     ]
    },
    {
     "name": "stderr",
     "output_type": "stream",
     "text": [
      "[Parallel(n_jobs=1)]: Done   3 out of   3 | elapsed:   30.9s finished\n"
     ]
    },
    {
     "name": "stdout",
     "output_type": "stream",
     "text": [
      "AUC usando trainOrdenado_xgbBasico con datos ordenados 0.85 +/- 0.01\n"
     ]
    },
    {
     "name": "stderr",
     "output_type": "stream",
     "text": [
      "[Parallel(n_jobs=1)]: Done   3 out of   3 | elapsed:   32.2s finished\n"
     ]
    },
    {
     "name": "stdout",
     "output_type": "stream",
     "text": [
      "AUC usando xgbBasicoOrdenado con datos ordenados 0.85 +/- 0.01\n",
      "AUC usando el modelo xgbBasico con datos ordenados 0.85 +/- 0.01\n"
     ]
    },
    {
     "name": "stderr",
     "output_type": "stream",
     "text": [
      "[Parallel(n_jobs=1)]: Done   3 out of   3 | elapsed:   32.2s finished\n"
     ]
    }
   ],
   "source": [
    "#Repetimos las pruebas con el set ordenado\n",
    "#Entonces, vamos a probar ordenando el set de entrenamiento\n",
    "#Probamos el modelo más sencillo de XGBoost, con los parámetros por defecto\n",
    "trainOrdenado_xgbBasico= xgbBasico.fit(X_train_ordenado, y_train_ordenado).fit(X_train_ordenado, y_train_ordenado)\n",
    "\n",
    "mejor_n_limit = 0\n",
    "mejor_precision = 0\n",
    "for i in range(200):\n",
    "    prediccion = trainOrdenado_xgbBasico.predict_proba(X_test, ntree_limit=i)\n",
    "    precision = accuracy_score(y_test, prediccion[:,[1]] > 0.5) * 100\n",
    "    if(precision > mejor_precision):\n",
    "        mejor_precision = precision\n",
    "        mejor_n_limit = i\n",
    "    \n",
    "print(\"Precisión modeloBasico con ntree_limit=\",mejor_n_limit,\": %.2f\" % mejor_precision)\n",
    "\n",
    "scores = cross_val_score(estimator=trainOrdenado_xgbBasico,X=X, y=y, cv=3, scoring=\"roc_auc\", verbose=True)\n",
    "print(\"AUC usando trainOrdenado_xgbBasico con datos sin ordenar %.2f +/- %.2f\" % (scores.mean(), scores.std()))\n",
    "\n",
    "scores = cross_val_score(estimator=train_modeloBasico,X=X_ordenado, y=y_ordenado, cv=3, scoring=\"roc_auc\", verbose=True)\n",
    "print(\"AUC usando trainOrdenado_xgbBasico con datos ordenados %.2f +/- %.2f\" % (scores.mean(), scores.std()))\n",
    "\n",
    "xgbBasicoOrdenado = xgbBasico.fit(X_ordenado, y_ordenado)\n",
    "scores = cross_val_score(estimator=xgbBasicoOrdenado,X=X_ordenado, y=y_ordenado, cv=3, scoring=\"roc_auc\", verbose=True)\n",
    "print(\"AUC usando xgbBasicoOrdenado con datos ordenados %.2f +/- %.2f\" % (scores.mean(), scores.std()))\n",
    "\n",
    "xgbBasico.fit(X, y)\n",
    "scores = cross_val_score(estimator=xgbBasico,X=X_ordenado, y=y_ordenado, cv=3, scoring=\"roc_auc\", verbose=True)\n",
    "print(\"AUC usando el modelo xgbBasico con datos ordenados %.2f +/- %.2f\" % (scores.mean(), scores.std()))"
   ]
  },
  {
   "cell_type": "code",
   "execution_count": 80,
   "metadata": {},
   "outputs": [
    {
     "name": "stdout",
     "output_type": "stream",
     "text": [
      "1: Feature: frec checkout, 0.129\n",
      "2: Feature: total_mayo, 0.077\n",
      "3: Feature: frec conversion, 0.055\n",
      "4: Feature: frec Computer, 0.046\n",
      "5: Feature: frec Smartphone, 0.036\n",
      "6: Feature: total viewed product, 0.033\n",
      "7: Feature: frec dia 31, 0.030\n",
      "8: Feature: frec brand listing, 0.027\n",
      "9: Feature: frec ad campaign hit, 0.024\n",
      "10: Feature: frec color Preto, 0.022\n",
      "11: Feature: frec dia 4, 0.019\n",
      "12: Feature: frec 8GB, 0.018\n",
      "13: Feature: frec search engine hit, 0.016\n",
      "14: Feature: total checkout, 0.016\n",
      "15: Feature: frec color Preto Matte, 0.016\n",
      "16: Feature: frec Muito Bom, 0.016\n",
      "17: Feature: frec searched products, 0.015\n",
      "18: Feature: total_marzo, 0.015\n",
      "19: Feature: frec dia 5, 0.015\n",
      "20: Feature: frec dia 30, 0.015\n",
      "21: Feature: total visited site, 0.013\n",
      "22: Feature: frec dia 2, 0.013\n",
      "23: Feature: frec generic listing, 0.012\n",
      "24: Feature: frec color Cinza espacial, 0.012\n",
      "25: Feature: frec Saturday, 0.012\n",
      "26: Feature: frec dia 6, 0.012\n",
      "27: Feature: frec 16GB, 0.012\n",
      "28: Feature: frec 64GB, 0.012\n",
      "29: Feature: total brand listing, 0.010\n",
      "30: Feature: total conversion, 0.010\n",
      "31: Feature: frec viewed product, 0.009\n",
      "32: Feature: frec Samsung, 0.009\n",
      "33: Feature: frec Excelente, 0.009\n",
      "34: Feature: frec Bom - Sem Touch ID, 0.007\n",
      "35: Feature: frec dia 11, 0.007\n",
      "36: Feature: frec dia 15, 0.007\n",
      "37: Feature: frec dia 16, 0.007\n",
      "38: Feature: frec dia 20, 0.007\n",
      "39: Feature: frec 32GB, 0.007\n",
      "40: Feature: total generic listing, 0.006\n",
      "41: Feature: frec dia 3, 0.006\n",
      "42: Feature: frec dia 12, 0.006\n"
     ]
    }
   ],
   "source": [
    "#Features mas importantes para XGBoost basico?\n",
    "top_features = feature_importances(xgbBasico, X.columns, n=int(len(X.columns) / 4))"
   ]
  },
  {
   "cell_type": "code",
   "execution_count": 82,
   "metadata": {},
   "outputs": [
    {
     "name": "stdout",
     "output_type": "stream",
     "text": [
      "AUC usando el modelo xgbBasicoOrdenado entrenado con top features y datos ordenados 0.85 +/- 0.01\n"
     ]
    },
    {
     "name": "stderr",
     "output_type": "stream",
     "text": [
      "[Parallel(n_jobs=1)]: Done   3 out of   3 | elapsed:   26.4s finished\n"
     ]
    }
   ],
   "source": [
    "xgbBasicoOrdenado.fit(X_ordenado.loc[:,top_features], y_ordenado)\n",
    "scores = cross_val_score(estimator=xgbBasicoOrdenado,X=X_ordenado, y=y_ordenado, cv=3, scoring=\"roc_auc\", verbose=True)\n",
    "print(\"AUC usando el modelo xgbBasicoOrdenado entrenado con top features y datos ordenados %.2f +/- %.2f\" % (scores.mean(), scores.std()))"
   ]
  },
  {
   "cell_type": "markdown",
   "metadata": {},
   "source": [
    "## Preparamos los datos que necesitamos clasificar"
   ]
  },
  {
   "cell_type": "code",
   "execution_count": 67,
   "metadata": {},
   "outputs": [
    {
     "name": "stdout",
     "output_type": "stream",
     "text": [
      "cantidad de datos: 19415\n"
     ]
    },
    {
     "data": {
      "text/html": [
       "<div>\n",
       "<style scoped>\n",
       "    .dataframe tbody tr th:only-of-type {\n",
       "        vertical-align: middle;\n",
       "    }\n",
       "\n",
       "    .dataframe tbody tr th {\n",
       "        vertical-align: top;\n",
       "    }\n",
       "\n",
       "    .dataframe thead th {\n",
       "        text-align: right;\n",
       "    }\n",
       "</style>\n",
       "<table border=\"1\" class=\"dataframe\">\n",
       "  <thead>\n",
       "    <tr style=\"text-align: right;\">\n",
       "      <th></th>\n",
       "      <th>person</th>\n",
       "      <th>frec ad campaign hit</th>\n",
       "      <th>frec brand listing</th>\n",
       "      <th>frec checkout</th>\n",
       "      <th>frec conversion</th>\n",
       "      <th>frec generic listing</th>\n",
       "      <th>frec lead</th>\n",
       "      <th>frec search engine hit</th>\n",
       "      <th>frec searched products</th>\n",
       "      <th>frec staticpage</th>\n",
       "      <th>...</th>\n",
       "      <th>frec dia 30</th>\n",
       "      <th>frec dia 31</th>\n",
       "      <th>frec 128GB</th>\n",
       "      <th>frec 16GB</th>\n",
       "      <th>frec 256GB</th>\n",
       "      <th>frec 32GB</th>\n",
       "      <th>frec 4GB</th>\n",
       "      <th>frec 512MB</th>\n",
       "      <th>frec 64GB</th>\n",
       "      <th>frec 8GB</th>\n",
       "    </tr>\n",
       "  </thead>\n",
       "  <tbody>\n",
       "    <tr>\n",
       "      <th>0</th>\n",
       "      <td>4886f805</td>\n",
       "      <td>0.000000</td>\n",
       "      <td>0.000000</td>\n",
       "      <td>0.111111</td>\n",
       "      <td>0.0</td>\n",
       "      <td>0.111111</td>\n",
       "      <td>0.000000</td>\n",
       "      <td>0.111111</td>\n",
       "      <td>0.111111</td>\n",
       "      <td>0.0</td>\n",
       "      <td>...</td>\n",
       "      <td>0.000000</td>\n",
       "      <td>0.000000</td>\n",
       "      <td>0.000000</td>\n",
       "      <td>0.000000</td>\n",
       "      <td>0.000000</td>\n",
       "      <td>1.000000</td>\n",
       "      <td>0.0</td>\n",
       "      <td>0.0</td>\n",
       "      <td>0.000000</td>\n",
       "      <td>0.0</td>\n",
       "    </tr>\n",
       "    <tr>\n",
       "      <th>1</th>\n",
       "      <td>0297fc1e</td>\n",
       "      <td>0.051146</td>\n",
       "      <td>0.007055</td>\n",
       "      <td>0.012346</td>\n",
       "      <td>0.0</td>\n",
       "      <td>0.037037</td>\n",
       "      <td>0.001764</td>\n",
       "      <td>0.000000</td>\n",
       "      <td>0.010582</td>\n",
       "      <td>0.0</td>\n",
       "      <td>...</td>\n",
       "      <td>0.024691</td>\n",
       "      <td>0.007055</td>\n",
       "      <td>0.121655</td>\n",
       "      <td>0.311436</td>\n",
       "      <td>0.014599</td>\n",
       "      <td>0.082725</td>\n",
       "      <td>0.0</td>\n",
       "      <td>0.0</td>\n",
       "      <td>0.469586</td>\n",
       "      <td>0.0</td>\n",
       "    </tr>\n",
       "  </tbody>\n",
       "</table>\n",
       "<p>2 rows × 172 columns</p>\n",
       "</div>"
      ],
      "text/plain": [
       "     person  frec ad campaign hit  frec brand listing  frec checkout  \\\n",
       "0  4886f805              0.000000            0.000000       0.111111   \n",
       "1  0297fc1e              0.051146            0.007055       0.012346   \n",
       "\n",
       "   frec conversion  frec generic listing  frec lead  frec search engine hit  \\\n",
       "0              0.0              0.111111   0.000000                0.111111   \n",
       "1              0.0              0.037037   0.001764                0.000000   \n",
       "\n",
       "   frec searched products  frec staticpage    ...     frec dia 30  \\\n",
       "0                0.111111              0.0    ...        0.000000   \n",
       "1                0.010582              0.0    ...        0.024691   \n",
       "\n",
       "   frec dia 31  frec 128GB  frec 16GB  frec 256GB  frec 32GB  frec 4GB  \\\n",
       "0     0.000000    0.000000   0.000000    0.000000   1.000000       0.0   \n",
       "1     0.007055    0.121655   0.311436    0.014599   0.082725       0.0   \n",
       "\n",
       "   frec 512MB  frec 64GB  frec 8GB  \n",
       "0         0.0   0.000000       0.0  \n",
       "1         0.0   0.469586       0.0  \n",
       "\n",
       "[2 rows x 172 columns]"
      ]
     },
     "execution_count": 67,
     "metadata": {},
     "output_type": "execute_result"
    }
   ],
   "source": [
    "datosTest = clientesAEvaluar.merge(features, on='person',how='inner')\n",
    "print('cantidad de datos:',len(datosTest))\n",
    "datosTest.head(2)"
   ]
  },
  {
   "cell_type": "code",
   "execution_count": 68,
   "metadata": {},
   "outputs": [
    {
     "name": "stdout",
     "output_type": "stream",
     "text": [
      "cantidad de personas en total: 38829\n",
      "cantidad de personas para training: 19414\n",
      "cantidad de personas para evaluar: 19415\n",
      "cantidad de personas en clientes agrupados: 38829\n"
     ]
    }
   ],
   "source": [
    "#Verifico que no se hayan \"perdido\" filas en el camino (un merge mal definido capaz?)\n",
    "print('cantidad de personas en total:',len(eventos['person'].unique()))\n",
    "print('cantidad de personas para training:',len(labels))\n",
    "print('cantidad de personas para evaluar:',len(clientesAEvaluar))\n",
    "print('cantidad de personas en clientes agrupados:',len(features))"
   ]
  },
  {
   "cell_type": "code",
   "execution_count": 73,
   "metadata": {
    "collapsed": true
   },
   "outputs": [],
   "source": [
    "#Haciendo las predicciones con el modelo de Random Forest\n",
    "prediccionRandomForest = clfRF1.predict_proba(X=datosTest.drop('person', axis=1).fillna(0))"
   ]
  },
  {
   "cell_type": "code",
   "execution_count": 74,
   "metadata": {},
   "outputs": [
    {
     "name": "stdout",
     "output_type": "stream",
     "text": [
      "3731\tclientes con p > 0.10 de convertir\n",
      "1231\tclientes con p > 0.20 de convertir\n",
      "233\tclientes con p > 0.30 de convertir\n",
      "33\tclientes con p > 0.40 de convertir\n",
      "3\tclientes con p > 0.50 de convertir\n"
     ]
    }
   ],
   "source": [
    "for i in range(1,6):\n",
    "    print('%d\\tclientes con p > %.2f de convertir' % ((prediccionRandomForest[:,[1]] > i/10).sum(),i/10))"
   ]
  },
  {
   "cell_type": "code",
   "execution_count": 76,
   "metadata": {},
   "outputs": [
    {
     "name": "stdout",
     "output_type": "stream",
     "text": [
      "3276\tclientes con p > 0.10 de convertir\n",
      "1001\tclientes con p > 0.20 de convertir\n",
      "276\tclientes con p > 0.30 de convertir\n",
      "121\tclientes con p > 0.40 de convertir\n",
      "77\tclientes con p > 0.50 de convertir\n"
     ]
    }
   ],
   "source": [
    "#Haciendo predicciones con el modelo básico de XGBoost entrenado con los datos ordenados por label\n",
    "'''prediccionXGBoostBasicoOrdenado = modeloBasico.predict_proba(data=datosTest.drop('person', axis=1).fillna(0),\n",
    "                                                        ntree_limit=mejor_n_limit) \n",
    "\"Habrá que ver si no \"overfittea\" al ponerle el mejor n_limit'''\n",
    "\n",
    "xgbBasico.fit(X_ordenado, y_ordenado)\n",
    "prediccionXGBoostBasicoOrdenado = xgbBasico.predict_proba(data=datosTest.drop('person', axis=1).fillna(0))\n",
    "\n",
    "for i in range(1,6):\n",
    "    print('%d\\tclientes con p > %.2f de convertir' % ((prediccionXGBoostBasicoOrdenado[:,[1]] > i/10).sum(),i/10))"
   ]
  },
  {
   "cell_type": "code",
   "execution_count": 77,
   "metadata": {},
   "outputs": [
    {
     "name": "stdout",
     "output_type": "stream",
     "text": [
      "3276\tclientes con p > 0.10 de convertir\n",
      "1001\tclientes con p > 0.20 de convertir\n",
      "276\tclientes con p > 0.30 de convertir\n",
      "121\tclientes con p > 0.40 de convertir\n",
      "77\tclientes con p > 0.50 de convertir\n"
     ]
    }
   ],
   "source": [
    "#Haciendo predicciones con el modelo básico de XGBoost entrenado con los datos sin ordenar\n",
    "\n",
    "xgbBasico.fit(X, y)\n",
    "prediccionXGBoostBasico = xgbBasico.predict_proba(data=datosTest.drop('person', axis=1).fillna(0))\n",
    "\n",
    "for i in range(1,6):\n",
    "    print('%d\\tclientes con p > %.2f de convertir' % ((prediccionXGBoostBasico[:,[1]] > i/10).sum(),i/10))"
   ]
  },
  {
   "cell_type": "code",
   "execution_count": 78,
   "metadata": {},
   "outputs": [
    {
     "data": {
      "text/html": [
       "<div>\n",
       "<style scoped>\n",
       "    .dataframe tbody tr th:only-of-type {\n",
       "        vertical-align: middle;\n",
       "    }\n",
       "\n",
       "    .dataframe tbody tr th {\n",
       "        vertical-align: top;\n",
       "    }\n",
       "\n",
       "    .dataframe thead th {\n",
       "        text-align: right;\n",
       "    }\n",
       "</style>\n",
       "<table border=\"1\" class=\"dataframe\">\n",
       "  <thead>\n",
       "    <tr style=\"text-align: right;\">\n",
       "      <th></th>\n",
       "      <th>person</th>\n",
       "      <th>label</th>\n",
       "    </tr>\n",
       "  </thead>\n",
       "  <tbody>\n",
       "    <tr>\n",
       "      <th>0</th>\n",
       "      <td>4886f805</td>\n",
       "      <td>0.008334</td>\n",
       "    </tr>\n",
       "    <tr>\n",
       "      <th>1</th>\n",
       "      <td>0297fc1e</td>\n",
       "      <td>0.037808</td>\n",
       "    </tr>\n",
       "    <tr>\n",
       "      <th>2</th>\n",
       "      <td>2d681dd8</td>\n",
       "      <td>0.015516</td>\n",
       "    </tr>\n",
       "    <tr>\n",
       "      <th>3</th>\n",
       "      <td>cccea85e</td>\n",
       "      <td>0.090828</td>\n",
       "    </tr>\n",
       "    <tr>\n",
       "      <th>4</th>\n",
       "      <td>4c8a8b93</td>\n",
       "      <td>0.032561</td>\n",
       "    </tr>\n",
       "  </tbody>\n",
       "</table>\n",
       "</div>"
      ],
      "text/plain": [
       "     person     label\n",
       "0  4886f805  0.008334\n",
       "1  0297fc1e  0.037808\n",
       "2  2d681dd8  0.015516\n",
       "3  cccea85e  0.090828\n",
       "4  4c8a8b93  0.032561"
      ]
     },
     "execution_count": 78,
     "metadata": {},
     "output_type": "execute_result"
    }
   ],
   "source": [
    "#Si nos quedamos con el modelo de XGBoost\n",
    "clientesAEvaluar['label'] = prediccionXGBoostBasico[:,[1]]\n",
    "clientesAEvaluar.head()"
   ]
  },
  {
   "cell_type": "code",
   "execution_count": 83,
   "metadata": {
    "collapsed": true
   },
   "outputs": [],
   "source": [
    "#Exportamos el archivo a subir. De esta manera tiene el formato correcto. \n",
    "#Notar que así lo deja en el directorio de la notebook\n",
    "clientesAEvaluar.to_csv('entrega_XGBoostBasico 3 0.85647.csv',index=False)\n",
    "#Esta entrega dio 0.85647"
   ]
  },
  {
   "cell_type": "markdown",
   "metadata": {},
   "source": [
    "#### Con la entrega anterior llegamos a 0.85443."
   ]
  },
  {
   "cell_type": "code",
   "execution_count": 86,
   "metadata": {},
   "outputs": [
    {
     "data": {
      "text/html": [
       "<div>\n",
       "<style scoped>\n",
       "    .dataframe tbody tr th:only-of-type {\n",
       "        vertical-align: middle;\n",
       "    }\n",
       "\n",
       "    .dataframe tbody tr th {\n",
       "        vertical-align: top;\n",
       "    }\n",
       "\n",
       "    .dataframe thead th {\n",
       "        text-align: right;\n",
       "    }\n",
       "</style>\n",
       "<table border=\"1\" class=\"dataframe\">\n",
       "  <thead>\n",
       "    <tr style=\"text-align: right;\">\n",
       "      <th></th>\n",
       "      <th>person</th>\n",
       "      <th>label</th>\n",
       "    </tr>\n",
       "  </thead>\n",
       "  <tbody>\n",
       "    <tr>\n",
       "      <th>0</th>\n",
       "      <td>4886f805</td>\n",
       "      <td>0.006167</td>\n",
       "    </tr>\n",
       "    <tr>\n",
       "      <th>1</th>\n",
       "      <td>0297fc1e</td>\n",
       "      <td>0.055904</td>\n",
       "    </tr>\n",
       "    <tr>\n",
       "      <th>2</th>\n",
       "      <td>2d681dd8</td>\n",
       "      <td>0.011758</td>\n",
       "    </tr>\n",
       "    <tr>\n",
       "      <th>3</th>\n",
       "      <td>cccea85e</td>\n",
       "      <td>0.122414</td>\n",
       "    </tr>\n",
       "    <tr>\n",
       "      <th>4</th>\n",
       "      <td>4c8a8b93</td>\n",
       "      <td>0.031280</td>\n",
       "    </tr>\n",
       "  </tbody>\n",
       "</table>\n",
       "</div>"
      ],
      "text/plain": [
       "     person     label\n",
       "0  4886f805  0.006167\n",
       "1  0297fc1e  0.055904\n",
       "2  2d681dd8  0.011758\n",
       "3  cccea85e  0.122414\n",
       "4  4c8a8b93  0.031280"
      ]
     },
     "execution_count": 86,
     "metadata": {},
     "output_type": "execute_result"
    }
   ],
   "source": [
    "#Ensamblando resultados de XGBoost y Random Forest\n",
    "clientesAEvaluar['label'] = (prediccionXGBoostBasico[:,[1]] + prediccionRandomForest[:,[1]])/2\n",
    "clientesAEvaluar.to_csv('entrega_XGBoostBasico y RF 4 con promedio.csv',index=False)\n",
    "clientesAEvaluar.head()"
   ]
  },
  {
   "cell_type": "code",
   "execution_count": 85,
   "metadata": {},
   "outputs": [
    {
     "data": {
      "text/html": [
       "<div>\n",
       "<style scoped>\n",
       "    .dataframe tbody tr th:only-of-type {\n",
       "        vertical-align: middle;\n",
       "    }\n",
       "\n",
       "    .dataframe tbody tr th {\n",
       "        vertical-align: top;\n",
       "    }\n",
       "\n",
       "    .dataframe thead th {\n",
       "        text-align: right;\n",
       "    }\n",
       "</style>\n",
       "<table border=\"1\" class=\"dataframe\">\n",
       "  <thead>\n",
       "    <tr style=\"text-align: right;\">\n",
       "      <th></th>\n",
       "      <th>person</th>\n",
       "      <th>label</th>\n",
       "    </tr>\n",
       "  </thead>\n",
       "  <tbody>\n",
       "    <tr>\n",
       "      <th>0</th>\n",
       "      <td>4886f805</td>\n",
       "      <td>0.006600</td>\n",
       "    </tr>\n",
       "    <tr>\n",
       "      <th>1</th>\n",
       "      <td>0297fc1e</td>\n",
       "      <td>0.052285</td>\n",
       "    </tr>\n",
       "  </tbody>\n",
       "</table>\n",
       "</div>"
      ],
      "text/plain": [
       "     person     label\n",
       "0  4886f805  0.006600\n",
       "1  0297fc1e  0.052285"
      ]
     },
     "execution_count": 85,
     "metadata": {},
     "output_type": "execute_result"
    }
   ],
   "source": [
    "#Otro ensamble, en lugar del promedio, asignarle pesos\n",
    "clientesAEvaluar['label'] = (prediccionXGBoostBasico[:,[1]] * 0.6 + prediccionRandomForest[:,[1]] * 0.4)\n",
    "clientesAEvaluar.to_csv('entrega_XGBoostBasico y RF 2.csv',index=False)\n",
    "clientesAEvaluar.head(2)"
   ]
  },
  {
   "cell_type": "code",
   "execution_count": 56,
   "metadata": {
    "collapsed": true
   },
   "outputs": [],
   "source": [
    "#Otro ensamble, en lugar del promedio, asignarle pesos\n",
    "clientesAEvaluar['label'] = (prediccionXGBoostBasico[:,[1]] * 0.4 + prediccionRandomForest[:,[1]] * 0.6)\n",
    "clientesAEvaluar.to_csv('entrega_XGBoostBasico y RF 3.csv',index=False)\n",
    "clientesAEvaluar.head()\n"
   ]
  },
  {
   "cell_type": "code",
   "execution_count": null,
   "metadata": {
    "collapsed": true
   },
   "outputs": [],
   "source": []
  }
 ],
 "metadata": {
  "kernelspec": {
   "display_name": "Python 3",
   "language": "python",
   "name": "python3"
  },
  "language_info": {
   "codemirror_mode": {
    "name": "ipython",
    "version": 3
   },
   "file_extension": ".py",
   "mimetype": "text/x-python",
   "name": "python",
   "nbconvert_exporter": "python",
   "pygments_lexer": "ipython3",
   "version": "3.6.1"
  }
 },
 "nbformat": 4,
 "nbformat_minor": 2
}
