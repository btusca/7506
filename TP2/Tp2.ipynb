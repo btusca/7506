{
 "cells": [
  {
   "cell_type": "code",
   "execution_count": 1,
   "metadata": {},
   "outputs": [
    {
     "data": {
      "text/plain": [
       "'from sklearn import preprocessing # Para el procesador de los datos\\nfrom sklearn.preprocessing import Imputer # Para adoptar una estrategia para los missing values\\nfrom sklearn.preprocessing import LabelEncoder as Codificar # Para codificar variables categóricas\\nfrom sklearn.preprocessing import OneHotEncoder # Para pasar el LaberEncoder vector a OneHot matriz\\nfrom sklearn.preprocessing import MinMaxScaler # Para realizar el escalado en escala (0-1)\\nfrom sklearn.model_selection import train_test_split as Separar # Para dividir en los 2 conjuntos\\n#from statsmodels.tools.eval_measures import rmse # Para calcular el error\\nfrom sklearn.metrics import confusion_matrix as CM # Para construir la matriz de confusión\\nfrom matplotlib.colors import ListedColormap as Colors # Para pintar las regiones en Clasificación'"
      ]
     },
     "execution_count": 1,
     "metadata": {},
     "output_type": "execute_result"
    }
   ],
   "source": [
    "import numpy as np  # Librería para aplicar álgebra lineal\n",
    "import pandas as pd # Para manejar los datos (datasets)\n",
    "\n",
    "import matplotlib.pyplot as plt # Para las visualizaciones\n",
    "import seaborn as sns # Visualizaciones más fancy\n",
    "\n",
    "'''from sklearn import preprocessing # Para el procesador de los datos\n",
    "from sklearn.preprocessing import Imputer # Para adoptar una estrategia para los missing values\n",
    "from sklearn.preprocessing import LabelEncoder as Codificar # Para codificar variables categóricas\n",
    "from sklearn.preprocessing import OneHotEncoder # Para pasar el LaberEncoder vector a OneHot matriz\n",
    "from sklearn.preprocessing import MinMaxScaler # Para realizar el escalado en escala (0-1)\n",
    "from sklearn.model_selection import train_test_split as Separar # Para dividir en los 2 conjuntos\n",
    "#from statsmodels.tools.eval_measures import rmse # Para calcular el error\n",
    "from sklearn.metrics import confusion_matrix as CM # Para construir la matriz de confusión\n",
    "from matplotlib.colors import ListedColormap as Colors # Para pintar las regiones en Clasificación'''"
   ]
  },
  {
   "cell_type": "code",
   "execution_count": 2,
   "metadata": {},
   "outputs": [],
   "source": [
    "#Datos de entrada\n",
    "\n",
    "#Se especifican los tipo de datos para mejorar la performance\n",
    "eventos = pd.read_csv('../TP2018/fiuba-trocafone-tp2-final-set/events_up_to_01062018.csv', \n",
    "                      dtype={\"timestamp\": object,#intenté hacerla datetime y no anduvo \n",
    "                             \"event\": 'category',\n",
    "                             \"person\":object,\n",
    "                             \"url\":object,\n",
    "                             \"sku\":object,\n",
    "                             \"model\":object,\n",
    "                             \"condition\":'category',\n",
    "                             \"storage\":object,\n",
    "                             \"color\":'category',\n",
    "                             \"skus\":object,\n",
    "                             \"search_term\":object,\n",
    "                             \"staticpage\":object,\n",
    "                             \"campaign_source\":object,\n",
    "                             \"search_engine\":object,\n",
    "                             \"channel\":object,\n",
    "                             \"new_vs_returning\":'category',\n",
    "                             \"city\":object,\n",
    "                             \"region\":object,\n",
    "                             \"country\":object,\n",
    "                             \"device_type\":object,\n",
    "                             \"screen_resolution\":object,\n",
    "                             \"operating_system_version\":object,\n",
    "                             \"browser_version\":object})\n",
    "\n",
    "labels = pd.read_csv('../TP2018/fiuba-trocafone-tp2-final-set/labels_training_set.csv',\n",
    "                        dtype={\"person\":object, \"label\":bool})\n",
    "\n",
    "clientesAEvaluar = pd.read_csv('../TP2018/fiuba-trocafone-tp2-final-set/trocafone_kaggle_test.csv')"
   ]
  },
  {
   "cell_type": "code",
   "execution_count": 3,
   "metadata": {},
   "outputs": [
    {
     "data": {
      "text/html": [
       "<div>\n",
       "<style scoped>\n",
       "    .dataframe tbody tr th:only-of-type {\n",
       "        vertical-align: middle;\n",
       "    }\n",
       "\n",
       "    .dataframe tbody tr th {\n",
       "        vertical-align: top;\n",
       "    }\n",
       "\n",
       "    .dataframe thead th {\n",
       "        text-align: right;\n",
       "    }\n",
       "</style>\n",
       "<table border=\"1\" class=\"dataframe\">\n",
       "  <thead>\n",
       "    <tr style=\"text-align: right;\">\n",
       "      <th></th>\n",
       "      <th>timestamp</th>\n",
       "      <th>event</th>\n",
       "      <th>person</th>\n",
       "      <th>url</th>\n",
       "      <th>sku</th>\n",
       "      <th>model</th>\n",
       "      <th>condition</th>\n",
       "      <th>storage</th>\n",
       "      <th>color</th>\n",
       "      <th>skus</th>\n",
       "      <th>...</th>\n",
       "      <th>search_engine</th>\n",
       "      <th>channel</th>\n",
       "      <th>new_vs_returning</th>\n",
       "      <th>city</th>\n",
       "      <th>region</th>\n",
       "      <th>country</th>\n",
       "      <th>device_type</th>\n",
       "      <th>screen_resolution</th>\n",
       "      <th>operating_system_version</th>\n",
       "      <th>browser_version</th>\n",
       "    </tr>\n",
       "  </thead>\n",
       "  <tbody>\n",
       "    <tr>\n",
       "      <th>0</th>\n",
       "      <td>2018-05-18 00:11:59</td>\n",
       "      <td>viewed product</td>\n",
       "      <td>4886f805</td>\n",
       "      <td>NaN</td>\n",
       "      <td>9288.0</td>\n",
       "      <td>Samsung Galaxy J7 Prime</td>\n",
       "      <td>Excelente</td>\n",
       "      <td>32GB</td>\n",
       "      <td>Dourado</td>\n",
       "      <td>NaN</td>\n",
       "      <td>...</td>\n",
       "      <td>NaN</td>\n",
       "      <td>NaN</td>\n",
       "      <td>NaN</td>\n",
       "      <td>NaN</td>\n",
       "      <td>NaN</td>\n",
       "      <td>NaN</td>\n",
       "      <td>NaN</td>\n",
       "      <td>NaN</td>\n",
       "      <td>NaN</td>\n",
       "      <td>NaN</td>\n",
       "    </tr>\n",
       "    <tr>\n",
       "      <th>1</th>\n",
       "      <td>2018-05-18 00:11:27</td>\n",
       "      <td>viewed product</td>\n",
       "      <td>ad93850f</td>\n",
       "      <td>NaN</td>\n",
       "      <td>304.0</td>\n",
       "      <td>iPhone 5s</td>\n",
       "      <td>Muito Bom</td>\n",
       "      <td>32GB</td>\n",
       "      <td>Cinza espacial</td>\n",
       "      <td>NaN</td>\n",
       "      <td>...</td>\n",
       "      <td>NaN</td>\n",
       "      <td>NaN</td>\n",
       "      <td>NaN</td>\n",
       "      <td>NaN</td>\n",
       "      <td>NaN</td>\n",
       "      <td>NaN</td>\n",
       "      <td>NaN</td>\n",
       "      <td>NaN</td>\n",
       "      <td>NaN</td>\n",
       "      <td>NaN</td>\n",
       "    </tr>\n",
       "    <tr>\n",
       "      <th>2</th>\n",
       "      <td>2018-05-18 00:11:16</td>\n",
       "      <td>viewed product</td>\n",
       "      <td>0297fc1e</td>\n",
       "      <td>NaN</td>\n",
       "      <td>6888.0</td>\n",
       "      <td>iPhone 6S</td>\n",
       "      <td>Muito Bom</td>\n",
       "      <td>64GB</td>\n",
       "      <td>Prateado</td>\n",
       "      <td>NaN</td>\n",
       "      <td>...</td>\n",
       "      <td>NaN</td>\n",
       "      <td>NaN</td>\n",
       "      <td>NaN</td>\n",
       "      <td>NaN</td>\n",
       "      <td>NaN</td>\n",
       "      <td>NaN</td>\n",
       "      <td>NaN</td>\n",
       "      <td>NaN</td>\n",
       "      <td>NaN</td>\n",
       "      <td>NaN</td>\n",
       "    </tr>\n",
       "  </tbody>\n",
       "</table>\n",
       "<p>3 rows × 23 columns</p>\n",
       "</div>"
      ],
      "text/plain": [
       "             timestamp           event    person  url     sku  \\\n",
       "0  2018-05-18 00:11:59  viewed product  4886f805  NaN  9288.0   \n",
       "1  2018-05-18 00:11:27  viewed product  ad93850f  NaN   304.0   \n",
       "2  2018-05-18 00:11:16  viewed product  0297fc1e  NaN  6888.0   \n",
       "\n",
       "                     model  condition storage           color skus  \\\n",
       "0  Samsung Galaxy J7 Prime  Excelente    32GB         Dourado  NaN   \n",
       "1                iPhone 5s  Muito Bom    32GB  Cinza espacial  NaN   \n",
       "2                iPhone 6S  Muito Bom    64GB        Prateado  NaN   \n",
       "\n",
       "        ...       search_engine channel new_vs_returning city region country  \\\n",
       "0       ...                 NaN     NaN              NaN  NaN    NaN     NaN   \n",
       "1       ...                 NaN     NaN              NaN  NaN    NaN     NaN   \n",
       "2       ...                 NaN     NaN              NaN  NaN    NaN     NaN   \n",
       "\n",
       "  device_type screen_resolution operating_system_version browser_version  \n",
       "0         NaN               NaN                      NaN             NaN  \n",
       "1         NaN               NaN                      NaN             NaN  \n",
       "2         NaN               NaN                      NaN             NaN  \n",
       "\n",
       "[3 rows x 23 columns]"
      ]
     },
     "execution_count": 3,
     "metadata": {},
     "output_type": "execute_result"
    }
   ],
   "source": [
    "#Revisando el formato de los eventos\n",
    "eventos.head(3)"
   ]
  },
  {
   "cell_type": "code",
   "execution_count": 6,
   "metadata": {},
   "outputs": [
    {
     "name": "stdout",
     "output_type": "stream",
     "text": [
      "Cantidad de clientes que no sabemos: 19415\n",
      "Cantidad de clientes a clasificar: 19415\n"
     ]
    }
   ],
   "source": [
    "#Confirmando que coinnciden la cantidad de datos a clasificar\n",
    "print('Cantidad de clientes que no sabemos:', len(eventos['person'].unique())- len(labels))\n",
    "print('Cantidad de clientes a clasificar:',len(clientesAEvaluar))"
   ]
  },
  {
   "cell_type": "code",
   "execution_count": 9,
   "metadata": {},
   "outputs": [
    {
     "name": "stdout",
     "output_type": "stream",
     "text": [
      "Cantidades de conversiones:\n",
      "False    18434\n",
      "True       980\n",
      "Name: label, dtype: int64\n",
      "Proporción de conversiones:\n",
      "False    0.949521\n",
      "True     0.050479\n",
      "Name: label, dtype: float64\n"
     ]
    }
   ],
   "source": [
    "#Analizando los datos de entrenamiento\n",
    "print('Cantidades de conversiones:')\n",
    "print(labels['label'].value_counts())\n",
    "print('Proporción de conversiones:')\n",
    "print(labels['label'].value_counts(normalize=True))"
   ]
  },
  {
   "cell_type": "code",
   "execution_count": 10,
   "metadata": {
    "collapsed": true
   },
   "outputs": [],
   "source": [
    "#Agregamos algunos features a los existentes\n",
    "eventos['timestamp'] =  pd.to_datetime(eventos['timestamp'])\n",
    "eventos[['marca','modelo']] = eventos['model'].dropna().str.split(' ',n=1,expand=True)\n",
    "eventos['weekday'] = eventos['timestamp'].dt.day_name()\n",
    "eventos['hour'] = eventos['timestamp'].dt.hour\n",
    "eventos['month'] = eventos['timestamp'].dt.month\n",
    "eventos['day'] = eventos['timestamp'].dt.day"
   ]
  },
  {
   "cell_type": "markdown",
   "metadata": {},
   "source": [
    "### Vamos creando features: "
   ]
  },
  {
   "cell_type": "code",
   "execution_count": 21,
   "metadata": {},
   "outputs": [],
   "source": [
    "#Features en base al total de cada evento\n",
    "totalEvento = eventos.groupby('person')['event'].value_counts().unstack().reset_index()\n",
    "totalEvento.rename(lambda x: x if x == 'person' else 'total ' + x, axis = 1, inplace=True)\n",
    "\n",
    "#Features en base a la frecuencia de cada evento sobre el total (frecuencia relativa)\n",
    "frecEvento = eventos.groupby('person')['event'].value_counts(normalize=True).unstack().reset_index()\n",
    "frecEvento.rename(lambda x: x if x == 'person' else 'frec ' + x, axis = 1, inplace=True)\n",
    "\n",
    "#features en base a la frecuencia relativa de la marca de los dispositivos consultados\n",
    "frecMarca = eventos.groupby('person')['marca'].value_counts(normalize=True).unstack().reset_index()\n",
    "frecMarca.rename(lambda x: x if x == 'person' else 'frec ' + x, axis = 1, inplace=True)\n",
    "\n",
    "#features en base a la cantidad (frecuencia total) de eventos por mes\n",
    "totalMes = eventos.groupby('person')['month'].value_counts().unstack().reset_index()\n",
    "totalMes.rename({1:'total_enero',2:'total_febrero',3:'total_marzo',4:'total_abril',5:'total_mayo'}, \n",
    "                inplace=True, axis=1)\n",
    "\n",
    "#features en base a la frecuencia relativa de los dispositivos desde los que se accede\n",
    "frecDispositivo = eventos.groupby('person')['device_type'].value_counts(normalize=True).unstack().reset_index()\n",
    "frecDispositivo.rename(lambda x: x if x == 'person' else 'frec ' + x, axis=1, inplace=True)\n",
    "\n",
    "#features en base a la frecuencia relativa de los colores de los teléfonos vistos\n",
    "frecColor = eventos.groupby('person')['color'].value_counts(normalize=True).unstack().reset_index()\n",
    "frecColor.rename(lambda x: x if x == 'person' else 'frec color ' + x, axis=1, inplace=True)\n",
    "\n",
    "#features en base a la frecuencia relativa de los estados de los teléfonos consultados\n",
    "frecCondicion = eventos.groupby('person')['condition'].value_counts(normalize=True).unstack().reset_index()\n",
    "frecCondicion.rename(lambda x: x if x == 'person' else 'frec ' + x, axis=1, inplace=True)\n",
    "\n",
    "#features en base al la frecuencia relativa del día de semana en que se consultó\n",
    "frecDiaSemana = eventos.groupby('person')['weekday'].value_counts(normalize=True).unstack().reset_index().fillna(0)\n",
    "frecDiaSemana.rename(lambda x: x if x == 'person' else 'frec ' + x, axis=1, inplace=True)\n",
    "\n",
    "#features en base al día (a revisar, capaz convenga hacer algo en base al més y al día, o separar en quincenas)\n",
    "frecNroDia = eventos.groupby('person')['day'].value_counts(normalize=True).unstack().reset_index()\n",
    "frecNroDia.rename(lambda x: x if str(x) == 'person' else 'frec dia ' + str(x), axis=1, inplace=True)\n",
    "\n",
    "#Creamos los features del almacenamiento interno de los dispositivos consultados\n",
    "frecAlmacenamiento = eventos.groupby('person')['storage'].value_counts(normalize=True).unstack().reset_index()\n",
    "frecAlmacenamiento.rename(lambda x: x if x == 'person' else 'frec ' + x, axis=1, inplace=True)\n"
   ]
  },
  {
   "cell_type": "code",
   "execution_count": 23,
   "metadata": {},
   "outputs": [
    {
     "data": {
      "text/html": [
       "<div>\n",
       "<style scoped>\n",
       "    .dataframe tbody tr th:only-of-type {\n",
       "        vertical-align: middle;\n",
       "    }\n",
       "\n",
       "    .dataframe tbody tr th {\n",
       "        vertical-align: top;\n",
       "    }\n",
       "\n",
       "    .dataframe thead th {\n",
       "        text-align: right;\n",
       "    }\n",
       "</style>\n",
       "<table border=\"1\" class=\"dataframe\">\n",
       "  <thead>\n",
       "    <tr style=\"text-align: right;\">\n",
       "      <th></th>\n",
       "      <th>person</th>\n",
       "      <th>frec ad campaign hit</th>\n",
       "      <th>frec brand listing</th>\n",
       "      <th>frec checkout</th>\n",
       "      <th>frec conversion</th>\n",
       "      <th>frec generic listing</th>\n",
       "      <th>frec lead</th>\n",
       "      <th>frec search engine hit</th>\n",
       "      <th>frec searched products</th>\n",
       "      <th>frec staticpage</th>\n",
       "      <th>...</th>\n",
       "      <th>frec dia 30</th>\n",
       "      <th>frec dia 31</th>\n",
       "      <th>frec 128GB</th>\n",
       "      <th>frec 16GB</th>\n",
       "      <th>frec 256GB</th>\n",
       "      <th>frec 32GB</th>\n",
       "      <th>frec 4GB</th>\n",
       "      <th>frec 512MB</th>\n",
       "      <th>frec 64GB</th>\n",
       "      <th>frec 8GB</th>\n",
       "    </tr>\n",
       "  </thead>\n",
       "  <tbody>\n",
       "    <tr>\n",
       "      <th>0</th>\n",
       "      <td>0008ed71</td>\n",
       "      <td>NaN</td>\n",
       "      <td>NaN</td>\n",
       "      <td>0.500000</td>\n",
       "      <td>NaN</td>\n",
       "      <td>0.166667</td>\n",
       "      <td>NaN</td>\n",
       "      <td>NaN</td>\n",
       "      <td>NaN</td>\n",
       "      <td>NaN</td>\n",
       "      <td>...</td>\n",
       "      <td>NaN</td>\n",
       "      <td>NaN</td>\n",
       "      <td>NaN</td>\n",
       "      <td>NaN</td>\n",
       "      <td>NaN</td>\n",
       "      <td>0.666667</td>\n",
       "      <td>NaN</td>\n",
       "      <td>NaN</td>\n",
       "      <td>0.333333</td>\n",
       "      <td>NaN</td>\n",
       "    </tr>\n",
       "    <tr>\n",
       "      <th>1</th>\n",
       "      <td>00091926</td>\n",
       "      <td>0.033482</td>\n",
       "      <td>0.055804</td>\n",
       "      <td>0.004464</td>\n",
       "      <td>NaN</td>\n",
       "      <td>NaN</td>\n",
       "      <td>NaN</td>\n",
       "      <td>NaN</td>\n",
       "      <td>NaN</td>\n",
       "      <td>NaN</td>\n",
       "      <td>...</td>\n",
       "      <td>NaN</td>\n",
       "      <td>0.035714</td>\n",
       "      <td>0.128342</td>\n",
       "      <td>0.278075</td>\n",
       "      <td>0.026738</td>\n",
       "      <td>0.352941</td>\n",
       "      <td>NaN</td>\n",
       "      <td>NaN</td>\n",
       "      <td>0.213904</td>\n",
       "      <td>NaN</td>\n",
       "    </tr>\n",
       "  </tbody>\n",
       "</table>\n",
       "<p>2 rows × 157 columns</p>\n",
       "</div>"
      ],
      "text/plain": [
       "     person  frec ad campaign hit  frec brand listing  frec checkout  \\\n",
       "0  0008ed71                   NaN                 NaN       0.500000   \n",
       "1  00091926              0.033482            0.055804       0.004464   \n",
       "\n",
       "   frec conversion  frec generic listing  frec lead  frec search engine hit  \\\n",
       "0              NaN              0.166667        NaN                     NaN   \n",
       "1              NaN                   NaN        NaN                     NaN   \n",
       "\n",
       "   frec searched products  frec staticpage    ...     frec dia 30  \\\n",
       "0                     NaN              NaN    ...             NaN   \n",
       "1                     NaN              NaN    ...             NaN   \n",
       "\n",
       "   frec dia 31  frec 128GB  frec 16GB  frec 256GB  frec 32GB  frec 4GB  \\\n",
       "0          NaN         NaN        NaN         NaN   0.666667       NaN   \n",
       "1     0.035714    0.128342   0.278075    0.026738   0.352941       NaN   \n",
       "\n",
       "   frec 512MB  frec 64GB  frec 8GB  \n",
       "0         NaN   0.333333       NaN  \n",
       "1         NaN   0.213904       NaN  \n",
       "\n",
       "[2 rows x 157 columns]"
      ]
     },
     "execution_count": 23,
     "metadata": {},
     "output_type": "execute_result"
    }
   ],
   "source": [
    "#Empezamos a hacer el merge\n",
    "#No hay que olvidarse de hacer un outer left joins, si no se perderán filas\n",
    "#Empezamos con features con todas las filas (todos los clientes tienen eventos)\n",
    "features = frecEvento.merge(totalEvento, how='left', on='person')\n",
    "features = features.merge(frecMarca, how='left', on='person')\n",
    "features = features.merge(totalMes, how='left', on='person')\n",
    "features = features.merge(frecDispositivo, how='left', on='person')\n",
    "features = features.merge(frecColor, how='left', on='person')\n",
    "features = features.merge(frecCondicion, how='left', on='person')\n",
    "features = features.merge(frecDiaSemana, how='left', on='person')\n",
    "features = features.merge(frecNroDia, how='left', on='person')\n",
    "features = features.merge(frecAlmacenamiento, how='left', on='person')\n",
    "\n",
    "features.head(2)\n",
    "\n",
    "\n",
    "\n",
    "\n"
   ]
  },
  {
   "cell_type": "code",
   "execution_count": null,
   "metadata": {
    "collapsed": true
   },
   "outputs": [],
   "source": []
  },
  {
   "cell_type": "markdown",
   "metadata": {
    "collapsed": true
   },
   "source": [
    "#### Seguir con feature engeneering, agregando features. Algunas ideas: \n",
    "*    Modelo más consultado\n",
    "*    dividir el mes en 3 o 4 y ver cuantos eventos se generaron en determinadas epocas del mes\n",
    "*    Modelo mas consultado\n",
    "*    navegador más usado (capaz ver los 3 o 5 más frecuentes y una columna otros)\n",
    "*    etc"
   ]
  },
  {
   "cell_type": "code",
   "execution_count": null,
   "metadata": {
    "collapsed": true
   },
   "outputs": [],
   "source": []
  },
  {
   "cell_type": "markdown",
   "metadata": {},
   "source": [
    "## Machine learning\n",
    "### Primer algoritmo usado: Random Forest"
   ]
  },
  {
   "cell_type": "code",
   "execution_count": 25,
   "metadata": {},
   "outputs": [],
   "source": [
    "#Reemplazo NaNs por ceros\n",
    "features = features.fillna(0)\n",
    "\n",
    "#Cargamos X e y para trabajar con Random Forest (y otros algoritmos luego).\n",
    "X = pd.merge(features, labels, on='person')\n",
    "X.drop('person', axis=1, inplace=True)\n",
    "X = X.fillna(0)\n",
    "y = X.pop('label')\n"
   ]
  },
  {
   "cell_type": "code",
   "execution_count": 26,
   "metadata": {
    "collapsed": true
   },
   "outputs": [],
   "source": [
    "'''Tomamos \"prestada\" una función para presentar prolijamente los n features más importantes.\n",
    "La función fue tomada casi literal de:\n",
    "    https://github.com/Featuretools/predict-next-purchase/blob/master/utils.py\n",
    "'''\n",
    "def feature_importances(model, features, n=10):\n",
    "    importances = model.feature_importances_\n",
    "    zipped = sorted(zip(features, importances), key=lambda x: -x[1])\n",
    "    for i, f in enumerate(zipped[:n]):\n",
    "        print(\"%d: Feature: %s, %.3f\" % (i+1, f[0], f[1]))\n",
    "\n",
    "    return [f[0] for f in zipped[:n]]"
   ]
  },
  {
   "cell_type": "code",
   "execution_count": 27,
   "metadata": {
    "collapsed": true
   },
   "outputs": [],
   "source": [
    "#Cargamos las bibliotecas para usar y validar Random Forest\n",
    "from sklearn.ensemble import RandomForestClassifier\n",
    "from sklearn.model_selection import cross_val_score"
   ]
  },
  {
   "cell_type": "code",
   "execution_count": 28,
   "metadata": {
    "collapsed": true
   },
   "outputs": [],
   "source": [
    "#Creamos el clasificador\n",
    "'''Nota: Tomamos una configuración de random forest encontrada en:\n",
    "    https://www.datacamp.com/community/tutorials/random-forests-classifier-python'''\n",
    "\n",
    "clf = RandomForestClassifier(bootstrap=True, class_weight=None, criterion='gini',\n",
    "            max_depth=None, max_features='auto', max_leaf_nodes=None,\n",
    "            min_samples_leaf=1, min_samples_split=2,\n",
    "            min_weight_fraction_leaf=0.0, n_estimators=400, n_jobs=-1,\n",
    "            oob_score=False, random_state=None, verbose=0,\n",
    "            warm_start=False)\n",
    "#Otra version:\n",
    "#clf = RandomForestClassifier(n_estimators=400, n_jobs=-1)"
   ]
  },
  {
   "cell_type": "code",
   "execution_count": 29,
   "metadata": {},
   "outputs": [
    {
     "name": "stderr",
     "output_type": "stream",
     "text": [
      "[Parallel(n_jobs=1)]: Done   3 out of   3 | elapsed:   44.7s finished\n"
     ]
    },
    {
     "data": {
      "text/plain": [
       "'AUC 0.85 +/- 0.01'"
      ]
     },
     "execution_count": 29,
     "metadata": {},
     "output_type": "execute_result"
    }
   ],
   "source": [
    "#Probamos qué tan bien viene clasificando nuestro modelo\n",
    "\n",
    "scores = cross_val_score(estimator=clf,X=X, y=y, cv=3,\n",
    "                         scoring=\"roc_auc\", verbose=True)\n",
    "\n",
    "\"AUC %.2f +/- %.2f\" % (scores.mean(), scores.std())"
   ]
  },
  {
   "cell_type": "code",
   "execution_count": 30,
   "metadata": {},
   "outputs": [
    {
     "name": "stdout",
     "output_type": "stream",
     "text": [
      "1: Feature: frec checkout, 0.039\n",
      "2: Feature: total checkout, 0.033\n",
      "3: Feature: total_mayo, 0.029\n",
      "4: Feature: frec viewed product, 0.022\n",
      "5: Feature: frec visited site, 0.021\n",
      "6: Feature: total viewed product, 0.019\n",
      "7: Feature: frec ad campaign hit, 0.019\n",
      "8: Feature: frec generic listing, 0.019\n",
      "9: Feature: frec search engine hit, 0.019\n",
      "10: Feature: frec brand listing, 0.017\n",
      "11: Feature: frec Bom, 0.017\n",
      "12: Feature: frec color Dourado, 0.016\n",
      "13: Feature: frec Muito Bom, 0.016\n",
      "14: Feature: frec 16GB, 0.016\n",
      "15: Feature: frec color Preto, 0.016\n",
      "16: Feature: total brand listing, 0.015\n",
      "17: Feature: frec 32GB, 0.015\n",
      "18: Feature: frec Excelente, 0.014\n",
      "19: Feature: total generic listing, 0.014\n",
      "20: Feature: total ad campaign hit, 0.014\n"
     ]
    }
   ],
   "source": [
    "#Vemos cuales fueron los features más relevantes, aprovechando las bondades de Random Forests\n",
    "clf.fit(X,y)\n",
    "top_features = feature_importances(clf, X.columns, n=20)"
   ]
  },
  {
   "cell_type": "code",
   "execution_count": 31,
   "metadata": {},
   "outputs": [
    {
     "data": {
      "text/html": [
       "<div>\n",
       "<style scoped>\n",
       "    .dataframe tbody tr th:only-of-type {\n",
       "        vertical-align: middle;\n",
       "    }\n",
       "\n",
       "    .dataframe tbody tr th {\n",
       "        vertical-align: top;\n",
       "    }\n",
       "\n",
       "    .dataframe thead th {\n",
       "        text-align: right;\n",
       "    }\n",
       "</style>\n",
       "<table border=\"1\" class=\"dataframe\">\n",
       "  <thead>\n",
       "    <tr style=\"text-align: right;\">\n",
       "      <th></th>\n",
       "      <th>frec checkout</th>\n",
       "      <th>total checkout</th>\n",
       "      <th>total_mayo</th>\n",
       "      <th>frec viewed product</th>\n",
       "      <th>frec visited site</th>\n",
       "      <th>total viewed product</th>\n",
       "      <th>frec ad campaign hit</th>\n",
       "      <th>frec generic listing</th>\n",
       "      <th>frec search engine hit</th>\n",
       "      <th>frec brand listing</th>\n",
       "      <th>frec Bom</th>\n",
       "      <th>frec color Dourado</th>\n",
       "      <th>frec Muito Bom</th>\n",
       "      <th>frec 16GB</th>\n",
       "      <th>frec color Preto</th>\n",
       "      <th>total brand listing</th>\n",
       "      <th>frec 32GB</th>\n",
       "      <th>frec Excelente</th>\n",
       "      <th>total generic listing</th>\n",
       "      <th>total ad campaign hit</th>\n",
       "    </tr>\n",
       "  </thead>\n",
       "  <tbody>\n",
       "    <tr>\n",
       "      <th>0</th>\n",
       "      <td>0.500000</td>\n",
       "      <td>3.0</td>\n",
       "      <td>6.0</td>\n",
       "      <td>0.000000</td>\n",
       "      <td>0.333333</td>\n",
       "      <td>0.0</td>\n",
       "      <td>0.000000</td>\n",
       "      <td>0.166667</td>\n",
       "      <td>0.000000</td>\n",
       "      <td>0.0</td>\n",
       "      <td>0.666667</td>\n",
       "      <td>0.333333</td>\n",
       "      <td>0.333333</td>\n",
       "      <td>0.0</td>\n",
       "      <td>0.333333</td>\n",
       "      <td>0.0</td>\n",
       "      <td>0.666667</td>\n",
       "      <td>0.0</td>\n",
       "      <td>1.0</td>\n",
       "      <td>0.0</td>\n",
       "    </tr>\n",
       "    <tr>\n",
       "      <th>1</th>\n",
       "      <td>0.058824</td>\n",
       "      <td>1.0</td>\n",
       "      <td>17.0</td>\n",
       "      <td>0.176471</td>\n",
       "      <td>0.058824</td>\n",
       "      <td>3.0</td>\n",
       "      <td>0.058824</td>\n",
       "      <td>0.058824</td>\n",
       "      <td>0.058824</td>\n",
       "      <td>0.0</td>\n",
       "      <td>1.000000</td>\n",
       "      <td>0.000000</td>\n",
       "      <td>0.000000</td>\n",
       "      <td>0.0</td>\n",
       "      <td>0.000000</td>\n",
       "      <td>0.0</td>\n",
       "      <td>0.000000</td>\n",
       "      <td>0.0</td>\n",
       "      <td>1.0</td>\n",
       "      <td>1.0</td>\n",
       "    </tr>\n",
       "  </tbody>\n",
       "</table>\n",
       "</div>"
      ],
      "text/plain": [
       "   frec checkout  total checkout  total_mayo  frec viewed product  \\\n",
       "0       0.500000             3.0         6.0             0.000000   \n",
       "1       0.058824             1.0        17.0             0.176471   \n",
       "\n",
       "   frec visited site  total viewed product  frec ad campaign hit  \\\n",
       "0           0.333333                   0.0              0.000000   \n",
       "1           0.058824                   3.0              0.058824   \n",
       "\n",
       "   frec generic listing  frec search engine hit  frec brand listing  frec Bom  \\\n",
       "0              0.166667                0.000000                 0.0  0.666667   \n",
       "1              0.058824                0.058824                 0.0  1.000000   \n",
       "\n",
       "   frec color Dourado  frec Muito Bom  frec 16GB  frec color Preto  \\\n",
       "0            0.333333        0.333333        0.0          0.333333   \n",
       "1            0.000000        0.000000        0.0          0.000000   \n",
       "\n",
       "   total brand listing  frec 32GB  frec Excelente  total generic listing  \\\n",
       "0                  0.0   0.666667             0.0                    1.0   \n",
       "1                  0.0   0.000000             0.0                    1.0   \n",
       "\n",
       "   total ad campaign hit  \n",
       "0                    0.0  \n",
       "1                    1.0  "
      ]
     },
     "execution_count": 31,
     "metadata": {},
     "output_type": "execute_result"
    }
   ],
   "source": [
    "#vemos cómo quedaría una pequeña muestra de la matriz de features con los más relevantes\n",
    "X.loc[:,top_features].head(2)"
   ]
  },
  {
   "cell_type": "code",
   "execution_count": 32,
   "metadata": {},
   "outputs": [
    {
     "name": "stderr",
     "output_type": "stream",
     "text": [
      "[Parallel(n_jobs=1)]: Done   3 out of   3 | elapsed:   24.4s finished\n"
     ]
    },
    {
     "data": {
      "text/plain": [
       "'AUC 0.81 +/- 0.01'"
      ]
     },
     "execution_count": 32,
     "metadata": {},
     "output_type": "execute_result"
    }
   ],
   "source": [
    "#Pruebo de nuevo los random forest con los resultados obtenidos de mejores clasificadores\n",
    "X_reducido = X.loc[:,top_features]\n",
    "scores = cross_val_score(estimator=clf,X=X_reducido, y=y, cv=3,\n",
    "                         scoring=\"roc_auc\", verbose=True)\n",
    "\n",
    "\"AUC %.2f +/- %.2f\" % (scores.mean(), scores.std())"
   ]
  },
  {
   "cell_type": "code",
   "execution_count": 35,
   "metadata": {},
   "outputs": [
    {
     "name": "stdout",
     "output_type": "stream",
     "text": [
      "total del set de entrenamiento que convirtieron: 980\n",
      "total del set de entrenamiento que predice que convertirán: 979\n"
     ]
    }
   ],
   "source": [
    "#Veamos cuantos predice que convierten en los 15 primeros días de junio\n",
    "clf.fit(X,y)\n",
    "prediccionTest = clf.predict(X=X)\n",
    "print('total del set de entrenamiento que convirtieron:', labels['label'].sum())\n",
    "print('total del set de entrenamiento que predice que convertirán:',pd.Series(prediccionTest).sum())"
   ]
  },
  {
   "cell_type": "markdown",
   "metadata": {},
   "source": [
    "## Vamos a probar otro clasificador: XGBoost"
   ]
  },
  {
   "cell_type": "code",
   "execution_count": 39,
   "metadata": {
    "collapsed": true
   },
   "outputs": [],
   "source": [
    "#Primero importamos las bibliotecas que necesitaremos\n",
    "import xgboost as xgb\n",
    "\n",
    "#Para preparar sets de entrenamiento y prueba\n",
    "from sklearn.model_selection import train_test_split  \n",
    "\n",
    "#Nos traemos bibliotecas para medir la performance\n",
    "from sklearn.metrics import classification_report\n",
    "from sklearn.metrics import accuracy_score\n"
   ]
  },
  {
   "cell_type": "code",
   "execution_count": 37,
   "metadata": {
    "collapsed": true
   },
   "outputs": [],
   "source": [
    "#Hacemos una división de set de test y entrenamiento, y le ponemos una semilla arbitraria por si queremos replicarlo\n",
    "seed = 1234\n",
    "X_train, X_test, y_train, y_test = train_test_split(X, y, test_size=0.2, random_state=seed)"
   ]
  },
  {
   "cell_type": "code",
   "execution_count": 44,
   "metadata": {},
   "outputs": [
    {
     "name": "stdout",
     "output_type": "stream",
     "text": [
      "Precisión modeloBasico con ntree_limit= 81 : 95.93\n",
      "AUC 0.85 +/- 0.00\n"
     ]
    },
    {
     "name": "stderr",
     "output_type": "stream",
     "text": [
      "[Parallel(n_jobs=1)]: Done   3 out of   3 | elapsed:   25.6s finished\n"
     ]
    }
   ],
   "source": [
    "#Probamos el modelo más sencillo de XGBoost, con los parámetros por defecto\n",
    "modeloBasico = xgb.XGBClassifier()\n",
    "train_modeloBasico = modeloBasico.fit(X_train, y_train)\n",
    "\n",
    "\n",
    "mejor_n_limit = 0\n",
    "mejor_precision = 0\n",
    "for i in range(200):\n",
    "    prediccion = train_modeloBasico.predict_proba(X_test, ntree_limit=i)\n",
    "    precision = accuracy_score(y_test, prediccion[:,[1]] > 0.5) * 100\n",
    "    if(precision > mejor_precision):\n",
    "        mejor_precision = precision\n",
    "        mejor_n_limit = i\n",
    "    \n",
    "print(\"Precisión modeloBasico con ntree_limit=\",mejor_n_limit,\": %.2f\" % mejor_precision)\n",
    "\n",
    "scores = cross_val_score(estimator=train_modeloBasico,X=X, y=y, cv=3,\n",
    "                         scoring=\"roc_auc\", verbose=True)\n",
    "print(\"AUC %.2f +/- %.2f\" % (scores.mean(), scores.std()))\n"
   ]
  },
  {
   "cell_type": "code",
   "execution_count": null,
   "metadata": {
    "collapsed": true
   },
   "outputs": [],
   "source": []
  },
  {
   "cell_type": "markdown",
   "metadata": {},
   "source": [
    "## Preparamos los datos que necesitamos clasificar"
   ]
  },
  {
   "cell_type": "code",
   "execution_count": 46,
   "metadata": {},
   "outputs": [
    {
     "name": "stdout",
     "output_type": "stream",
     "text": [
      "cantidad de datos: 19415\n"
     ]
    },
    {
     "data": {
      "text/html": [
       "<div>\n",
       "<style scoped>\n",
       "    .dataframe tbody tr th:only-of-type {\n",
       "        vertical-align: middle;\n",
       "    }\n",
       "\n",
       "    .dataframe tbody tr th {\n",
       "        vertical-align: top;\n",
       "    }\n",
       "\n",
       "    .dataframe thead th {\n",
       "        text-align: right;\n",
       "    }\n",
       "</style>\n",
       "<table border=\"1\" class=\"dataframe\">\n",
       "  <thead>\n",
       "    <tr style=\"text-align: right;\">\n",
       "      <th></th>\n",
       "      <th>person</th>\n",
       "      <th>frec ad campaign hit</th>\n",
       "      <th>frec brand listing</th>\n",
       "      <th>frec checkout</th>\n",
       "      <th>frec conversion</th>\n",
       "      <th>frec generic listing</th>\n",
       "      <th>frec lead</th>\n",
       "      <th>frec search engine hit</th>\n",
       "      <th>frec searched products</th>\n",
       "      <th>frec staticpage</th>\n",
       "      <th>...</th>\n",
       "      <th>frec dia 30</th>\n",
       "      <th>frec dia 31</th>\n",
       "      <th>frec 128GB</th>\n",
       "      <th>frec 16GB</th>\n",
       "      <th>frec 256GB</th>\n",
       "      <th>frec 32GB</th>\n",
       "      <th>frec 4GB</th>\n",
       "      <th>frec 512MB</th>\n",
       "      <th>frec 64GB</th>\n",
       "      <th>frec 8GB</th>\n",
       "    </tr>\n",
       "  </thead>\n",
       "  <tbody>\n",
       "    <tr>\n",
       "      <th>0</th>\n",
       "      <td>4886f805</td>\n",
       "      <td>0.000000</td>\n",
       "      <td>0.000000</td>\n",
       "      <td>0.111111</td>\n",
       "      <td>0.0</td>\n",
       "      <td>0.111111</td>\n",
       "      <td>0.000000</td>\n",
       "      <td>0.111111</td>\n",
       "      <td>0.111111</td>\n",
       "      <td>0.0</td>\n",
       "      <td>...</td>\n",
       "      <td>0.000000</td>\n",
       "      <td>0.000000</td>\n",
       "      <td>0.000000</td>\n",
       "      <td>0.000000</td>\n",
       "      <td>0.000000</td>\n",
       "      <td>1.000000</td>\n",
       "      <td>0.0</td>\n",
       "      <td>0.0</td>\n",
       "      <td>0.000000</td>\n",
       "      <td>0.0</td>\n",
       "    </tr>\n",
       "    <tr>\n",
       "      <th>1</th>\n",
       "      <td>0297fc1e</td>\n",
       "      <td>0.051146</td>\n",
       "      <td>0.007055</td>\n",
       "      <td>0.012346</td>\n",
       "      <td>0.0</td>\n",
       "      <td>0.037037</td>\n",
       "      <td>0.001764</td>\n",
       "      <td>0.000000</td>\n",
       "      <td>0.010582</td>\n",
       "      <td>0.0</td>\n",
       "      <td>...</td>\n",
       "      <td>0.024691</td>\n",
       "      <td>0.007055</td>\n",
       "      <td>0.121655</td>\n",
       "      <td>0.311436</td>\n",
       "      <td>0.014599</td>\n",
       "      <td>0.082725</td>\n",
       "      <td>0.0</td>\n",
       "      <td>0.0</td>\n",
       "      <td>0.469586</td>\n",
       "      <td>0.0</td>\n",
       "    </tr>\n",
       "  </tbody>\n",
       "</table>\n",
       "<p>2 rows × 157 columns</p>\n",
       "</div>"
      ],
      "text/plain": [
       "     person  frec ad campaign hit  frec brand listing  frec checkout  \\\n",
       "0  4886f805              0.000000            0.000000       0.111111   \n",
       "1  0297fc1e              0.051146            0.007055       0.012346   \n",
       "\n",
       "   frec conversion  frec generic listing  frec lead  frec search engine hit  \\\n",
       "0              0.0              0.111111   0.000000                0.111111   \n",
       "1              0.0              0.037037   0.001764                0.000000   \n",
       "\n",
       "   frec searched products  frec staticpage    ...     frec dia 30  \\\n",
       "0                0.111111              0.0    ...        0.000000   \n",
       "1                0.010582              0.0    ...        0.024691   \n",
       "\n",
       "   frec dia 31  frec 128GB  frec 16GB  frec 256GB  frec 32GB  frec 4GB  \\\n",
       "0     0.000000    0.000000   0.000000    0.000000   1.000000       0.0   \n",
       "1     0.007055    0.121655   0.311436    0.014599   0.082725       0.0   \n",
       "\n",
       "   frec 512MB  frec 64GB  frec 8GB  \n",
       "0         0.0   0.000000       0.0  \n",
       "1         0.0   0.469586       0.0  \n",
       "\n",
       "[2 rows x 157 columns]"
      ]
     },
     "execution_count": 46,
     "metadata": {},
     "output_type": "execute_result"
    }
   ],
   "source": [
    "datosTest = clientesAEvaluar.merge(features, on='person',how='inner')\n",
    "print('cantidad de datos:',len(datosTest))\n",
    "datosTest.head(2)"
   ]
  },
  {
   "cell_type": "code",
   "execution_count": 48,
   "metadata": {},
   "outputs": [
    {
     "name": "stdout",
     "output_type": "stream",
     "text": [
      "cantidad de personas en total: 38829\n",
      "cantidad de personas para training: 19414\n",
      "cantidad de personas para evaluar: 19415\n",
      "cantidad de personas en clientes agrupados: 38829\n"
     ]
    }
   ],
   "source": [
    "#Verifico que no se hayan \"perdido\" filas en el camino (un merge mal definido capaz?)\n",
    "print('cantidad de personas en total:',len(eventos['person'].unique()))\n",
    "print('cantidad de personas para training:',len(labels))\n",
    "print('cantidad de personas para evaluar:',len(clientesAEvaluar))\n",
    "print('cantidad de personas en clientes agrupados:',len(features))"
   ]
  },
  {
   "cell_type": "code",
   "execution_count": 49,
   "metadata": {
    "collapsed": true
   },
   "outputs": [],
   "source": [
    "#Haciendo las predicciones con el modelo de Random Forest\n",
    "clf.fit(X,y)\n",
    "prediccionRandomForest = clf.predict_proba(X=datosTest.drop('person', axis=1).fillna(0))"
   ]
  },
  {
   "cell_type": "code",
   "execution_count": 51,
   "metadata": {},
   "outputs": [
    {
     "name": "stdout",
     "output_type": "stream",
     "text": [
      "3689\tclientes con p > 0.10 de convertir\n",
      "1183\tclientes con p > 0.20 de convertir\n",
      "224\tclientes con p > 0.30 de convertir\n",
      "29\tclientes con p > 0.40 de convertir\n",
      "3\tclientes con p > 0.50 de convertir\n"
     ]
    }
   ],
   "source": [
    "for i in range(1,6):\n",
    "    print('%d\\tclientes con p > %.2f de convertir' % ((prediccionRandomForest[:,[1]] > i/10).sum(),i/10))"
   ]
  },
  {
   "cell_type": "code",
   "execution_count": 52,
   "metadata": {
    "collapsed": true
   },
   "outputs": [],
   "source": [
    "#Haciendo predicciones con el modelo básico de XGBoost\n",
    "prediccionXGBoostBasico = train_modeloBasico.predict_proba(data=datosTest.drop('person', axis=1).fillna(0),\n",
    "                                                           ntree_limit=mejor_n_limit) \n",
    "#Habrá que ver si no \"overfittea\" al ponerle el mejor n_limit"
   ]
  },
  {
   "cell_type": "code",
   "execution_count": 53,
   "metadata": {},
   "outputs": [
    {
     "name": "stdout",
     "output_type": "stream",
     "text": [
      "3378\tclientes con p > 0.10 de convertir\n",
      "1089\tclientes con p > 0.20 de convertir\n",
      "266\tclientes con p > 0.30 de convertir\n",
      "115\tclientes con p > 0.40 de convertir\n",
      "76\tclientes con p > 0.50 de convertir\n"
     ]
    }
   ],
   "source": [
    "for i in range(1,6):\n",
    "    print('%d\\tclientes con p > %.2f de convertir' % ((prediccionXGBoostBasico[:,[1]] > i/10).sum(),i/10))"
   ]
  },
  {
   "cell_type": "code",
   "execution_count": 54,
   "metadata": {},
   "outputs": [
    {
     "data": {
      "text/html": [
       "<div>\n",
       "<style scoped>\n",
       "    .dataframe tbody tr th:only-of-type {\n",
       "        vertical-align: middle;\n",
       "    }\n",
       "\n",
       "    .dataframe tbody tr th {\n",
       "        vertical-align: top;\n",
       "    }\n",
       "\n",
       "    .dataframe thead th {\n",
       "        text-align: right;\n",
       "    }\n",
       "</style>\n",
       "<table border=\"1\" class=\"dataframe\">\n",
       "  <thead>\n",
       "    <tr style=\"text-align: right;\">\n",
       "      <th></th>\n",
       "      <th>person</th>\n",
       "      <th>label</th>\n",
       "    </tr>\n",
       "  </thead>\n",
       "  <tbody>\n",
       "    <tr>\n",
       "      <th>0</th>\n",
       "      <td>4886f805</td>\n",
       "      <td>0.007859</td>\n",
       "    </tr>\n",
       "    <tr>\n",
       "      <th>1</th>\n",
       "      <td>0297fc1e</td>\n",
       "      <td>0.060922</td>\n",
       "    </tr>\n",
       "    <tr>\n",
       "      <th>2</th>\n",
       "      <td>2d681dd8</td>\n",
       "      <td>0.020292</td>\n",
       "    </tr>\n",
       "    <tr>\n",
       "      <th>3</th>\n",
       "      <td>cccea85e</td>\n",
       "      <td>0.091669</td>\n",
       "    </tr>\n",
       "    <tr>\n",
       "      <th>4</th>\n",
       "      <td>4c8a8b93</td>\n",
       "      <td>0.036538</td>\n",
       "    </tr>\n",
       "  </tbody>\n",
       "</table>\n",
       "</div>"
      ],
      "text/plain": [
       "     person     label\n",
       "0  4886f805  0.007859\n",
       "1  0297fc1e  0.060922\n",
       "2  2d681dd8  0.020292\n",
       "3  cccea85e  0.091669\n",
       "4  4c8a8b93  0.036538"
      ]
     },
     "execution_count": 54,
     "metadata": {},
     "output_type": "execute_result"
    }
   ],
   "source": [
    "#Nos quedamos con el modelo de XGBoost\n",
    "clientesAEvaluar['label'] = prediccionXGBoostBasico[:,[1]]\n",
    "clientesAEvaluar.head()"
   ]
  },
  {
   "cell_type": "code",
   "execution_count": 55,
   "metadata": {
    "collapsed": true
   },
   "outputs": [],
   "source": [
    "#Exportamos el archivo a subir. De esta manera tiene el formato correcto. \n",
    "#Notar que así lo deja en el directorio de la notebook\n",
    "clientesAEvaluar.to_csv('entrega_XGBoostBasico.csv',index=False)"
   ]
  },
  {
   "cell_type": "markdown",
   "metadata": {},
   "source": [
    "#### Con la entrega anterior llegamos a 0.85443."
   ]
  },
  {
   "cell_type": "code",
   "execution_count": null,
   "metadata": {
    "collapsed": true
   },
   "outputs": [],
   "source": []
  }
 ],
 "metadata": {
  "kernelspec": {
   "display_name": "Python 3",
   "language": "python",
   "name": "python3"
  },
  "language_info": {
   "codemirror_mode": {
    "name": "ipython",
    "version": 3
   },
   "file_extension": ".py",
   "mimetype": "text/x-python",
   "name": "python",
   "nbconvert_exporter": "python",
   "pygments_lexer": "ipython3",
   "version": "3.6.1"
  }
 },
 "nbformat": 4,
 "nbformat_minor": 2
}
